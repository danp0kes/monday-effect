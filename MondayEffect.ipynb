{
 "cells": [
  {
   "cell_type": "markdown",
   "id": "54d508ef-eba0-4b8d-bbdc-9f13330a458f",
   "metadata": {},
   "source": [
    "# The Weekend & Monday Effects \n",
    "\n",
    "## Introduction\n",
    "\n",
    "### The Weekend Effect\n",
    "\n",
    "The Weekend Effect suggests that stock returns are higher on days directly before the weekend than days directly after. For instance, the difference between the opening and closing price on a Friday results in gains that are bigger than gains found between the opening and closing prices on the following Monday. This theory will be tested and its extent measured to find potential anomalies in the market. Gains on other weekdays will also monitored to determine which day results in the best profits.\n",
    "\n",
    "#### Key Questions\n",
    "\n",
    "Do Fridays result in higher return than Mondays generally? How often are Friday's returns higher than Mondays? To what extent and by how much does the difference between returns vary? How do these results compare to other days? How do they vary over time?\n",
    "\n",
    "### The Monday Effect\n",
    "\n",
    "The Monday effect also replicates a weekend stock behaviour. This theory suggests that a stock on a day following the weekend will continue to trend in the direction that was set before the weekend. For instance, if a stock on Friday is trending upwards, the stock on Monday will also trend upwards.\n",
    "\n",
    "#### Key Questions\n",
    "\n",
    "Do trends continue past the weekend? Are Friday and Monday returns significantly correlated? How does this correlation compare to other days? How does this vary over time? Does the current trend influence the trend of the next period?\n",
    "\n",
    "### Setup\n",
    "\n",
    "Both the Weekend and Monday effect will be tested using data from the S&P 500, an index fund with a long history of data. A dataframe will be consolidated to calculate returns. Data will be selected, cut, and merged to compare days and their respective open and close prices. Weekend data is created to compare Friday's accompanying Monday data. Only then can trends be added.\n",
    "\n",
    "### Analysis\n",
    "Our analysis will first look to the validity of the Weekend and Monday Effects. Once they have been understood, key insights about how they could be used to find anomalies in the market will be discussed. A Risk-Reward analysis will also be completed to decide the best day to invest in the market"
   ]
  },
  {
   "cell_type": "markdown",
   "id": "cc1c7c5f-709e-4493-a751-2805031356d6",
   "metadata": {},
   "source": [
    "## Create DataFrame\n",
    "Our set portfolio will look to the S&P 500. Import packages, read in csv files, and consolidate columns of open and closing prices."
   ]
  },
  {
   "cell_type": "markdown",
   "id": "e1b45117-9d44-46f1-b37f-e773b4b4fa76",
   "metadata": {},
   "source": [
    "### Import Packages"
   ]
  },
  {
   "cell_type": "code",
   "execution_count": 136,
   "id": "46819bc3-42a0-4eb4-8324-c735d9ed701d",
   "metadata": {},
   "outputs": [],
   "source": [
    "#Import relevant packages\n",
    "import numpy as np\n",
    "import pandas as pd\n",
    "import matplotlib.pyplot as plt\n",
    "import seaborn as sns\n",
    "import plotly.express as px"
   ]
  },
  {
   "cell_type": "markdown",
   "id": "ce08cec0-bc9f-42e4-87ac-3f33602f03dc",
   "metadata": {},
   "source": [
    "### Read CSV Files"
   ]
  },
  {
   "cell_type": "code",
   "execution_count": 137,
   "id": "f52bab24-24bc-4629-b715-88007826d15c",
   "metadata": {},
   "outputs": [],
   "source": [
    "#Read CSV files, keep relevant columns, parse dates on date column\n",
    "sp = pd.read_csv('data/SPX.csv', usecols =['Date','Close','Open'], parse_dates=['Date'])"
   ]
  },
  {
   "cell_type": "markdown",
   "id": "0b3a4388-2cc5-4640-8d6e-15f9c3c98186",
   "metadata": {},
   "source": [
    "### Drop Duplicates "
   ]
  },
  {
   "cell_type": "code",
   "execution_count": 138,
   "id": "0dd8b83b-74bf-41c4-a377-3990a5c30e97",
   "metadata": {},
   "outputs": [],
   "source": [
    "#Drop using query as open not equal to close\n",
    "sp = sp.query('Open != Close')"
   ]
  },
  {
   "cell_type": "markdown",
   "id": "0575cc40-7793-47c4-a624-87a3cf5f3741",
   "metadata": {},
   "source": [
    "### Drop Zero Values"
   ]
  },
  {
   "cell_type": "code",
   "execution_count": 139,
   "id": "86c67e6e-af06-4e18-b686-e0bcf39e00ac",
   "metadata": {},
   "outputs": [],
   "source": [
    "#Drop zero values\n",
    "sp = sp.query('Open != 0')"
   ]
  },
  {
   "cell_type": "markdown",
   "id": "9bf012b3-575f-4629-a4d6-1486cb224983",
   "metadata": {},
   "source": [
    "### Consolidate\n",
    "\n",
    "To compare open and close price returns over the weekend, both columns need to be consolidated. The return can then be calculated. "
   ]
  },
  {
   "cell_type": "code",
   "execution_count": 140,
   "id": "0c386223-33b6-4dca-8002-c6aa56a3bb7c",
   "metadata": {},
   "outputs": [],
   "source": [
    "#apply melt to consolidate, save open and close variables as time and value name as price\n",
    "sp = sp.melt(id_vars='Date', var_name='time', value_name='price')\n",
    "\n",
    "#sort values by date and price so both are sequential\n",
    "sp = sp.sort_values(['Date','time'], ascending=[True, False])"
   ]
  },
  {
   "cell_type": "markdown",
   "id": "d7ee8826-2927-4944-bf20-98aa439352dd",
   "metadata": {},
   "source": [
    "## Add Columns\n",
    "\n",
    "Now that the price column is consolidatd, new columns can be made such as the return column. The Date column will also help to establish the day-time and week columns so that a cross comparison may be made between values."
   ]
  },
  {
   "cell_type": "markdown",
   "id": "bdb2e06d-7d7c-46d8-bae4-8e3daf65317a",
   "metadata": {},
   "source": [
    "### Return\n",
    "\n",
    "The return will help to quantify differences in stock prices to:\n",
    "\n",
    "    1. easily identify the trend of the stock price as rising or falling\n",
    "\n",
    "    2. accurately calculate correlation over a long period of time\n",
    "    \n",
    "Return is found by applying the following formula:\n",
    "\n",
    "\n",
    "$$ Return = \\frac{price_{current} - price_{previous}} {price_{previous}}$$\n",
    "\n",
    "\n",
    "\n",
    "Create a new column for $price_{previous}$ and apply the formula"
   ]
  },
  {
   "cell_type": "code",
   "execution_count": 141,
   "id": "1083a918-e04c-4f06-b5f5-b563e0f38042",
   "metadata": {},
   "outputs": [],
   "source": [
    "#Rename current period price as price_c\n",
    "sp = sp.rename(columns = {'price':'price_c'})\n",
    "\n",
    "#save price_p as previous price_c with -1 shift\n",
    "sp['price_p'] = sp['price_c'].shift(1)\n",
    "\n",
    "#Calculate return\n",
    "sp['return'] = ((sp['price_c'] - sp['price_p']) / sp['price_p']) * 100\n",
    "\n",
    "#reset_index, drop column 'index'\n",
    "sp = sp.reset_index().drop(columns='index')"
   ]
  },
  {
   "cell_type": "code",
   "execution_count": 142,
   "id": "1221c37c-5280-41bc-ad1b-bfbb62da3bcf",
   "metadata": {},
   "outputs": [],
   "source": [
    "#replace 0 values with NaN\n",
    "\n",
    "sp['return'].replace(0, np.nan, inplace=True)"
   ]
  },
  {
   "cell_type": "markdown",
   "id": "05a88edb-6a15-4214-8cef-a2d882ede17d",
   "metadata": {},
   "source": [
    "### Day and Time\n",
    "\n",
    "Day of the week is found using the day name function. Concatenate day and time to allow for comparisons between Friday closing prices and Monday opening prices."
   ]
  },
  {
   "cell_type": "code",
   "execution_count": 143,
   "id": "5ab61492-e8fb-4537-a19e-4a09fcc45f01",
   "metadata": {},
   "outputs": [],
   "source": [
    "#Apply day_name and save apple['day'] as a category\n",
    "sp['day'] = sp['Date'].dt.day_name().astype('category')\n",
    "\n",
    "#Create day_time column with concatenation, save as category type\n",
    "sp['day_time'] = (sp['day'].astype(str) + ' ' + sp['time']).astype('category')"
   ]
  },
  {
   "cell_type": "markdown",
   "id": "77946425-57a8-435c-9ffc-f13aa9cfb22e",
   "metadata": {},
   "source": [
    "### Week\n",
    "\n",
    "Week will act as the index column when we re-organise and compare daily prices. "
   ]
  },
  {
   "cell_type": "code",
   "execution_count": 144,
   "id": "183aae01-516a-4d6d-ae18-a772bbb85ddc",
   "metadata": {},
   "outputs": [],
   "source": [
    "#Add week column to identify each week\n",
    "sp['week'] = sp['Date'].dt.strftime('%Y-%V')\n",
    "\n",
    "#sort values\n",
    "sp = sp.sort_values('Date')\n",
    "\n",
    "#Reorder columns so week appears first\n",
    "cols = sp.columns.tolist()\n",
    "cols = cols[-1:] + cols[:-1]\n",
    "sp = sp[cols]"
   ]
  },
  {
   "cell_type": "markdown",
   "id": "cd17959e-15a9-421f-bc56-4e9a3c5209b0",
   "metadata": {},
   "source": [
    "## Select, Cut and Merge Data\n",
    "\n",
    "Each return must be sorted by its corresponding day and time for an efficient analysis. An initial dataset will be created to measure the return between open and closing prices (Monday Effect). This dataframe will be reduced to measure the difference between the return within each day (Weekend Effect)."
   ]
  },
  {
   "cell_type": "markdown",
   "id": "15a05732-c487-4858-9ff8-711a764a3a21",
   "metadata": {},
   "source": [
    "### Select Data"
   ]
  },
  {
   "cell_type": "code",
   "execution_count": 145,
   "id": "deddc46a-0e83-4f67-83df-7f45418634e8",
   "metadata": {},
   "outputs": [],
   "source": [
    "#save return, week, day-time columns, and year columns as df\n",
    "df = sp[['week','day_time','return']]"
   ]
  },
  {
   "cell_type": "markdown",
   "id": "8456bf75-78b8-41e7-87d1-2ae668c4c908",
   "metadata": {},
   "source": [
    "### Merge\n",
    "\n",
    "Merge each open and close price to their appropriate day. Merge days together"
   ]
  },
  {
   "cell_type": "code",
   "execution_count": 146,
   "id": "dd2b31ae-cb88-41ef-8d8e-0c46726e067d",
   "metadata": {},
   "outputs": [],
   "source": [
    "#slice dataframes for each day and time pair, drop all columns except return and date\n",
    "mo = df[df['day_time'] == 'Monday Open'].drop(columns='day_time').rename(columns = {'return':'Monday'})\n",
    "mc = df[df['day_time'] == 'Monday Close'].drop(columns='day_time').rename(columns = {'return':'Monday'})\n",
    "to = df[df['day_time'] == 'Tuesday Open'].drop(columns='day_time').rename(columns = {'return':'Tuesday'})\n",
    "tc = df[df['day_time'] == 'Tuesday Close'].drop(columns='day_time').rename(columns = {'return':'Tuesday'})\n",
    "wo = df[df['day_time'] == 'Wednesday Open'].drop(columns='day_time').rename(columns = {'return':'Wednesday'})\n",
    "wc = df[df['day_time'] == 'Wednesday Close'].drop(columns='day_time').rename(columns = {'return':'Wednesday'})\n",
    "tho = df[df['day_time'] == 'Thursday Open'].drop(columns='day_time').rename(columns = {'return':'Thursday'})\n",
    "thc = df[df['day_time'] == 'Thursday Close'].drop(columns='day_time').rename(columns = {'return':'Thursday'})\n",
    "fo = df[df['day_time'] == 'Friday Open'].drop(columns='day_time').rename(columns = {'return':'Friday'})\n",
    "fc = df[df['day_time'] == 'Friday Close'].drop(columns='day_time').rename(columns = {'return':'Friday'})"
   ]
  },
  {
   "cell_type": "code",
   "execution_count": 147,
   "id": "3ee7bc94-63b0-4208-8c98-dfd79527160b",
   "metadata": {},
   "outputs": [],
   "source": [
    "#Merge open and close data that occur on each day day of the week\n",
    "m = mo.merge(mc, on='week', how = 'outer', suffixes=('_open','_close'))\n",
    "t= to.merge(tc, on='week', how = 'outer', suffixes=('_open','_close'))\n",
    "w= wo.merge(wc, on='week', how = 'outer',suffixes=('_open','_close'))\n",
    "th= tho.merge(thc, on='week', how = 'outer', suffixes=('_open','_close'))\n",
    "f= fo.merge(fc, on='week', how = 'outer',suffixes=('_open','_close'))\n",
    "\n",
    "#merge each day together to create apple_dt, create new dataframe from weeks\n",
    "df = m.merge(t, on ='week', how='outer').merge(w, on ='week', how='outer') \\\n",
    "        .merge(th, on ='week', how='outer').merge(f, on ='week', how='outer').sort_values('week')"
   ]
  },
  {
   "cell_type": "markdown",
   "id": "0c501459-bcfc-4031-93a4-54a257854502",
   "metadata": {},
   "source": [
    "### Add Weekend Data"
   ]
  },
  {
   "cell_type": "code",
   "execution_count": 148,
   "id": "e7ddec5f-959d-42c4-89a9-956277a0b003",
   "metadata": {},
   "outputs": [
    {
     "name": "stdout",
     "output_type": "stream",
     "text": [
      "      Monday_open  Monday_close  Monday_open_next  Monday_close_next\n",
      "1968          NaN           NaN          0.252868           0.269043\n",
      "0        0.252868      0.269043         -0.412232           0.741636\n",
      "1       -0.412232      0.741636         -0.326441          -0.587844\n",
      "2       -0.326441     -0.587844         -0.330480          -0.773681\n",
      "3       -0.330480     -0.773681         -0.374271           0.288312\n"
     ]
    }
   ],
   "source": [
    "#create two new columns for next Monday's open and close values using shift\n",
    "df['Monday_open_next'] = df['Monday_open'].shift(-1)\n",
    "df['Monday_close_next'] = df['Monday_close'].shift(-1)\n",
    "\n",
    "#confirm next monday returns reflect accurately\n",
    "print(df[['Monday_open','Monday_close','Monday_open_next','Monday_close_next']].head())"
   ]
  },
  {
   "cell_type": "markdown",
   "id": "44847925-9389-4945-b281-157cb0083174",
   "metadata": {},
   "source": [
    "### Add Year\n",
    "\n",
    "Add year to track returns over specific periods"
   ]
  },
  {
   "cell_type": "code",
   "execution_count": 149,
   "id": "f09c3170-6c8f-4020-a87f-df3ed0ec6f72",
   "metadata": {},
   "outputs": [],
   "source": [
    "#save year as \n",
    "df[['year','x']] = df['week'].str.split('-', expand = True)\n",
    "                            \n",
    "#drop x column\n",
    "df.drop(columns='x', inplace = True)\n",
    "    \n",
    "#Set index on week\n",
    "df.set_index('week', inplace= True)\n",
    "\n",
    "#change year dtype from date-time to integer to allow for loop\n",
    "df['year'] = df['year'].astype(int)"
   ]
  },
  {
   "cell_type": "markdown",
   "id": "66a3136a-11c0-4148-afae-0477ea793cc3",
   "metadata": {},
   "source": [
    "### Add Trend\n",
    "\n",
    "Add a trend column. Assign a positive, negative or nan trend to each data set."
   ]
  },
  {
   "cell_type": "code",
   "execution_count": 150,
   "id": "b53cd40c-e0fc-491a-9d97-7957c47a994a",
   "metadata": {},
   "outputs": [],
   "source": [
    "#add empty columns for trends with loop, ignore year column\n",
    "for column in df.iloc[:,0:12]:\n",
    "    df[column + '_trend'] = np.nan"
   ]
  },
  {
   "cell_type": "code",
   "execution_count": 151,
   "id": "8f111aea-829c-4ce0-9d1f-50555110e923",
   "metadata": {},
   "outputs": [
    {
     "name": "stderr",
     "output_type": "stream",
     "text": [
      "/var/folders/mc/2h3nzhln2bs9klxfl4_8hd8w0000gn/T/ipykernel_48765/2815138030.py:8: FutureWarning:\n",
      "\n",
      "Setting an item of incompatible dtype is deprecated and will raise in a future error of pandas. Value 'positive' has dtype incompatible with float64, please explicitly cast to a compatible dtype first.\n",
      "\n",
      "/var/folders/mc/2h3nzhln2bs9klxfl4_8hd8w0000gn/T/ipykernel_48765/2815138030.py:11: FutureWarning:\n",
      "\n",
      "Setting an item of incompatible dtype is deprecated and will raise in a future error of pandas. Value 'negative' has dtype incompatible with float64, please explicitly cast to a compatible dtype first.\n",
      "\n"
     ]
    },
    {
     "name": "stdout",
     "output_type": "stream",
     "text": [
      "         Monday_open Monday_open_trend  Friday_close Friday_close_trend\n",
      "week                                                                   \n",
      "1982-16          NaN               NaN      0.525336           positive\n",
      "1982-17     0.252868          positive      0.197920           positive\n",
      "1982-18    -0.412232          negative      0.327510           positive\n",
      "1982-19    -0.326441          negative     -0.160740           negative\n",
      "1982-20    -0.330480          negative     -0.121707           negative\n"
     ]
    }
   ],
   "source": [
    "#use loop on all open and close columns, ignore year and other trend columns\n",
    "for column in df.iloc[:,0:12]:\n",
    "\n",
    "#create loop within to return positive, negative or nan values for given returns, save over _trend columns\n",
    "    for i in range(len(df)):\n",
    "    \n",
    "        if df.iloc[i,df.columns.get_loc(column)] > 0:\n",
    "            df.iloc[i, 13 + df.columns.get_loc(column)] = 'positive'\n",
    "        \n",
    "        elif df.iloc[i,df.columns.get_loc(column)] < 0:\n",
    "            df.iloc[i, 13 + df.columns.get_loc(column)] = 'negative'\n",
    "            \n",
    "        else:\n",
    "            df.iloc[i, 13 + df.columns.get_loc(column)] = np.nan\n",
    "\n",
    "#print Monday and Friday data to confirm accurate application\n",
    "print(df[['Monday_open','Monday_open_trend','Friday_close','Friday_close_trend']].head(5))"
   ]
  },
  {
   "cell_type": "markdown",
   "id": "5a6c823b-f665-4497-8e8c-5d28a912904e",
   "metadata": {},
   "source": [
    "### Drop Open Prices\n",
    "\n",
    "Open prices are no longer needed."
   ]
  },
  {
   "cell_type": "code",
   "execution_count": 152,
   "id": "123b7593-dc83-4d89-b298-d7f3296ef6be",
   "metadata": {},
   "outputs": [
    {
     "name": "stdout",
     "output_type": "stream",
     "text": [
      "           Monday   Tuesday  Wednesday  Thursday    Friday  Monday_next  year  \\\n",
      "week                                                                            \n",
      "1982-16       NaN -0.310882   0.207826  1.270308  0.525336     0.269043  1982   \n",
      "1982-17  0.269043 -0.898631  -0.483748 -0.223370  0.197920     0.741636  1982   \n",
      "1982-18  0.741636  0.042582  -0.152737 -0.117825  0.327510    -0.587844  1982   \n",
      "1982-19 -0.587844  0.742363  -0.600551 -0.722204 -0.160740    -0.773681  1982   \n",
      "1982-20 -0.773681 -0.438334  -0.622785 -0.226384 -0.121707     0.288312  1982   \n",
      "\n",
      "        Monday_trend Tuesday_trend Wednesday_trend Thursday_trend  \\\n",
      "week                                                                \n",
      "1982-16          NaN      negative        positive       positive   \n",
      "1982-17     positive      negative        negative       negative   \n",
      "1982-18     positive      positive        negative       negative   \n",
      "1982-19     negative      positive        negative       negative   \n",
      "1982-20     negative      negative        negative       negative   \n",
      "\n",
      "        Friday_trend Monday_next_trend  \n",
      "week                                    \n",
      "1982-16     positive          positive  \n",
      "1982-17     positive          positive  \n",
      "1982-18     positive          negative  \n",
      "1982-19     negative          negative  \n",
      "1982-20     negative          positive  \n"
     ]
    }
   ],
   "source": [
    "#drop columns containing '_open', save as df1\n",
    "df1 = df.drop(columns = df.columns[df.columns.str.contains('_open')])\n",
    "\n",
    "#delete '_close' portion of the string within column titles\n",
    "df1.columns = df1.columns.str.replace('_close','')\n",
    "\n",
    "#print head\n",
    "print(df1.head())"
   ]
  },
  {
   "cell_type": "markdown",
   "id": "15d4c5ea-309f-4907-9794-c00aaf79cd9d",
   "metadata": {},
   "source": [
    "# Analysis"
   ]
  },
  {
   "cell_type": "markdown",
   "id": "8a24817d-9395-4675-acd6-cce426037b1e",
   "metadata": {},
   "source": [
    "## Weekend Effect\n",
    "\n",
    "Do Fridays result in higher return than Mondays generally? How often are Friday's returns higher than Mondays? By how much does the difference between returns vary? How do these results compare to other days? How do they vary over time?"
   ]
  },
  {
   "cell_type": "markdown",
   "id": "8652b199-206f-4456-95d1-b4f8f0ad99f9",
   "metadata": {},
   "source": [
    "### General Analysis\n",
    "\n",
    "Do Friday returns result in a higher return than Mondays generally?\n",
    "\n",
    "Summary statistics identify mean and median averages for a general analysis. "
   ]
  },
  {
   "cell_type": "code",
   "execution_count": 153,
   "id": "d1ef0472-b77e-4541-81ee-c2e3ba4df5b2",
   "metadata": {},
   "outputs": [
    {
     "name": "stdout",
     "output_type": "stream",
     "text": [
      "            Monday      Tuesday    Wednesday     Thursday       Friday\n",
      "count  1968.000000  2138.000000  2142.000000  2100.000000  2090.000000\n",
      "mean      0.012984     0.057363     0.053278     0.031076     0.023582\n",
      "std       1.211731     1.074650     1.014792     1.063817     0.999862\n",
      "min     -20.466931    -5.802761    -8.723100    -7.941968    -6.761155\n",
      "25%      -0.397724    -0.468788    -0.417403    -0.427751    -0.441689\n",
      "50%       0.057442     0.024934     0.071055     0.046373     0.068649\n",
      "75%       0.534307     0.569160     0.534560     0.556492     0.524164\n",
      "max       9.926045    10.789006     9.099355     6.817246     5.846476\n"
     ]
    }
   ],
   "source": [
    "print(df1.drop(columns=['year','Monday_next']).describe())"
   ]
  },
  {
   "cell_type": "markdown",
   "id": "c88593a5-3d64-41a4-b77b-c7c6825caa55",
   "metadata": {},
   "source": [
    "From first observance, Monday's returns are both lower in terms of mean and median than Friday. This supports the weekend effect. Tuesday and Wednesday double the mean average than Friday. The highest median also occurs on Wednesday. This begs the question as to whether a weekday effect may also exist. Further analysis is needed."
   ]
  },
  {
   "cell_type": "markdown",
   "id": "c5bcc4f8-bdfb-49bf-9b16-265c06d42dfd",
   "metadata": {},
   "source": [
    "### Frequency of Higher Returns\n",
    "\n",
    "How often are Friday's returns higher than Mondays?\n",
    "\n",
    "The previous analysis does not account for matched values, rather it compares all values against data that may be missing.\n",
    "Concurrent days and their returns will be matched directly. This preserves as many datapoints as possible. Within new dataframes, the difference betweeen returns on concurrent days will be measured. The frequency of higher returns can then be calculated. From here, the relationship between Friday and Monday will be compared to other pairings."
   ]
  },
  {
   "cell_type": "code",
   "execution_count": 154,
   "id": "d481484c-cc67-49eb-a602-f8ac9ecb1f3a",
   "metadata": {},
   "outputs": [
    {
     "name": "stdout",
     "output_type": "stream",
     "text": [
      "higher Monday than Tuesday =  52.5\n",
      "higher Tuesday than Wednesday =  50.4\n",
      "higher Wednesday than Thursday =  50.7\n",
      "higher Thursday than Friday =  51.1\n",
      "higher Friday than Monday_next =  53.3\n"
     ]
    }
   ],
   "source": [
    "#Select only return value columns from df1\n",
    "for column in df1.iloc[:,0:5]:\n",
    "\n",
    "    #save stc as slice of df1 for current and next columns, drop na values to match\n",
    "    stc = df1[[column,df1.columns[df1.columns.get_loc(column) + 1]]].dropna()\n",
    "    \n",
    "    #Create new column to find difference between return values\n",
    "    stc['diff'] = (stc[column] - stc[df1.columns[df1.columns.get_loc(column) + 1]])\n",
    "    \n",
    "    #Calculate percentage of higher prices (when diff is more than 0) on first day of pairs\n",
    "    p = (((stc['diff'] > 0).sum()) / len(stc['diff']) * 100).round(1)\n",
    "\n",
    "    #print column and next column with percentage of higher values from first column\n",
    "    print('higher ' + column + ' than ' + df1.columns[df1.columns.get_loc(column) + 1] + ' = ',  p)"
   ]
  },
  {
   "cell_type": "markdown",
   "id": "2c692579-010d-419b-bf5e-2347bfe56a68",
   "metadata": {},
   "source": [
    "If the day of the week did not influence the stock price, an expected frequency result would be split exactly at 50-50. Results from Tuesday - Thursday are close to this value. However, from this analysis, Fridays result in higher returns than Monday by a difference by 6.6% (3.3% either side). This supports the Weekend Effect. Interestingly, Monday's returns are higher than Tuesdays by 5%. "
   ]
  },
  {
   "cell_type": "markdown",
   "id": "fcf089b5-033d-491a-9371-7d6e2b290a9c",
   "metadata": {},
   "source": [
    "### Average Return of Matched Pairs\n",
    "\n",
    "By how much does the difference between returns vary?\n",
    "\n",
    "The weekend effect isn't helpful if the extent of its difference in returns is minimal. This test will compare returns using a similar process as above."
   ]
  },
  {
   "cell_type": "code",
   "execution_count": 155,
   "id": "7f73d7f0-4fda-404f-aaec-90b7c67fd14f",
   "metadata": {},
   "outputs": [
    {
     "name": "stdout",
     "output_type": "stream",
     "text": [
      "  current day c_mean n_mean mean_diff c_median n_median median_diff\n",
      "0      Monday  0.014  0.064     -0.05    0.058    0.031       0.027\n",
      "1     Tuesday  0.059  0.051     0.008    0.025     0.07      -0.045\n",
      "2   Wednesday  0.049  0.031     0.018    0.068    0.046       0.022\n",
      "3    Thursday  0.026  0.016      0.01    0.042    0.066      -0.024\n",
      "4      Friday  0.019  0.018     0.001    0.068    0.065       0.003\n"
     ]
    }
   ],
   "source": [
    "#Create empty dataframe for matched averages data\n",
    "matched_averages = pd.DataFrame(index=range(5),columns=range(8))\n",
    "\n",
    "#create columns with current and next day names, median, mean and differences\n",
    "matched_averages.columns = ['current day','next_day','c_mean','n_mean','mean_diff','c_median','n_median','median_diff']\n",
    "\n",
    "#Select only return value columns from df1\n",
    "for column in df1.iloc[:,0:5]:\n",
    "    \n",
    "    #save stc as slice of df1 for current and next columns\n",
    "    stc = df1[[column,df1.columns[df1.columns.get_loc(column) + 1]]].dropna()\n",
    "    \n",
    "    #save means and medians of current and next periods as a,b,c,d\n",
    "    a = round(stc[column].mean(),3)\n",
    "    b = round(stc[column].median(),3)\n",
    "    c = round(stc[df1.columns[df1.columns.get_loc(column) + 1]].mean(),3)\n",
    "    d = round(stc[df1.columns[df1.columns.get_loc(column) + 1]].median(),3)\n",
    "    \n",
    "    #Save current and next day to matched_averages\n",
    "    matched_averages.iloc[(df1.columns.get_loc(column)),0] = df1.columns[(df1.columns.get_loc(column))]\n",
    "    matched_averages.iloc[(df1.columns.get_loc(column)),1] = df1.columns[(df1.columns.get_loc(column) + 1)]\n",
    "    \n",
    "    #Save appropriate means and medians to location\n",
    "    matched_averages.iloc[(df1.columns.get_loc(column)),2] = a\n",
    "    matched_averages.iloc[(df1.columns.get_loc(column)),3] = c\n",
    "    matched_averages.iloc[(df1.columns.get_loc(column)),5] = b\n",
    "    matched_averages.iloc[(df1.columns.get_loc(column)),6] = d\n",
    "    \n",
    "    #Save difference between current and next day means and medians\n",
    "    matched_averages.iloc[(df1.columns.get_loc(column)),4] = a - c\n",
    "    matched_averages.iloc[(df1.columns.get_loc(column)),7] = b - d\n",
    "    \n",
    "print(matched_averages.drop(columns = 'next_day'))"
   ]
  },
  {
   "cell_type": "markdown",
   "id": "17a5c5f2-6bab-4adf-95cd-fc045306fd5f",
   "metadata": {},
   "source": [
    "When matched, Friday's returns are just barely bigger than Monday's in terms of both mean and median averages. Whilst the Weekend effect holds from the previous test, the extent at which returns differ is minimal at 0.3 basis points. Interestingly, Wednesday's returns beat Thursday's returns on both metrics, albeit with a lower frequency of higher returns. \n",
    "\n",
    "The biggest difference however is seen between Tuesday and Wednesday. The median price sees a return difference of negative 4.5 basis points. "
   ]
  },
  {
   "cell_type": "markdown",
   "id": "8bfc9559-0711-4d40-b68c-50e83b87c4a4",
   "metadata": {},
   "source": [
    "### Yearly Findings\n",
    "\n",
    "Do these trends still hold up today?\n",
    "\n",
    "The Weekend Effect will be measured on a year by year basis and compared visually. A new dataframe will be created to measure frequency and average returns."
   ]
  },
  {
   "cell_type": "code",
   "execution_count": 156,
   "id": "08b3f8b8-1bfd-4231-9687-cb3d9350d8c0",
   "metadata": {},
   "outputs": [],
   "source": [
    "#save recent data from chosen year onwards\n",
    "rd = df1.query(' year >= 1980 ')\n",
    "\n",
    "#create column names for current day, next day, higher current day\n",
    "columns = ['current_day','next_day','higher_freq_day','median_return_current','median_return_next','median_diff','mean_diff']\n",
    "\n",
    "#create row length equal to unique year values\n",
    "rows = rd['year'].unique()\n",
    "\n",
    "#create rows_5 equal to rows repeated 5 times for each day pairing\n",
    "rows_5 = []\n",
    "\n",
    "for i in range(len(rows)):\n",
    "    rows_5.append(rows[i])\n",
    "    rows_5.append(rows[i])\n",
    "    rows_5.append(rows[i])\n",
    "    rows_5.append(rows[i])\n",
    "    rows_5.append(rows[i])\n",
    "\n",
    "#Create new dataframe for frequency/averages saved as \n",
    "yearly_we = pd.DataFrame(index=rows_5, columns=columns)"
   ]
  },
  {
   "cell_type": "code",
   "execution_count": 157,
   "id": "5cc6e18f-9ba5-47d8-81d2-1bef52c853c5",
   "metadata": {},
   "outputs": [
    {
     "name": "stdout",
     "output_type": "stream",
     "text": [
      "     current_day   next_day higher_freq_day median_return_current  \\\n",
      "1982      Monday    Tuesday            0.45              0.221447   \n",
      "1982     Tuesday  Wednesday            0.46              -0.02974   \n",
      "1982   Wednesday   Thursday            0.44             -0.188205   \n",
      "1982    Thursday     Friday            0.51             -0.175439   \n",
      "1982      Friday     Monday            0.52             -0.129613   \n",
      "\n",
      "     median_return_next median_diff mean_diff  \n",
      "1982           0.042582    0.178866  -0.13429  \n",
      "1982          -0.152737    0.122997  0.076093  \n",
      "1982          -0.168048   -0.020158  0.172961  \n",
      "1982           -0.16074   -0.014698 -0.164897  \n",
      "1982           0.082204   -0.211817  0.047484  \n"
     ]
    }
   ],
   "source": [
    "#create loop for first five rows in rd\n",
    "for column in rd.iloc[:,0:5]:\n",
    "    \n",
    "    #save row names for current day\n",
    "    yearly_we.iloc[rd.columns.get_loc(column),0] = column\n",
    "\n",
    "    for i in range(len(rd['year'].unique())):\n",
    "        #yearly data\n",
    "        yd = df1[df1['year'] == rd['year'].unique()[0] + i]\n",
    "\n",
    "        #match values, drop na\n",
    "        mv = yd[[column,yd.columns[yd.columns.get_loc(column) + 1]]].dropna()\n",
    "\n",
    "        #Create new column to find difference between return values\n",
    "        mv['diff'] = (mv[column] - (mv[yd.columns[rd.columns.get_loc(column) + 1]]))\n",
    "\n",
    "        #calculate percentage of higher returns on first day of pairs (when diff is more than 0). \n",
    "        yearly_we.iloc[[rd.columns.get_loc(column) + i,rd.columns.get_loc(column) + (5*i)],2] = (((mv['diff'] > 0).sum()) / len(mv['diff'])).round(2)\n",
    "\n",
    "        #calculate median return of current day\n",
    "        yearly_we.iloc[[rd.columns.get_loc(column) + i,rd.columns.get_loc(column) + (5*i)],3] = mv[column].median()\n",
    "\n",
    "        #calculate median return of next day\n",
    "        yearly_we.iloc[[rd.columns.get_loc(column) + i,rd.columns.get_loc(column) + (5*i)],4] = mv[yd.columns[rd.columns.get_loc(column) + 1]].median()\n",
    "\n",
    "        #calculate median difference between days\n",
    "        yearly_we.iloc[[rd.columns.get_loc(column) + i,rd.columns.get_loc(column) + (5*i)],5] = mv[column].median() - mv[yd.columns[rd.columns.get_loc(column) + 1]].median()\n",
    "        \n",
    "        #calculate mean difference between days\n",
    "        yearly_we.iloc[[rd.columns.get_loc(column) + i,rd.columns.get_loc(column) + (5*i)],6] = mv[column].mean() - mv[yd.columns[rd.columns.get_loc(column) + 1]].mean()\n",
    "        \n",
    "\n",
    "#create loop for current day values, for the length of rows_5 divided by 5 for each pasted row and negative one for the initial created iteration\n",
    "for i in range((int(len(rows_5)/5))-1):\n",
    "    \n",
    "    yearly_we.iloc[5+(5*i): 5 + (5 * (i+1)), 0] = yearly_we.iloc[0:5, 0]\n",
    "    \n",
    "#shift values -1 from current day to find next day\n",
    "yearly_we.iloc[:,1] = yearly_we.iloc[:,0].shift(-1)\n",
    "\n",
    "print(yearly_we.head(5))"
   ]
  },
  {
   "cell_type": "code",
   "execution_count": 158,
   "id": "f974ad8c-ee2d-4b1e-b72b-fa849e80c007",
   "metadata": {},
   "outputs": [
    {
     "name": "stderr",
     "output_type": "stream",
     "text": [
      "/var/folders/mc/2h3nzhln2bs9klxfl4_8hd8w0000gn/T/ipykernel_48765/3841326082.py:11: FutureWarning:\n",
      "\n",
      "Setting an item of incompatible dtype is deprecated and will raise in a future error of pandas. Value 'negative' has dtype incompatible with float64, please explicitly cast to a compatible dtype first.\n",
      "\n"
     ]
    }
   ],
   "source": [
    "#create column for positive or negative returns compared to next period\n",
    "yearly_we['freq'] = np.nan\n",
    "\n",
    "for i in range(len(yearly_we)):\n",
    "    if yearly_we.iloc[i,2] >= 0.50:\n",
    "    \n",
    "        yearly_we.iloc[i,7] = 'positive'\n",
    "\n",
    "    else:\n",
    "\n",
    "        yearly_we.iloc[i,7] = 'negative'"
   ]
  },
  {
   "cell_type": "code",
   "execution_count": 159,
   "id": "092d7352-c54f-4e58-bfd0-06f9f1c13763",
   "metadata": {},
   "outputs": [
    {
     "name": "stdout",
     "output_type": "stream",
     "text": [
      "                      count   percent\n",
      "current_day freq                     \n",
      "Friday      negative     11       NaN\n",
      "            positive     30  0.731707\n",
      "Monday      negative     12       NaN\n",
      "            positive     30  0.714286\n",
      "Thursday    negative     15       NaN\n",
      "            positive     27  0.642857\n",
      "Tuesday     negative     15       NaN\n",
      "            positive     27  0.642857\n",
      "Wednesday   negative     22       NaN\n",
      "            positive     20  0.476190\n"
     ]
    }
   ],
   "source": [
    "#find count for positive and negative by grouping current day and frequency\n",
    "freq_count = yearly_we.groupby(['current_day','freq']).count().iloc[:,0]\n",
    "freq_count = pd.DataFrame(freq_count)\n",
    "freq_count = freq_count.rename(columns = {'next_day':'count'})\n",
    "\n",
    "freq_count['percent'] = np.nan\n",
    "\n",
    "for i in range(len(freq_count)-1):\n",
    "    freq_count.iloc[i+1,1] = (freq_count.iloc[i+1,0]) / (freq_count.iloc[i,0] + freq_count.iloc[i+1,0])\n",
    "    \n",
    "for i in range(len(freq_count)-5):\n",
    "    freq_count.iloc[i+(i*1),1] = np.nan\n",
    "\n",
    "#for i in range(len(freq_count)):\n",
    "    #freq_count.iloc[i,\n",
    "\n",
    "print(freq_count)"
   ]
  },
  {
   "cell_type": "markdown",
   "id": "419157bb-224a-4bf0-ae6c-a502accd6607",
   "metadata": {},
   "source": [
    "From this data, Friday's tend to offer a greater return than the next Monday's within 73% of captured years. Likewise, Monday compared to Tuesday also shows a similar trend. Wednesday shows the lowest comparative gains with an average of 47.6% of returns beating Thursday's. A time series plot will reveal more information for each day.\n",
    "\n",
    "Select Friday values only and compare with next Monday values."
   ]
  },
  {
   "cell_type": "code",
   "execution_count": 160,
   "id": "32f36986-5b78-4f00-9338-d35b0e1de1c5",
   "metadata": {},
   "outputs": [],
   "source": [
    "#create subset by selecting Friday values\n",
    "ff = yearly_we[yearly_we['current_day'] == 'Friday']\n",
    "\n",
    "#create year column from index for plot manipulation below\n",
    "\n",
    "#reset index and save 'year' as index to avoid slicing error\n",
    "ff = ff.reset_index()\n",
    "ff['year'] = ff['index']\n",
    "\n",
    "#set index to index column\n",
    "ff = ff.set_index('index')\n",
    "\n",
    "#rename columns \n",
    "ff = ff.rename(columns = {'median_diff':'return_diff','median_return_current':'friday_return', 'median_return_next':'monday_return'})"
   ]
  },
  {
   "cell_type": "code",
   "execution_count": 161,
   "id": "e56f28e7-2cea-4fa0-8c2f-07573a022dd2",
   "metadata": {},
   "outputs": [
    {
     "data": {
      "application/vnd.plotly.v1+json": {
       "config": {
        "plotlyServerURL": "https://plot.ly"
       },
       "data": [
        {
         "hovertemplate": "variable=higher_freq_day<br>index=%{x}<br>value=%{y}<extra></extra>",
         "legendgroup": "higher_freq_day",
         "line": {
          "color": "#636efa",
          "dash": "solid"
         },
         "marker": {
          "symbol": "circle"
         },
         "mode": "lines",
         "name": "higher_freq_day",
         "orientation": "h",
         "showlegend": true,
         "type": "scatter",
         "x": [
          1982,
          1983,
          1984,
          1985,
          1986,
          1987,
          1988,
          1989,
          1990,
          1991,
          1992,
          1993,
          1994,
          1995,
          1996,
          1997,
          1998,
          1999,
          2000,
          2001,
          2002,
          2003,
          2004,
          2005,
          2006,
          2007,
          2008,
          2009,
          2010,
          2011,
          2012,
          2013,
          2014,
          2015,
          2016,
          2017,
          2018,
          2019,
          2020,
          2021,
          2022,
          2023
         ],
         "xaxis": "x",
         "y": [
          0.52,
          0.57,
          0.37,
          0.43,
          0.57,
          0.6,
          0.57,
          0.58,
          0.53,
          0.51,
          0.37,
          0.46,
          0.58,
          0.51,
          0.51,
          0.43,
          0.56,
          0.53,
          0.48,
          0.46,
          0.57,
          0.51,
          0.53,
          0.5,
          0.52,
          0.6,
          0.54,
          0.51,
          0.48,
          0.51,
          0.57,
          0.72,
          0.58,
          0.44,
          0.45,
          0.58,
          0.64,
          0.67,
          0.42,
          0.56,
          0.53,
          0.54
         ],
         "yaxis": "y"
        },
        {
         "hovertemplate": "variable=friday_return<br>index=%{x}<br>value=%{y}<extra></extra>",
         "legendgroup": "friday_return",
         "line": {
          "color": "#EF553B",
          "dash": "solid"
         },
         "marker": {
          "symbol": "circle"
         },
         "mode": "lines",
         "name": "friday_return",
         "orientation": "h",
         "showlegend": true,
         "type": "scatter",
         "x": [
          1982,
          1983,
          1984,
          1985,
          1986,
          1987,
          1988,
          1989,
          1990,
          1991,
          1992,
          1993,
          1994,
          1995,
          1996,
          1997,
          1998,
          1999,
          2000,
          2001,
          2002,
          2003,
          2004,
          2005,
          2006,
          2007,
          2008,
          2009,
          2010,
          2011,
          2012,
          2013,
          2014,
          2015,
          2016,
          2017,
          2018,
          2019,
          2020,
          2021,
          2022,
          2023
         ],
         "xaxis": "x",
         "y": [
          -0.12961259197855957,
          0.01000250029977086,
          -0.09844610376532378,
          0.32863975204903856,
          0.06225804317187718,
          0.06776216321078908,
          0.11476388679408778,
          0.07855711521099472,
          -0.11700288726632406,
          0.015498553620307658,
          -0.09844610376532378,
          -0.000256240952198037,
          0.11722194803234424,
          0.06516095328684869,
          0.09037434780563988,
          0.32863975204903856,
          0.3471169151438206,
          0.1567908601553912,
          -0.11872220990474967,
          -0.25143832651920744,
          0.06225804317187718,
          -0.02361944461935168,
          0.07057606134881843,
          0.04378873638323563,
          -0.06717667648679165,
          0.06776216321078908,
          0.07134357830804404,
          0.06890879694659767,
          0.12347902039712522,
          -0.0029874500312424526,
          0.11476388679408778,
          0.2572120622911619,
          0.09207309085507885,
          -0.053748510768191336,
          0.009252945435532815,
          0.07855711521099472,
          -0.048166552768559565,
          0.23438898749401987,
          0.020491553457192196,
          0.14621763536538293,
          -0.11700288726632406,
          0.1667845145297163
         ],
         "yaxis": "y"
        },
        {
         "hovertemplate": "variable=monday_return<br>index=%{x}<br>value=%{y}<extra></extra>",
         "legendgroup": "monday_return",
         "line": {
          "color": "#00cc96",
          "dash": "solid"
         },
         "marker": {
          "symbol": "circle"
         },
         "mode": "lines",
         "name": "monday_return",
         "orientation": "h",
         "showlegend": true,
         "type": "scatter",
         "x": [
          1982,
          1983,
          1984,
          1985,
          1986,
          1987,
          1988,
          1989,
          1990,
          1991,
          1992,
          1993,
          1994,
          1995,
          1996,
          1997,
          1998,
          1999,
          2000,
          2001,
          2002,
          2003,
          2004,
          2005,
          2006,
          2007,
          2008,
          2009,
          2010,
          2011,
          2012,
          2013,
          2014,
          2015,
          2016,
          2017,
          2018,
          2019,
          2020,
          2021,
          2022,
          2023
         ],
         "xaxis": "x",
         "y": [
          0.08220405328267735,
          0.07451625228146207,
          0.1321831270791524,
          0.3269360322645247,
          -0.19010466659568206,
          -0.099156415212382,
          -0.00392972897916891,
          0.05434971267107823,
          -0.12484388253811815,
          -0.08118501901360405,
          0.1321831270791524,
          0.1869764710101439,
          0.07654981528604615,
          0.14023741197482265,
          0.16613692952057155,
          0.3269360322645247,
          0.09544567350580488,
          -0.06063225010654482,
          0.03325970884691001,
          0.06087968014524788,
          -0.19010466659568206,
          0.2724055435007572,
          0.027433995172763032,
          0.10968624014699019,
          0.06533898630425056,
          -0.099156415212382,
          -0.2679564002470551,
          0.28550643585918284,
          0.08164416333760437,
          -0.08576736876089118,
          -0.00392972897916891,
          0.06515017462152717,
          0.03336453936560071,
          0.06723233580705903,
          0.03345168074658234,
          0.05434971267107823,
          -0.08419247301622244,
          0.02132108107776174,
          0.425946217120127,
          0.061895186726865115,
          -0.12484388253811815,
          0.17682113884946882
         ],
         "yaxis": "y"
        },
        {
         "hovertemplate": "variable=return_diff<br>index=%{x}<br>value=%{y}<extra></extra>",
         "legendgroup": "return_diff",
         "line": {
          "color": "#ab63fa",
          "dash": "solid"
         },
         "marker": {
          "symbol": "circle"
         },
         "mode": "lines",
         "name": "return_diff",
         "orientation": "h",
         "showlegend": true,
         "type": "scatter",
         "x": [
          1982,
          1983,
          1984,
          1985,
          1986,
          1987,
          1988,
          1989,
          1990,
          1991,
          1992,
          1993,
          1994,
          1995,
          1996,
          1997,
          1998,
          1999,
          2000,
          2001,
          2002,
          2003,
          2004,
          2005,
          2006,
          2007,
          2008,
          2009,
          2010,
          2011,
          2012,
          2013,
          2014,
          2015,
          2016,
          2017,
          2018,
          2019,
          2020,
          2021,
          2022,
          2023
         ],
         "xaxis": "x",
         "y": [
          -0.21181664526123692,
          -0.06451375198169121,
          -0.23062923084447617,
          0.0017037197845138352,
          0.25236270976755926,
          0.1669185784231711,
          0.11869361577325668,
          0.02420740253991649,
          0.00784099527179409,
          0.0966835726339117,
          -0.23062923084447617,
          -0.18723271196234192,
          0.04067213274629809,
          -0.07507645868797395,
          -0.07576258171493166,
          0.0017037197845138352,
          0.2516712416380157,
          0.21742311026193603,
          -0.15198191875165967,
          -0.3123180066644553,
          0.25236270976755926,
          -0.29602498812010886,
          0.0431420661760554,
          -0.06589750376375456,
          -0.1325156627910422,
          0.1669185784231711,
          0.33929997855509914,
          -0.21659763891258516,
          0.04183485705952085,
          0.08277991872964872,
          0.11869361577325668,
          0.19206188766963472,
          0.05870855148947814,
          -0.12098084657525038,
          -0.024198735311049525,
          0.02420740253991649,
          0.03602592024766288,
          0.21306790641625814,
          -0.4054546636629348,
          0.08432244863851782,
          0.00784099527179409,
          -0.010036624319752524
         ],
         "yaxis": "y"
        }
       ],
       "layout": {
        "legend": {
         "title": {
          "text": "variable"
         },
         "tracegroupgap": 0
        },
        "margin": {
         "t": 60
        },
        "shapes": [
         {
          "fillcolor": "#2ca02c",
          "layer": "below",
          "line": {
           "width": 0
          },
          "opacity": 0.2,
          "type": "rect",
          "x0": 1982,
          "x1": 1984,
          "xref": "x",
          "y0": 0,
          "y1": 1,
          "yref": "y domain"
         },
         {
          "fillcolor": "#d62728",
          "layer": "below",
          "line": {
           "width": 0
          },
          "opacity": 0.2,
          "type": "rect",
          "x0": 1984,
          "x1": 1986,
          "xref": "x",
          "y0": 0,
          "y1": 1,
          "yref": "y domain"
         },
         {
          "fillcolor": "#2ca02c",
          "layer": "below",
          "line": {
           "width": 0
          },
          "opacity": 0.2,
          "type": "rect",
          "x0": 1986,
          "x1": 1992,
          "xref": "x",
          "y0": 0,
          "y1": 1,
          "yref": "y domain"
         },
         {
          "fillcolor": "#d62728",
          "layer": "below",
          "line": {
           "width": 0
          },
          "opacity": 0.2,
          "type": "rect",
          "x0": 1992,
          "x1": 1994,
          "xref": "x",
          "y0": 0,
          "y1": 1,
          "yref": "y domain"
         },
         {
          "fillcolor": "#2ca02c",
          "layer": "below",
          "line": {
           "width": 0
          },
          "opacity": 0.2,
          "type": "rect",
          "x0": 1994,
          "x1": 1997,
          "xref": "x",
          "y0": 0,
          "y1": 1,
          "yref": "y domain"
         },
         {
          "fillcolor": "#d62728",
          "layer": "below",
          "line": {
           "width": 0
          },
          "opacity": 0.2,
          "type": "rect",
          "x0": 1997,
          "x1": 1998,
          "xref": "x",
          "y0": 0,
          "y1": 1,
          "yref": "y domain"
         },
         {
          "fillcolor": "#2ca02c",
          "layer": "below",
          "line": {
           "width": 0
          },
          "opacity": 0.2,
          "type": "rect",
          "x0": 1998,
          "x1": 2000,
          "xref": "x",
          "y0": 0,
          "y1": 1,
          "yref": "y domain"
         },
         {
          "fillcolor": "#d62728",
          "layer": "below",
          "line": {
           "width": 0
          },
          "opacity": 0.2,
          "type": "rect",
          "x0": 2000,
          "x1": 2002,
          "xref": "x",
          "y0": 0,
          "y1": 1,
          "yref": "y domain"
         },
         {
          "fillcolor": "#2ca02c",
          "layer": "below",
          "line": {
           "width": 0
          },
          "opacity": 0.2,
          "type": "rect",
          "x0": 2002,
          "x1": 2010,
          "xref": "x",
          "y0": 0,
          "y1": 1,
          "yref": "y domain"
         },
         {
          "fillcolor": "#d62728",
          "layer": "below",
          "line": {
           "width": 0
          },
          "opacity": 0.2,
          "type": "rect",
          "x0": 2010,
          "x1": 2011,
          "xref": "x",
          "y0": 0,
          "y1": 1,
          "yref": "y domain"
         },
         {
          "fillcolor": "#2ca02c",
          "layer": "below",
          "line": {
           "width": 0
          },
          "opacity": 0.2,
          "type": "rect",
          "x0": 2011,
          "x1": 2015,
          "xref": "x",
          "y0": 0,
          "y1": 1,
          "yref": "y domain"
         },
         {
          "fillcolor": "#d62728",
          "layer": "below",
          "line": {
           "width": 0
          },
          "opacity": 0.2,
          "type": "rect",
          "x0": 2015,
          "x1": 2017,
          "xref": "x",
          "y0": 0,
          "y1": 1,
          "yref": "y domain"
         },
         {
          "fillcolor": "#2ca02c",
          "layer": "below",
          "line": {
           "width": 0
          },
          "opacity": 0.2,
          "type": "rect",
          "x0": 2017,
          "x1": 2020,
          "xref": "x",
          "y0": 0,
          "y1": 1,
          "yref": "y domain"
         },
         {
          "fillcolor": "#d62728",
          "layer": "below",
          "line": {
           "width": 0
          },
          "opacity": 0.2,
          "type": "rect",
          "x0": 2020,
          "x1": 2021,
          "xref": "x",
          "y0": 0,
          "y1": 1,
          "yref": "y domain"
         },
         {
          "fillcolor": "#2ca02c",
          "layer": "below",
          "line": {
           "width": 0
          },
          "opacity": 0.2,
          "type": "rect",
          "x0": 2021,
          "x1": 2023,
          "xref": "x",
          "y0": 0,
          "y1": 1,
          "yref": "y domain"
         }
        ],
        "template": {
         "data": {
          "bar": [
           {
            "error_x": {
             "color": "#2a3f5f"
            },
            "error_y": {
             "color": "#2a3f5f"
            },
            "marker": {
             "line": {
              "color": "#E5ECF6",
              "width": 0.5
             },
             "pattern": {
              "fillmode": "overlay",
              "size": 10,
              "solidity": 0.2
             }
            },
            "type": "bar"
           }
          ],
          "barpolar": [
           {
            "marker": {
             "line": {
              "color": "#E5ECF6",
              "width": 0.5
             },
             "pattern": {
              "fillmode": "overlay",
              "size": 10,
              "solidity": 0.2
             }
            },
            "type": "barpolar"
           }
          ],
          "carpet": [
           {
            "aaxis": {
             "endlinecolor": "#2a3f5f",
             "gridcolor": "white",
             "linecolor": "white",
             "minorgridcolor": "white",
             "startlinecolor": "#2a3f5f"
            },
            "baxis": {
             "endlinecolor": "#2a3f5f",
             "gridcolor": "white",
             "linecolor": "white",
             "minorgridcolor": "white",
             "startlinecolor": "#2a3f5f"
            },
            "type": "carpet"
           }
          ],
          "choropleth": [
           {
            "colorbar": {
             "outlinewidth": 0,
             "ticks": ""
            },
            "type": "choropleth"
           }
          ],
          "contour": [
           {
            "colorbar": {
             "outlinewidth": 0,
             "ticks": ""
            },
            "colorscale": [
             [
              0,
              "#0d0887"
             ],
             [
              0.1111111111111111,
              "#46039f"
             ],
             [
              0.2222222222222222,
              "#7201a8"
             ],
             [
              0.3333333333333333,
              "#9c179e"
             ],
             [
              0.4444444444444444,
              "#bd3786"
             ],
             [
              0.5555555555555556,
              "#d8576b"
             ],
             [
              0.6666666666666666,
              "#ed7953"
             ],
             [
              0.7777777777777778,
              "#fb9f3a"
             ],
             [
              0.8888888888888888,
              "#fdca26"
             ],
             [
              1,
              "#f0f921"
             ]
            ],
            "type": "contour"
           }
          ],
          "contourcarpet": [
           {
            "colorbar": {
             "outlinewidth": 0,
             "ticks": ""
            },
            "type": "contourcarpet"
           }
          ],
          "heatmap": [
           {
            "colorbar": {
             "outlinewidth": 0,
             "ticks": ""
            },
            "colorscale": [
             [
              0,
              "#0d0887"
             ],
             [
              0.1111111111111111,
              "#46039f"
             ],
             [
              0.2222222222222222,
              "#7201a8"
             ],
             [
              0.3333333333333333,
              "#9c179e"
             ],
             [
              0.4444444444444444,
              "#bd3786"
             ],
             [
              0.5555555555555556,
              "#d8576b"
             ],
             [
              0.6666666666666666,
              "#ed7953"
             ],
             [
              0.7777777777777778,
              "#fb9f3a"
             ],
             [
              0.8888888888888888,
              "#fdca26"
             ],
             [
              1,
              "#f0f921"
             ]
            ],
            "type": "heatmap"
           }
          ],
          "heatmapgl": [
           {
            "colorbar": {
             "outlinewidth": 0,
             "ticks": ""
            },
            "colorscale": [
             [
              0,
              "#0d0887"
             ],
             [
              0.1111111111111111,
              "#46039f"
             ],
             [
              0.2222222222222222,
              "#7201a8"
             ],
             [
              0.3333333333333333,
              "#9c179e"
             ],
             [
              0.4444444444444444,
              "#bd3786"
             ],
             [
              0.5555555555555556,
              "#d8576b"
             ],
             [
              0.6666666666666666,
              "#ed7953"
             ],
             [
              0.7777777777777778,
              "#fb9f3a"
             ],
             [
              0.8888888888888888,
              "#fdca26"
             ],
             [
              1,
              "#f0f921"
             ]
            ],
            "type": "heatmapgl"
           }
          ],
          "histogram": [
           {
            "marker": {
             "pattern": {
              "fillmode": "overlay",
              "size": 10,
              "solidity": 0.2
             }
            },
            "type": "histogram"
           }
          ],
          "histogram2d": [
           {
            "colorbar": {
             "outlinewidth": 0,
             "ticks": ""
            },
            "colorscale": [
             [
              0,
              "#0d0887"
             ],
             [
              0.1111111111111111,
              "#46039f"
             ],
             [
              0.2222222222222222,
              "#7201a8"
             ],
             [
              0.3333333333333333,
              "#9c179e"
             ],
             [
              0.4444444444444444,
              "#bd3786"
             ],
             [
              0.5555555555555556,
              "#d8576b"
             ],
             [
              0.6666666666666666,
              "#ed7953"
             ],
             [
              0.7777777777777778,
              "#fb9f3a"
             ],
             [
              0.8888888888888888,
              "#fdca26"
             ],
             [
              1,
              "#f0f921"
             ]
            ],
            "type": "histogram2d"
           }
          ],
          "histogram2dcontour": [
           {
            "colorbar": {
             "outlinewidth": 0,
             "ticks": ""
            },
            "colorscale": [
             [
              0,
              "#0d0887"
             ],
             [
              0.1111111111111111,
              "#46039f"
             ],
             [
              0.2222222222222222,
              "#7201a8"
             ],
             [
              0.3333333333333333,
              "#9c179e"
             ],
             [
              0.4444444444444444,
              "#bd3786"
             ],
             [
              0.5555555555555556,
              "#d8576b"
             ],
             [
              0.6666666666666666,
              "#ed7953"
             ],
             [
              0.7777777777777778,
              "#fb9f3a"
             ],
             [
              0.8888888888888888,
              "#fdca26"
             ],
             [
              1,
              "#f0f921"
             ]
            ],
            "type": "histogram2dcontour"
           }
          ],
          "mesh3d": [
           {
            "colorbar": {
             "outlinewidth": 0,
             "ticks": ""
            },
            "type": "mesh3d"
           }
          ],
          "parcoords": [
           {
            "line": {
             "colorbar": {
              "outlinewidth": 0,
              "ticks": ""
             }
            },
            "type": "parcoords"
           }
          ],
          "pie": [
           {
            "automargin": true,
            "type": "pie"
           }
          ],
          "scatter": [
           {
            "fillpattern": {
             "fillmode": "overlay",
             "size": 10,
             "solidity": 0.2
            },
            "type": "scatter"
           }
          ],
          "scatter3d": [
           {
            "line": {
             "colorbar": {
              "outlinewidth": 0,
              "ticks": ""
             }
            },
            "marker": {
             "colorbar": {
              "outlinewidth": 0,
              "ticks": ""
             }
            },
            "type": "scatter3d"
           }
          ],
          "scattercarpet": [
           {
            "marker": {
             "colorbar": {
              "outlinewidth": 0,
              "ticks": ""
             }
            },
            "type": "scattercarpet"
           }
          ],
          "scattergeo": [
           {
            "marker": {
             "colorbar": {
              "outlinewidth": 0,
              "ticks": ""
             }
            },
            "type": "scattergeo"
           }
          ],
          "scattergl": [
           {
            "marker": {
             "colorbar": {
              "outlinewidth": 0,
              "ticks": ""
             }
            },
            "type": "scattergl"
           }
          ],
          "scattermapbox": [
           {
            "marker": {
             "colorbar": {
              "outlinewidth": 0,
              "ticks": ""
             }
            },
            "type": "scattermapbox"
           }
          ],
          "scatterpolar": [
           {
            "marker": {
             "colorbar": {
              "outlinewidth": 0,
              "ticks": ""
             }
            },
            "type": "scatterpolar"
           }
          ],
          "scatterpolargl": [
           {
            "marker": {
             "colorbar": {
              "outlinewidth": 0,
              "ticks": ""
             }
            },
            "type": "scatterpolargl"
           }
          ],
          "scatterternary": [
           {
            "marker": {
             "colorbar": {
              "outlinewidth": 0,
              "ticks": ""
             }
            },
            "type": "scatterternary"
           }
          ],
          "surface": [
           {
            "colorbar": {
             "outlinewidth": 0,
             "ticks": ""
            },
            "colorscale": [
             [
              0,
              "#0d0887"
             ],
             [
              0.1111111111111111,
              "#46039f"
             ],
             [
              0.2222222222222222,
              "#7201a8"
             ],
             [
              0.3333333333333333,
              "#9c179e"
             ],
             [
              0.4444444444444444,
              "#bd3786"
             ],
             [
              0.5555555555555556,
              "#d8576b"
             ],
             [
              0.6666666666666666,
              "#ed7953"
             ],
             [
              0.7777777777777778,
              "#fb9f3a"
             ],
             [
              0.8888888888888888,
              "#fdca26"
             ],
             [
              1,
              "#f0f921"
             ]
            ],
            "type": "surface"
           }
          ],
          "table": [
           {
            "cells": {
             "fill": {
              "color": "#EBF0F8"
             },
             "line": {
              "color": "white"
             }
            },
            "header": {
             "fill": {
              "color": "#C8D4E3"
             },
             "line": {
              "color": "white"
             }
            },
            "type": "table"
           }
          ]
         },
         "layout": {
          "annotationdefaults": {
           "arrowcolor": "#2a3f5f",
           "arrowhead": 0,
           "arrowwidth": 1
          },
          "autotypenumbers": "strict",
          "coloraxis": {
           "colorbar": {
            "outlinewidth": 0,
            "ticks": ""
           }
          },
          "colorscale": {
           "diverging": [
            [
             0,
             "#8e0152"
            ],
            [
             0.1,
             "#c51b7d"
            ],
            [
             0.2,
             "#de77ae"
            ],
            [
             0.3,
             "#f1b6da"
            ],
            [
             0.4,
             "#fde0ef"
            ],
            [
             0.5,
             "#f7f7f7"
            ],
            [
             0.6,
             "#e6f5d0"
            ],
            [
             0.7,
             "#b8e186"
            ],
            [
             0.8,
             "#7fbc41"
            ],
            [
             0.9,
             "#4d9221"
            ],
            [
             1,
             "#276419"
            ]
           ],
           "sequential": [
            [
             0,
             "#0d0887"
            ],
            [
             0.1111111111111111,
             "#46039f"
            ],
            [
             0.2222222222222222,
             "#7201a8"
            ],
            [
             0.3333333333333333,
             "#9c179e"
            ],
            [
             0.4444444444444444,
             "#bd3786"
            ],
            [
             0.5555555555555556,
             "#d8576b"
            ],
            [
             0.6666666666666666,
             "#ed7953"
            ],
            [
             0.7777777777777778,
             "#fb9f3a"
            ],
            [
             0.8888888888888888,
             "#fdca26"
            ],
            [
             1,
             "#f0f921"
            ]
           ],
           "sequentialminus": [
            [
             0,
             "#0d0887"
            ],
            [
             0.1111111111111111,
             "#46039f"
            ],
            [
             0.2222222222222222,
             "#7201a8"
            ],
            [
             0.3333333333333333,
             "#9c179e"
            ],
            [
             0.4444444444444444,
             "#bd3786"
            ],
            [
             0.5555555555555556,
             "#d8576b"
            ],
            [
             0.6666666666666666,
             "#ed7953"
            ],
            [
             0.7777777777777778,
             "#fb9f3a"
            ],
            [
             0.8888888888888888,
             "#fdca26"
            ],
            [
             1,
             "#f0f921"
            ]
           ]
          },
          "colorway": [
           "#636efa",
           "#EF553B",
           "#00cc96",
           "#ab63fa",
           "#FFA15A",
           "#19d3f3",
           "#FF6692",
           "#B6E880",
           "#FF97FF",
           "#FECB52"
          ],
          "font": {
           "color": "#2a3f5f"
          },
          "geo": {
           "bgcolor": "white",
           "lakecolor": "white",
           "landcolor": "#E5ECF6",
           "showlakes": true,
           "showland": true,
           "subunitcolor": "white"
          },
          "hoverlabel": {
           "align": "left"
          },
          "hovermode": "closest",
          "mapbox": {
           "style": "light"
          },
          "paper_bgcolor": "white",
          "plot_bgcolor": "#E5ECF6",
          "polar": {
           "angularaxis": {
            "gridcolor": "white",
            "linecolor": "white",
            "ticks": ""
           },
           "bgcolor": "#E5ECF6",
           "radialaxis": {
            "gridcolor": "white",
            "linecolor": "white",
            "ticks": ""
           }
          },
          "scene": {
           "xaxis": {
            "backgroundcolor": "#E5ECF6",
            "gridcolor": "white",
            "gridwidth": 2,
            "linecolor": "white",
            "showbackground": true,
            "ticks": "",
            "zerolinecolor": "white"
           },
           "yaxis": {
            "backgroundcolor": "#E5ECF6",
            "gridcolor": "white",
            "gridwidth": 2,
            "linecolor": "white",
            "showbackground": true,
            "ticks": "",
            "zerolinecolor": "white"
           },
           "zaxis": {
            "backgroundcolor": "#E5ECF6",
            "gridcolor": "white",
            "gridwidth": 2,
            "linecolor": "white",
            "showbackground": true,
            "ticks": "",
            "zerolinecolor": "white"
           }
          },
          "shapedefaults": {
           "line": {
            "color": "#2a3f5f"
           }
          },
          "ternary": {
           "aaxis": {
            "gridcolor": "white",
            "linecolor": "white",
            "ticks": ""
           },
           "baxis": {
            "gridcolor": "white",
            "linecolor": "white",
            "ticks": ""
           },
           "bgcolor": "#E5ECF6",
           "caxis": {
            "gridcolor": "white",
            "linecolor": "white",
            "ticks": ""
           }
          },
          "title": {
           "x": 0.05
          },
          "xaxis": {
           "automargin": true,
           "gridcolor": "white",
           "linecolor": "white",
           "ticks": "",
           "title": {
            "standoff": 15
           },
           "zerolinecolor": "white",
           "zerolinewidth": 2
          },
          "yaxis": {
           "automargin": true,
           "gridcolor": "white",
           "linecolor": "white",
           "ticks": "",
           "title": {
            "standoff": 15
           },
           "zerolinecolor": "white",
           "zerolinewidth": 2
          }
         }
        },
        "title": {
         "text": "Friday Returns compared with Next Monday"
        },
        "xaxis": {
         "anchor": "y",
         "domain": [
          0,
          1
         ],
         "title": {
          "text": "Year"
         }
        },
        "yaxis": {
         "anchor": "x",
         "domain": [
          0,
          1
         ],
         "title": {
          "text": "Values"
         }
        }
       }
      }
     },
     "metadata": {},
     "output_type": "display_data"
    }
   ],
   "source": [
    "#create lineplot\n",
    "fig = px.line(ff, x=ff.index, y = ['higher_freq_day','friday_return','monday_return','return_diff'])\n",
    "\n",
    "# Highlight areas according to the frequency\n",
    "current = ''\n",
    "changes = []\n",
    "\n",
    "for ind in ff.index:\n",
    "    if current != ff['freq'][ind]:\n",
    "        current = ff['freq'][ind]\n",
    "        changes.append([ff['year'][ind],ff['freq'][ind]])\n",
    "\n",
    "        \n",
    "color_dict= {'positive':'#2ca02c', 'negative':'#d62728',}\n",
    "\n",
    "for i, val in enumerate(changes):\n",
    "    if (i+1) == len(changes):\n",
    "            changes_last_date = changes[-1][0]\n",
    "            changes_last_state = changes[-1][1]\n",
    "            last_date= ff['year'].iloc[-1]\n",
    "            fig.add_vrect(\n",
    "                          x0=changes_last_date, x1=last_date,\n",
    "                          fillcolor=color_dict[changes_last_state], opacity=0.2,\n",
    "                          layer=\"below\", line_width=0)\n",
    "\n",
    "    else:\n",
    "          \n",
    "        if changes[i][1] =='positive':\n",
    "            fig.add_vrect(\n",
    "                       x0=changes[i][0], x1=changes[i+1][0],\n",
    "                        fillcolor=color_dict['positive'], opacity=0.2,\n",
    "                        layer=\"below\", line_width=0)\n",
    "            \n",
    "        if changes[i][1] =='negative':\n",
    "            fig.add_vrect(\n",
    "                        x0=changes[i][0], x1=changes[i+1][0],\n",
    "                        fillcolor=color_dict['negative'], opacity=0.2,\n",
    "                        layer=\"below\", line_width=0)\n",
    "\n",
    "#update labels\n",
    "fig.update_layout(xaxis_title=\"Year\", yaxis_title=\"Values\", \n",
    "                  title='Friday Returns compared with Next Monday')\n",
    "\n",
    "#save figures for upload\n",
    "fig.write_image(\"images/f-m.png\")\n",
    "fig.write_html(\"images/f-m.html\")\n",
    "\n",
    "#show figure\n",
    "fig.show()"
   ]
  },
  {
   "cell_type": "code",
   "execution_count": 162,
   "id": "b225340c-6651-4bc9-b34f-4af3b84083d7",
   "metadata": {},
   "outputs": [
    {
     "data": {
      "application/vnd.plotly.v1+json": {
       "config": {
        "plotlyServerURL": "https://plot.ly"
       },
       "data": [
        {
         "hovertemplate": "variable=friday_return<br>index=%{x}<br>value=%{y}<extra></extra>",
         "legendgroup": "friday_return",
         "line": {
          "color": "#636efa",
          "dash": "solid"
         },
         "marker": {
          "symbol": "circle"
         },
         "mode": "lines",
         "name": "friday_return",
         "orientation": "h",
         "showlegend": true,
         "type": "scatter",
         "x": [
          1982,
          1983,
          1984,
          1985,
          1986,
          1987,
          1988,
          1989,
          1990,
          1991,
          1992,
          1993,
          1994,
          1995,
          1996,
          1997,
          1998,
          1999,
          2000,
          2001,
          2002,
          2003,
          2004,
          2005,
          2006,
          2007,
          2008,
          2009,
          2010,
          2011,
          2012,
          2013,
          2014,
          2015,
          2016,
          2017,
          2018,
          2019,
          2020,
          2021,
          2022,
          2023
         ],
         "xaxis": "x",
         "y": [
          -0.12961259197855957,
          0.01000250029977086,
          -0.09844610376532378,
          0.32863975204903856,
          0.06225804317187718,
          0.06776216321078908,
          0.11476388679408778,
          0.07855711521099472,
          -0.11700288726632406,
          0.015498553620307658,
          -0.09844610376532378,
          -0.000256240952198037,
          0.11722194803234424,
          0.06516095328684869,
          0.09037434780563988,
          0.32863975204903856,
          0.3471169151438206,
          0.1567908601553912,
          -0.11872220990474967,
          -0.25143832651920744,
          0.06225804317187718,
          -0.02361944461935168,
          0.07057606134881843,
          0.04378873638323563,
          -0.06717667648679165,
          0.06776216321078908,
          0.07134357830804404,
          0.06890879694659767,
          0.12347902039712522,
          -0.0029874500312424526,
          0.11476388679408778,
          0.2572120622911619,
          0.09207309085507885,
          -0.053748510768191336,
          0.009252945435532815,
          0.07855711521099472,
          -0.048166552768559565,
          0.23438898749401987,
          0.020491553457192196,
          0.14621763536538293,
          -0.11700288726632406,
          0.1667845145297163
         ],
         "yaxis": "y"
        },
        {
         "hovertemplate": "variable=monday_return<br>index=%{x}<br>value=%{y}<extra></extra>",
         "legendgroup": "monday_return",
         "line": {
          "color": "#EF553B",
          "dash": "solid"
         },
         "marker": {
          "symbol": "circle"
         },
         "mode": "lines",
         "name": "monday_return",
         "orientation": "h",
         "showlegend": true,
         "type": "scatter",
         "x": [
          1982,
          1983,
          1984,
          1985,
          1986,
          1987,
          1988,
          1989,
          1990,
          1991,
          1992,
          1993,
          1994,
          1995,
          1996,
          1997,
          1998,
          1999,
          2000,
          2001,
          2002,
          2003,
          2004,
          2005,
          2006,
          2007,
          2008,
          2009,
          2010,
          2011,
          2012,
          2013,
          2014,
          2015,
          2016,
          2017,
          2018,
          2019,
          2020,
          2021,
          2022,
          2023
         ],
         "xaxis": "x",
         "y": [
          0.08220405328267735,
          0.07451625228146207,
          0.1321831270791524,
          0.3269360322645247,
          -0.19010466659568206,
          -0.099156415212382,
          -0.00392972897916891,
          0.05434971267107823,
          -0.12484388253811815,
          -0.08118501901360405,
          0.1321831270791524,
          0.1869764710101439,
          0.07654981528604615,
          0.14023741197482265,
          0.16613692952057155,
          0.3269360322645247,
          0.09544567350580488,
          -0.06063225010654482,
          0.03325970884691001,
          0.06087968014524788,
          -0.19010466659568206,
          0.2724055435007572,
          0.027433995172763032,
          0.10968624014699019,
          0.06533898630425056,
          -0.099156415212382,
          -0.2679564002470551,
          0.28550643585918284,
          0.08164416333760437,
          -0.08576736876089118,
          -0.00392972897916891,
          0.06515017462152717,
          0.03336453936560071,
          0.06723233580705903,
          0.03345168074658234,
          0.05434971267107823,
          -0.08419247301622244,
          0.02132108107776174,
          0.425946217120127,
          0.061895186726865115,
          -0.12484388253811815,
          0.17682113884946882
         ],
         "yaxis": "y"
        }
       ],
       "layout": {
        "legend": {
         "title": {
          "text": "Day"
         },
         "tracegroupgap": 0
        },
        "margin": {
         "t": 60
        },
        "shapes": [
         {
          "fillcolor": "#2ca02c",
          "layer": "below",
          "line": {
           "width": 0
          },
          "opacity": 0.2,
          "type": "rect",
          "x0": 1982,
          "x1": 1984,
          "xref": "x",
          "y0": 0,
          "y1": 1,
          "yref": "y domain"
         },
         {
          "fillcolor": "#d62728",
          "layer": "below",
          "line": {
           "width": 0
          },
          "opacity": 0.2,
          "type": "rect",
          "x0": 1984,
          "x1": 1986,
          "xref": "x",
          "y0": 0,
          "y1": 1,
          "yref": "y domain"
         },
         {
          "fillcolor": "#2ca02c",
          "layer": "below",
          "line": {
           "width": 0
          },
          "opacity": 0.2,
          "type": "rect",
          "x0": 1986,
          "x1": 1992,
          "xref": "x",
          "y0": 0,
          "y1": 1,
          "yref": "y domain"
         },
         {
          "fillcolor": "#d62728",
          "layer": "below",
          "line": {
           "width": 0
          },
          "opacity": 0.2,
          "type": "rect",
          "x0": 1992,
          "x1": 1994,
          "xref": "x",
          "y0": 0,
          "y1": 1,
          "yref": "y domain"
         },
         {
          "fillcolor": "#2ca02c",
          "layer": "below",
          "line": {
           "width": 0
          },
          "opacity": 0.2,
          "type": "rect",
          "x0": 1994,
          "x1": 1997,
          "xref": "x",
          "y0": 0,
          "y1": 1,
          "yref": "y domain"
         },
         {
          "fillcolor": "#d62728",
          "layer": "below",
          "line": {
           "width": 0
          },
          "opacity": 0.2,
          "type": "rect",
          "x0": 1997,
          "x1": 1998,
          "xref": "x",
          "y0": 0,
          "y1": 1,
          "yref": "y domain"
         },
         {
          "fillcolor": "#2ca02c",
          "layer": "below",
          "line": {
           "width": 0
          },
          "opacity": 0.2,
          "type": "rect",
          "x0": 1998,
          "x1": 2000,
          "xref": "x",
          "y0": 0,
          "y1": 1,
          "yref": "y domain"
         },
         {
          "fillcolor": "#d62728",
          "layer": "below",
          "line": {
           "width": 0
          },
          "opacity": 0.2,
          "type": "rect",
          "x0": 2000,
          "x1": 2002,
          "xref": "x",
          "y0": 0,
          "y1": 1,
          "yref": "y domain"
         },
         {
          "fillcolor": "#2ca02c",
          "layer": "below",
          "line": {
           "width": 0
          },
          "opacity": 0.2,
          "type": "rect",
          "x0": 2002,
          "x1": 2010,
          "xref": "x",
          "y0": 0,
          "y1": 1,
          "yref": "y domain"
         },
         {
          "fillcolor": "#d62728",
          "layer": "below",
          "line": {
           "width": 0
          },
          "opacity": 0.2,
          "type": "rect",
          "x0": 2010,
          "x1": 2011,
          "xref": "x",
          "y0": 0,
          "y1": 1,
          "yref": "y domain"
         },
         {
          "fillcolor": "#2ca02c",
          "layer": "below",
          "line": {
           "width": 0
          },
          "opacity": 0.2,
          "type": "rect",
          "x0": 2011,
          "x1": 2015,
          "xref": "x",
          "y0": 0,
          "y1": 1,
          "yref": "y domain"
         },
         {
          "fillcolor": "#d62728",
          "layer": "below",
          "line": {
           "width": 0
          },
          "opacity": 0.2,
          "type": "rect",
          "x0": 2015,
          "x1": 2017,
          "xref": "x",
          "y0": 0,
          "y1": 1,
          "yref": "y domain"
         },
         {
          "fillcolor": "#2ca02c",
          "layer": "below",
          "line": {
           "width": 0
          },
          "opacity": 0.2,
          "type": "rect",
          "x0": 2017,
          "x1": 2020,
          "xref": "x",
          "y0": 0,
          "y1": 1,
          "yref": "y domain"
         },
         {
          "fillcolor": "#d62728",
          "layer": "below",
          "line": {
           "width": 0
          },
          "opacity": 0.2,
          "type": "rect",
          "x0": 2020,
          "x1": 2021,
          "xref": "x",
          "y0": 0,
          "y1": 1,
          "yref": "y domain"
         },
         {
          "fillcolor": "#2ca02c",
          "layer": "below",
          "line": {
           "width": 0
          },
          "opacity": 0.2,
          "type": "rect",
          "x0": 2021,
          "x1": 2023,
          "xref": "x",
          "y0": 0,
          "y1": 1,
          "yref": "y domain"
         }
        ],
        "template": {
         "data": {
          "bar": [
           {
            "error_x": {
             "color": "#2a3f5f"
            },
            "error_y": {
             "color": "#2a3f5f"
            },
            "marker": {
             "line": {
              "color": "#E5ECF6",
              "width": 0.5
             },
             "pattern": {
              "fillmode": "overlay",
              "size": 10,
              "solidity": 0.2
             }
            },
            "type": "bar"
           }
          ],
          "barpolar": [
           {
            "marker": {
             "line": {
              "color": "#E5ECF6",
              "width": 0.5
             },
             "pattern": {
              "fillmode": "overlay",
              "size": 10,
              "solidity": 0.2
             }
            },
            "type": "barpolar"
           }
          ],
          "carpet": [
           {
            "aaxis": {
             "endlinecolor": "#2a3f5f",
             "gridcolor": "white",
             "linecolor": "white",
             "minorgridcolor": "white",
             "startlinecolor": "#2a3f5f"
            },
            "baxis": {
             "endlinecolor": "#2a3f5f",
             "gridcolor": "white",
             "linecolor": "white",
             "minorgridcolor": "white",
             "startlinecolor": "#2a3f5f"
            },
            "type": "carpet"
           }
          ],
          "choropleth": [
           {
            "colorbar": {
             "outlinewidth": 0,
             "ticks": ""
            },
            "type": "choropleth"
           }
          ],
          "contour": [
           {
            "colorbar": {
             "outlinewidth": 0,
             "ticks": ""
            },
            "colorscale": [
             [
              0,
              "#0d0887"
             ],
             [
              0.1111111111111111,
              "#46039f"
             ],
             [
              0.2222222222222222,
              "#7201a8"
             ],
             [
              0.3333333333333333,
              "#9c179e"
             ],
             [
              0.4444444444444444,
              "#bd3786"
             ],
             [
              0.5555555555555556,
              "#d8576b"
             ],
             [
              0.6666666666666666,
              "#ed7953"
             ],
             [
              0.7777777777777778,
              "#fb9f3a"
             ],
             [
              0.8888888888888888,
              "#fdca26"
             ],
             [
              1,
              "#f0f921"
             ]
            ],
            "type": "contour"
           }
          ],
          "contourcarpet": [
           {
            "colorbar": {
             "outlinewidth": 0,
             "ticks": ""
            },
            "type": "contourcarpet"
           }
          ],
          "heatmap": [
           {
            "colorbar": {
             "outlinewidth": 0,
             "ticks": ""
            },
            "colorscale": [
             [
              0,
              "#0d0887"
             ],
             [
              0.1111111111111111,
              "#46039f"
             ],
             [
              0.2222222222222222,
              "#7201a8"
             ],
             [
              0.3333333333333333,
              "#9c179e"
             ],
             [
              0.4444444444444444,
              "#bd3786"
             ],
             [
              0.5555555555555556,
              "#d8576b"
             ],
             [
              0.6666666666666666,
              "#ed7953"
             ],
             [
              0.7777777777777778,
              "#fb9f3a"
             ],
             [
              0.8888888888888888,
              "#fdca26"
             ],
             [
              1,
              "#f0f921"
             ]
            ],
            "type": "heatmap"
           }
          ],
          "heatmapgl": [
           {
            "colorbar": {
             "outlinewidth": 0,
             "ticks": ""
            },
            "colorscale": [
             [
              0,
              "#0d0887"
             ],
             [
              0.1111111111111111,
              "#46039f"
             ],
             [
              0.2222222222222222,
              "#7201a8"
             ],
             [
              0.3333333333333333,
              "#9c179e"
             ],
             [
              0.4444444444444444,
              "#bd3786"
             ],
             [
              0.5555555555555556,
              "#d8576b"
             ],
             [
              0.6666666666666666,
              "#ed7953"
             ],
             [
              0.7777777777777778,
              "#fb9f3a"
             ],
             [
              0.8888888888888888,
              "#fdca26"
             ],
             [
              1,
              "#f0f921"
             ]
            ],
            "type": "heatmapgl"
           }
          ],
          "histogram": [
           {
            "marker": {
             "pattern": {
              "fillmode": "overlay",
              "size": 10,
              "solidity": 0.2
             }
            },
            "type": "histogram"
           }
          ],
          "histogram2d": [
           {
            "colorbar": {
             "outlinewidth": 0,
             "ticks": ""
            },
            "colorscale": [
             [
              0,
              "#0d0887"
             ],
             [
              0.1111111111111111,
              "#46039f"
             ],
             [
              0.2222222222222222,
              "#7201a8"
             ],
             [
              0.3333333333333333,
              "#9c179e"
             ],
             [
              0.4444444444444444,
              "#bd3786"
             ],
             [
              0.5555555555555556,
              "#d8576b"
             ],
             [
              0.6666666666666666,
              "#ed7953"
             ],
             [
              0.7777777777777778,
              "#fb9f3a"
             ],
             [
              0.8888888888888888,
              "#fdca26"
             ],
             [
              1,
              "#f0f921"
             ]
            ],
            "type": "histogram2d"
           }
          ],
          "histogram2dcontour": [
           {
            "colorbar": {
             "outlinewidth": 0,
             "ticks": ""
            },
            "colorscale": [
             [
              0,
              "#0d0887"
             ],
             [
              0.1111111111111111,
              "#46039f"
             ],
             [
              0.2222222222222222,
              "#7201a8"
             ],
             [
              0.3333333333333333,
              "#9c179e"
             ],
             [
              0.4444444444444444,
              "#bd3786"
             ],
             [
              0.5555555555555556,
              "#d8576b"
             ],
             [
              0.6666666666666666,
              "#ed7953"
             ],
             [
              0.7777777777777778,
              "#fb9f3a"
             ],
             [
              0.8888888888888888,
              "#fdca26"
             ],
             [
              1,
              "#f0f921"
             ]
            ],
            "type": "histogram2dcontour"
           }
          ],
          "mesh3d": [
           {
            "colorbar": {
             "outlinewidth": 0,
             "ticks": ""
            },
            "type": "mesh3d"
           }
          ],
          "parcoords": [
           {
            "line": {
             "colorbar": {
              "outlinewidth": 0,
              "ticks": ""
             }
            },
            "type": "parcoords"
           }
          ],
          "pie": [
           {
            "automargin": true,
            "type": "pie"
           }
          ],
          "scatter": [
           {
            "fillpattern": {
             "fillmode": "overlay",
             "size": 10,
             "solidity": 0.2
            },
            "type": "scatter"
           }
          ],
          "scatter3d": [
           {
            "line": {
             "colorbar": {
              "outlinewidth": 0,
              "ticks": ""
             }
            },
            "marker": {
             "colorbar": {
              "outlinewidth": 0,
              "ticks": ""
             }
            },
            "type": "scatter3d"
           }
          ],
          "scattercarpet": [
           {
            "marker": {
             "colorbar": {
              "outlinewidth": 0,
              "ticks": ""
             }
            },
            "type": "scattercarpet"
           }
          ],
          "scattergeo": [
           {
            "marker": {
             "colorbar": {
              "outlinewidth": 0,
              "ticks": ""
             }
            },
            "type": "scattergeo"
           }
          ],
          "scattergl": [
           {
            "marker": {
             "colorbar": {
              "outlinewidth": 0,
              "ticks": ""
             }
            },
            "type": "scattergl"
           }
          ],
          "scattermapbox": [
           {
            "marker": {
             "colorbar": {
              "outlinewidth": 0,
              "ticks": ""
             }
            },
            "type": "scattermapbox"
           }
          ],
          "scatterpolar": [
           {
            "marker": {
             "colorbar": {
              "outlinewidth": 0,
              "ticks": ""
             }
            },
            "type": "scatterpolar"
           }
          ],
          "scatterpolargl": [
           {
            "marker": {
             "colorbar": {
              "outlinewidth": 0,
              "ticks": ""
             }
            },
            "type": "scatterpolargl"
           }
          ],
          "scatterternary": [
           {
            "marker": {
             "colorbar": {
              "outlinewidth": 0,
              "ticks": ""
             }
            },
            "type": "scatterternary"
           }
          ],
          "surface": [
           {
            "colorbar": {
             "outlinewidth": 0,
             "ticks": ""
            },
            "colorscale": [
             [
              0,
              "#0d0887"
             ],
             [
              0.1111111111111111,
              "#46039f"
             ],
             [
              0.2222222222222222,
              "#7201a8"
             ],
             [
              0.3333333333333333,
              "#9c179e"
             ],
             [
              0.4444444444444444,
              "#bd3786"
             ],
             [
              0.5555555555555556,
              "#d8576b"
             ],
             [
              0.6666666666666666,
              "#ed7953"
             ],
             [
              0.7777777777777778,
              "#fb9f3a"
             ],
             [
              0.8888888888888888,
              "#fdca26"
             ],
             [
              1,
              "#f0f921"
             ]
            ],
            "type": "surface"
           }
          ],
          "table": [
           {
            "cells": {
             "fill": {
              "color": "#EBF0F8"
             },
             "line": {
              "color": "white"
             }
            },
            "header": {
             "fill": {
              "color": "#C8D4E3"
             },
             "line": {
              "color": "white"
             }
            },
            "type": "table"
           }
          ]
         },
         "layout": {
          "annotationdefaults": {
           "arrowcolor": "#2a3f5f",
           "arrowhead": 0,
           "arrowwidth": 1
          },
          "autotypenumbers": "strict",
          "coloraxis": {
           "colorbar": {
            "outlinewidth": 0,
            "ticks": ""
           }
          },
          "colorscale": {
           "diverging": [
            [
             0,
             "#8e0152"
            ],
            [
             0.1,
             "#c51b7d"
            ],
            [
             0.2,
             "#de77ae"
            ],
            [
             0.3,
             "#f1b6da"
            ],
            [
             0.4,
             "#fde0ef"
            ],
            [
             0.5,
             "#f7f7f7"
            ],
            [
             0.6,
             "#e6f5d0"
            ],
            [
             0.7,
             "#b8e186"
            ],
            [
             0.8,
             "#7fbc41"
            ],
            [
             0.9,
             "#4d9221"
            ],
            [
             1,
             "#276419"
            ]
           ],
           "sequential": [
            [
             0,
             "#0d0887"
            ],
            [
             0.1111111111111111,
             "#46039f"
            ],
            [
             0.2222222222222222,
             "#7201a8"
            ],
            [
             0.3333333333333333,
             "#9c179e"
            ],
            [
             0.4444444444444444,
             "#bd3786"
            ],
            [
             0.5555555555555556,
             "#d8576b"
            ],
            [
             0.6666666666666666,
             "#ed7953"
            ],
            [
             0.7777777777777778,
             "#fb9f3a"
            ],
            [
             0.8888888888888888,
             "#fdca26"
            ],
            [
             1,
             "#f0f921"
            ]
           ],
           "sequentialminus": [
            [
             0,
             "#0d0887"
            ],
            [
             0.1111111111111111,
             "#46039f"
            ],
            [
             0.2222222222222222,
             "#7201a8"
            ],
            [
             0.3333333333333333,
             "#9c179e"
            ],
            [
             0.4444444444444444,
             "#bd3786"
            ],
            [
             0.5555555555555556,
             "#d8576b"
            ],
            [
             0.6666666666666666,
             "#ed7953"
            ],
            [
             0.7777777777777778,
             "#fb9f3a"
            ],
            [
             0.8888888888888888,
             "#fdca26"
            ],
            [
             1,
             "#f0f921"
            ]
           ]
          },
          "colorway": [
           "#636efa",
           "#EF553B",
           "#00cc96",
           "#ab63fa",
           "#FFA15A",
           "#19d3f3",
           "#FF6692",
           "#B6E880",
           "#FF97FF",
           "#FECB52"
          ],
          "font": {
           "color": "#2a3f5f"
          },
          "geo": {
           "bgcolor": "white",
           "lakecolor": "white",
           "landcolor": "#E5ECF6",
           "showlakes": true,
           "showland": true,
           "subunitcolor": "white"
          },
          "hoverlabel": {
           "align": "left"
          },
          "hovermode": "closest",
          "mapbox": {
           "style": "light"
          },
          "paper_bgcolor": "white",
          "plot_bgcolor": "#E5ECF6",
          "polar": {
           "angularaxis": {
            "gridcolor": "white",
            "linecolor": "white",
            "ticks": ""
           },
           "bgcolor": "#E5ECF6",
           "radialaxis": {
            "gridcolor": "white",
            "linecolor": "white",
            "ticks": ""
           }
          },
          "scene": {
           "xaxis": {
            "backgroundcolor": "#E5ECF6",
            "gridcolor": "white",
            "gridwidth": 2,
            "linecolor": "white",
            "showbackground": true,
            "ticks": "",
            "zerolinecolor": "white"
           },
           "yaxis": {
            "backgroundcolor": "#E5ECF6",
            "gridcolor": "white",
            "gridwidth": 2,
            "linecolor": "white",
            "showbackground": true,
            "ticks": "",
            "zerolinecolor": "white"
           },
           "zaxis": {
            "backgroundcolor": "#E5ECF6",
            "gridcolor": "white",
            "gridwidth": 2,
            "linecolor": "white",
            "showbackground": true,
            "ticks": "",
            "zerolinecolor": "white"
           }
          },
          "shapedefaults": {
           "line": {
            "color": "#2a3f5f"
           }
          },
          "ternary": {
           "aaxis": {
            "gridcolor": "white",
            "linecolor": "white",
            "ticks": ""
           },
           "baxis": {
            "gridcolor": "white",
            "linecolor": "white",
            "ticks": ""
           },
           "bgcolor": "#E5ECF6",
           "caxis": {
            "gridcolor": "white",
            "linecolor": "white",
            "ticks": ""
           }
          },
          "title": {
           "x": 0.05
          },
          "xaxis": {
           "automargin": true,
           "gridcolor": "white",
           "linecolor": "white",
           "ticks": "",
           "title": {
            "standoff": 15
           },
           "zerolinecolor": "white",
           "zerolinewidth": 2
          },
          "yaxis": {
           "automargin": true,
           "gridcolor": "white",
           "linecolor": "white",
           "ticks": "",
           "title": {
            "standoff": 15
           },
           "zerolinecolor": "white",
           "zerolinewidth": 2
          }
         }
        },
        "title": {
         "text": "Friday Return compared with Next Monday"
        },
        "xaxis": {
         "anchor": "y",
         "domain": [
          0,
          1
         ],
         "title": {
          "text": "Year"
         }
        },
        "yaxis": {
         "anchor": "x",
         "domain": [
          0,
          1
         ],
         "title": {
          "text": "Values"
         }
        }
       }
      }
     },
     "metadata": {},
     "output_type": "display_data"
    }
   ],
   "source": [
    "#create lineplot\n",
    "fig = px.line(ff, x=ff.index, y = ['friday_return','monday_return'])\n",
    "\n",
    "# Highlight areas according to the frequency\n",
    "current = ''\n",
    "changes = []\n",
    "\n",
    "for ind in ff.index:\n",
    "    if current != ff['freq'][ind]:\n",
    "        current = ff['freq'][ind]\n",
    "        changes.append([ff['year'][ind],ff['freq'][ind]])\n",
    "\n",
    "        \n",
    "color_dict= {'positive':'#2ca02c', 'negative':'#d62728',}\n",
    "\n",
    "for i, val in enumerate(changes):\n",
    "    if (i+1) == len(changes):\n",
    "            changes_last_date = changes[-1][0]\n",
    "            changes_last_state = changes[-1][1]\n",
    "            last_date= ff['year'].iloc[-1]\n",
    "            fig.add_vrect(\n",
    "                          x0=changes_last_date, x1=last_date,\n",
    "                          fillcolor=color_dict[changes_last_state], opacity=0.2,\n",
    "                          layer=\"below\", line_width=0)\n",
    "\n",
    "    else:\n",
    "          \n",
    "        if changes[i][1] =='positive':\n",
    "            fig.add_vrect(\n",
    "                       x0=changes[i][0], x1=changes[i+1][0],\n",
    "                        fillcolor=color_dict['positive'], opacity=0.2,\n",
    "                        layer=\"below\", line_width=0)\n",
    "            \n",
    "        if changes[i][1] =='negative':\n",
    "            fig.add_vrect(\n",
    "                        x0=changes[i][0], x1=changes[i+1][0],\n",
    "                        fillcolor=color_dict['negative'], opacity=0.2,\n",
    "                        layer=\"below\", line_width=0)\n",
    "\n",
    "#update labels\n",
    "fig.update_layout(xaxis_title=\"Year\", yaxis_title=\"Values\", \n",
    "                  title='Friday Return compared with Next Monday',\n",
    "                 legend_title_text='Day')\n",
    "\n",
    "#save figures for upload\n",
    "fig.write_image(\"images/f_m.png\")\n",
    "\n",
    "#show figure\n",
    "fig.show()"
   ]
  },
  {
   "cell_type": "markdown",
   "id": "09e9cac0-8058-4d9e-9ed8-e813d42f66b1",
   "metadata": {},
   "source": [
    "Recent data shows the relevance and extent of the Weekend Effect. The blue line shows the frequency of higher Friday returns compared to Monday in percentage. The green shaded area shows when there are more Friday's with higher returns than the next Monday. The red shaded areas show the opposite.The red and green lines shows the median return for each day. The purple is the difference between Friday's median return with Monday's median return.\n",
    "\n",
    "From our generalised data a few differences remain. Firstly, this plot would argue the Weekend effect is more prevalent than first thought. 73% of years show Friday's have better gains than Monday. The second difference is the extent of the Weekend effect. From summary statistics there was very little difference between the average days returns. However, signficant differences remain when looking from year to year. Taking 2010 onwards, years where there is a significant difference in the frequency of higher Friday's results in significant differences in return. In 2013, 72% of Fridays returns were higher than Mondays with a mean basis differential of 19. Likewise, when only 42% of Fridays were higher, the mean differential was negative 40 basis points. \n",
    "\n",
    "Why does this difference between generalised and yearly data occur? \n",
    "\n",
    "These yearly data points highlight a core phenomenon. Higher frequencies of high Friday returns offer a smaller gain compared to Monday returns in a year with a lower frequency of high Friday returns. However, these gains mitigate eachother. As more years have higher Friday returns than Monday, the returns are almost offset as seen in the above generalised data.\n",
    "\n",
    "Why is the Weekend Effect not present every year?\n",
    "\n",
    "One explanation may rely on the general economy. For instance, the market saw a significant drop in 2020 when the covid pandemic hit. Only 42% of Fridays had higher gains and Monday's median return is 40 basis points higher. This trend continues with the global financial crisis that occurs at the end of 2008. In the aftermath, 2009 sees a decreasing frequency and difference of 21 basis points. The same trend continues in the early 2000s. What's common among these crashes is that Monday managed to see significant positive returns.\n",
    "\n",
    "How can we use this to our advantage?\n",
    "\n",
    "During a crash in the market, Mondays are better to invest in. They offer a much greater gain than could be made when investing on Friday's during bull markets economic development. The Weekend Effect persists to an extent that significant gains can be made. However, timing the market is important."
   ]
  },
  {
   "cell_type": "markdown",
   "id": "922856db-f974-4dd5-9c13-8fc0183a80fc",
   "metadata": {},
   "source": [
    "How does this compare to other pairings?"
   ]
  },
  {
   "cell_type": "code",
   "execution_count": 163,
   "id": "d74e1a60-8401-4311-9ea6-f8f1b4fae7eb",
   "metadata": {},
   "outputs": [
    {
     "data": {
      "application/vnd.plotly.v1+json": {
       "config": {
        "plotlyServerURL": "https://plot.ly"
       },
       "data": [
        {
         "hovertemplate": "current_day=Monday<br>index=%{x}<br>median_return_current=%{y}<extra></extra>",
         "legendgroup": "Monday",
         "line": {
          "color": "#636efa",
          "dash": "solid"
         },
         "marker": {
          "symbol": "circle"
         },
         "mode": "lines",
         "name": "Monday",
         "orientation": "h",
         "showlegend": true,
         "type": "scatter",
         "x": [
          1982,
          1983,
          1984,
          1985,
          1986,
          1987,
          1988,
          1989,
          1990,
          1991,
          1992,
          1993,
          1994,
          1995,
          1996,
          1997,
          1998,
          1999,
          2000,
          2001,
          2002,
          2003,
          2004,
          2005,
          2006,
          2007,
          2008,
          2009,
          2010,
          2011,
          2012,
          2013,
          2014,
          2015,
          2016,
          2017,
          2018,
          2019,
          2020,
          2021,
          2022,
          2023
         ],
         "xaxis": "x",
         "y": [
          0.22144713824911516,
          0.09579032221792783,
          0.20791704448850007,
          -0.000256240952198037,
          0.3471169151438206,
          -0.02361944461935168,
          0.07134357830804404,
          0.2572120622911619,
          -0.048166552768559565,
          0.1667845145297163,
          0.13130995453612423,
          0.19338436654548163,
          0.043593934477919254,
          0.13268187334330944,
          0.12539358600161493,
          0.3269360322645247,
          0.08914247050056129,
          -0.06063225010654482,
          0.011808140043671242,
          -0.13039389129810225,
          -0.1320918747304885,
          0.2896413255992918,
          0.027433995172763032,
          0.10968624014699019,
          0.06533898630425056,
          -0.09583721075837064,
          -0.2912479464578499,
          0.3241286091327247,
          0.097482541078942,
          -0.11355747242050918,
          0.0065339468573229935,
          0.006550767799164456,
          0.04526985623643257,
          0.02958347347533204,
          -0.011447114824037796,
          0.06744185258452756,
          -0.058092361910269806,
          0.02132108107776174,
          0.41787736859714186,
          0.061895186726865115,
          -0.09839861703694226,
          0.24048541470092538
         ],
         "yaxis": "y"
        },
        {
         "hovertemplate": "current_day=Tuesday<br>index=%{x}<br>median_return_current=%{y}<extra></extra>",
         "legendgroup": "Tuesday",
         "line": {
          "color": "#EF553B",
          "dash": "solid"
         },
         "marker": {
          "symbol": "circle"
         },
         "mode": "lines",
         "name": "Tuesday",
         "orientation": "h",
         "showlegend": true,
         "type": "scatter",
         "x": [
          1982,
          1983,
          1984,
          1985,
          1986,
          1987,
          1988,
          1989,
          1990,
          1991,
          1992,
          1993,
          1994,
          1995,
          1996,
          1997,
          1998,
          1999,
          2000,
          2001,
          2002,
          2003,
          2004,
          2005,
          2006,
          2007,
          2008,
          2009,
          2010,
          2011,
          2012,
          2013,
          2014,
          2015,
          2016,
          2017,
          2018,
          2019,
          2020,
          2021,
          2022,
          2023
         ],
         "xaxis": "x",
         "y": [
          -0.029739739135631136,
          -0.12234995191247541,
          0.3024246988417372,
          0.11722194803234424,
          0.1567908601553912,
          0.07057606134881843,
          0.06890879694659767,
          0.09207309085507885,
          0.23438898749401987,
          -0.07257996804545984,
          -0.010808221000052437,
          -0.02853750141963815,
          -0.01112029399822998,
          0.10659011739515761,
          -0.11309298200069218,
          0.3328428804736469,
          0.26525433828107714,
          -0.45131369955036327,
          -0.25723482846480467,
          -0.05645962568519062,
          -0.6201308208712147,
          0.29286165678504683,
          0.14177233134408096,
          -0.022345788069070276,
          0.0682098535891273,
          0.08177951230182244,
          0.2035024674117424,
          0.10224684182266514,
          -0.004132879921493183,
          0.14424806427666745,
          0.04103359298766805,
          0.23350769365925889,
          0.08334422082554713,
          -0.09607323162734746,
          0.0615036508231113,
          0.005013404050251138,
          0.044873634262774215,
          0.08286911435570317,
          -0.10566843673212428,
          -0.1377862749015818,
          -0.24539181231775697,
          -0.0719619912835177
         ],
         "yaxis": "y"
        },
        {
         "hovertemplate": "current_day=Wednesday<br>index=%{x}<br>median_return_current=%{y}<extra></extra>",
         "legendgroup": "Wednesday",
         "line": {
          "color": "#00cc96",
          "dash": "solid"
         },
         "marker": {
          "symbol": "circle"
         },
         "mode": "lines",
         "name": "Wednesday",
         "orientation": "h",
         "showlegend": true,
         "type": "scatter",
         "x": [
          1982,
          1983,
          1984,
          1985,
          1986,
          1987,
          1988,
          1989,
          1990,
          1991,
          1992,
          1993,
          1994,
          1995,
          1996,
          1997,
          1998,
          1999,
          2000,
          2001,
          2002,
          2003,
          2004,
          2005,
          2006,
          2007,
          2008,
          2009,
          2010,
          2011,
          2012,
          2013,
          2014,
          2015,
          2016,
          2017,
          2018,
          2019,
          2020,
          2021,
          2022,
          2023
         ],
         "xaxis": "x",
         "y": [
          -0.18820527640913115,
          0.17702593124049967,
          0.0185269627105446,
          0.06516095328684869,
          -0.11872220990474967,
          0.04378873638323563,
          0.12347902039712522,
          -0.053748510768191336,
          0.020491553457192196,
          0.13781932669969948,
          0.025399680722601035,
          0.04144057688853147,
          0.011723313455656166,
          0.11542603021016856,
          0.09483594775825743,
          -0.26635553443354587,
          0.2581335618455527,
          0.3690091853035158,
          -0.4212720919293279,
          -0.21311473915543722,
          0.5349160777425899,
          -0.16619090241457934,
          0.16706176291571695,
          0.07395138762318193,
          0.23290929475587607,
          0.2646427603552426,
          -0.24563160055212757,
          0.07495196554129745,
          0.07944199756604178,
          0.1240999975164537,
          0.012433190183584214,
          0.020379195490602686,
          0.05179931310560437,
          -0.05430206115708826,
          0.11511443929410374,
          0.06940255398570636,
          -0.06429738259905436,
          0.09926116974010456,
          0.21387694970933707,
          0.09230014938581388,
          0.016268686574108886,
          -0.10062564415679416
         ],
         "yaxis": "y"
        },
        {
         "hovertemplate": "current_day=Thursday<br>index=%{x}<br>median_return_current=%{y}<extra></extra>",
         "legendgroup": "Thursday",
         "line": {
          "color": "#ab63fa",
          "dash": "solid"
         },
         "marker": {
          "symbol": "circle"
         },
         "mode": "lines",
         "name": "Thursday",
         "orientation": "h",
         "showlegend": true,
         "type": "scatter",
         "x": [
          1982,
          1983,
          1984,
          1985,
          1986,
          1987,
          1988,
          1989,
          1990,
          1991,
          1992,
          1993,
          1994,
          1995,
          1996,
          1997,
          1998,
          1999,
          2000,
          2001,
          2002,
          2003,
          2004,
          2005,
          2006,
          2007,
          2008,
          2009,
          2010,
          2011,
          2012,
          2013,
          2014,
          2015,
          2016,
          2017,
          2018,
          2019,
          2020,
          2021,
          2022,
          2023
         ],
         "xaxis": "x",
         "y": [
          -0.1754385999110766,
          0.0661436686308796,
          0.015498553620307658,
          0.09037434780563988,
          -0.25143832651920744,
          -0.06717667648679165,
          -0.0029874500312424526,
          0.009252945435532815,
          0.14621763536538293,
          -0.04537829389201192,
          0.016740715862458573,
          -0.09363125877510937,
          -0.05713971954267906,
          0.05648899321251295,
          0.012884985440553961,
          -0.3406577271045135,
          -0.3337020478609117,
          0.06901521236766966,
          0.14602166974256936,
          0.27237566263064816,
          -0.18149412896178704,
          0.2419803072474145,
          0.010007313505313734,
          0.07484794618359299,
          0.03775698213163365,
          0.03176013030329078,
          0.26507612682195336,
          0.5686263330729124,
          0.07433484354031415,
          0.21264209719305957,
          0.14765185921773571,
          0.24389547692650745,
          0.0006795466076676862,
          0.07708717808771287,
          -0.0066531319154906525,
          0.006033022521401064,
          0.023185098588830964,
          0.06889872191902685,
          0.23832050673942046,
          0.1423887989398129,
          0.014897673694532305,
          0.042183765758551345
         ],
         "yaxis": "y"
        },
        {
         "hovertemplate": "current_day=Friday<br>index=%{x}<br>median_return_current=%{y}<extra></extra>",
         "legendgroup": "Friday",
         "line": {
          "color": "#FFA15A",
          "dash": "solid"
         },
         "marker": {
          "symbol": "circle"
         },
         "mode": "lines",
         "name": "Friday",
         "orientation": "h",
         "showlegend": true,
         "type": "scatter",
         "x": [
          1982,
          1983,
          1984,
          1985,
          1986,
          1987,
          1988,
          1989,
          1990,
          1991,
          1992,
          1993,
          1994,
          1995,
          1996,
          1997,
          1998,
          1999,
          2000,
          2001,
          2002,
          2003,
          2004,
          2005,
          2006,
          2007,
          2008,
          2009,
          2010,
          2011,
          2012,
          2013,
          2014,
          2015,
          2016,
          2017,
          2018,
          2019,
          2020,
          2021,
          2022,
          2023
         ],
         "xaxis": "x",
         "y": [
          -0.12961259197855957,
          0.01000250029977086,
          -0.09844610376532378,
          0.32863975204903856,
          0.06225804317187718,
          0.06776216321078908,
          0.11476388679408778,
          0.07855711521099472,
          -0.11700288726632406,
          0.015498553620307658,
          -0.09844610376532378,
          -0.000256240952198037,
          0.11722194803234424,
          0.06516095328684869,
          0.09037434780563988,
          0.32863975204903856,
          0.3471169151438206,
          0.1567908601553912,
          -0.11872220990474967,
          -0.25143832651920744,
          0.06225804317187718,
          -0.02361944461935168,
          0.07057606134881843,
          0.04378873638323563,
          -0.06717667648679165,
          0.06776216321078908,
          0.07134357830804404,
          0.06890879694659767,
          0.12347902039712522,
          -0.0029874500312424526,
          0.11476388679408778,
          0.2572120622911619,
          0.09207309085507885,
          -0.053748510768191336,
          0.009252945435532815,
          0.07855711521099472,
          -0.048166552768559565,
          0.23438898749401987,
          0.020491553457192196,
          0.14621763536538293,
          -0.11700288726632406,
          0.1667845145297163
         ],
         "yaxis": "y"
        }
       ],
       "layout": {
        "legend": {
         "title": {
          "text": "current_day"
         },
         "tracegroupgap": 0
        },
        "margin": {
         "t": 60
        },
        "template": {
         "data": {
          "bar": [
           {
            "error_x": {
             "color": "#2a3f5f"
            },
            "error_y": {
             "color": "#2a3f5f"
            },
            "marker": {
             "line": {
              "color": "#E5ECF6",
              "width": 0.5
             },
             "pattern": {
              "fillmode": "overlay",
              "size": 10,
              "solidity": 0.2
             }
            },
            "type": "bar"
           }
          ],
          "barpolar": [
           {
            "marker": {
             "line": {
              "color": "#E5ECF6",
              "width": 0.5
             },
             "pattern": {
              "fillmode": "overlay",
              "size": 10,
              "solidity": 0.2
             }
            },
            "type": "barpolar"
           }
          ],
          "carpet": [
           {
            "aaxis": {
             "endlinecolor": "#2a3f5f",
             "gridcolor": "white",
             "linecolor": "white",
             "minorgridcolor": "white",
             "startlinecolor": "#2a3f5f"
            },
            "baxis": {
             "endlinecolor": "#2a3f5f",
             "gridcolor": "white",
             "linecolor": "white",
             "minorgridcolor": "white",
             "startlinecolor": "#2a3f5f"
            },
            "type": "carpet"
           }
          ],
          "choropleth": [
           {
            "colorbar": {
             "outlinewidth": 0,
             "ticks": ""
            },
            "type": "choropleth"
           }
          ],
          "contour": [
           {
            "colorbar": {
             "outlinewidth": 0,
             "ticks": ""
            },
            "colorscale": [
             [
              0,
              "#0d0887"
             ],
             [
              0.1111111111111111,
              "#46039f"
             ],
             [
              0.2222222222222222,
              "#7201a8"
             ],
             [
              0.3333333333333333,
              "#9c179e"
             ],
             [
              0.4444444444444444,
              "#bd3786"
             ],
             [
              0.5555555555555556,
              "#d8576b"
             ],
             [
              0.6666666666666666,
              "#ed7953"
             ],
             [
              0.7777777777777778,
              "#fb9f3a"
             ],
             [
              0.8888888888888888,
              "#fdca26"
             ],
             [
              1,
              "#f0f921"
             ]
            ],
            "type": "contour"
           }
          ],
          "contourcarpet": [
           {
            "colorbar": {
             "outlinewidth": 0,
             "ticks": ""
            },
            "type": "contourcarpet"
           }
          ],
          "heatmap": [
           {
            "colorbar": {
             "outlinewidth": 0,
             "ticks": ""
            },
            "colorscale": [
             [
              0,
              "#0d0887"
             ],
             [
              0.1111111111111111,
              "#46039f"
             ],
             [
              0.2222222222222222,
              "#7201a8"
             ],
             [
              0.3333333333333333,
              "#9c179e"
             ],
             [
              0.4444444444444444,
              "#bd3786"
             ],
             [
              0.5555555555555556,
              "#d8576b"
             ],
             [
              0.6666666666666666,
              "#ed7953"
             ],
             [
              0.7777777777777778,
              "#fb9f3a"
             ],
             [
              0.8888888888888888,
              "#fdca26"
             ],
             [
              1,
              "#f0f921"
             ]
            ],
            "type": "heatmap"
           }
          ],
          "heatmapgl": [
           {
            "colorbar": {
             "outlinewidth": 0,
             "ticks": ""
            },
            "colorscale": [
             [
              0,
              "#0d0887"
             ],
             [
              0.1111111111111111,
              "#46039f"
             ],
             [
              0.2222222222222222,
              "#7201a8"
             ],
             [
              0.3333333333333333,
              "#9c179e"
             ],
             [
              0.4444444444444444,
              "#bd3786"
             ],
             [
              0.5555555555555556,
              "#d8576b"
             ],
             [
              0.6666666666666666,
              "#ed7953"
             ],
             [
              0.7777777777777778,
              "#fb9f3a"
             ],
             [
              0.8888888888888888,
              "#fdca26"
             ],
             [
              1,
              "#f0f921"
             ]
            ],
            "type": "heatmapgl"
           }
          ],
          "histogram": [
           {
            "marker": {
             "pattern": {
              "fillmode": "overlay",
              "size": 10,
              "solidity": 0.2
             }
            },
            "type": "histogram"
           }
          ],
          "histogram2d": [
           {
            "colorbar": {
             "outlinewidth": 0,
             "ticks": ""
            },
            "colorscale": [
             [
              0,
              "#0d0887"
             ],
             [
              0.1111111111111111,
              "#46039f"
             ],
             [
              0.2222222222222222,
              "#7201a8"
             ],
             [
              0.3333333333333333,
              "#9c179e"
             ],
             [
              0.4444444444444444,
              "#bd3786"
             ],
             [
              0.5555555555555556,
              "#d8576b"
             ],
             [
              0.6666666666666666,
              "#ed7953"
             ],
             [
              0.7777777777777778,
              "#fb9f3a"
             ],
             [
              0.8888888888888888,
              "#fdca26"
             ],
             [
              1,
              "#f0f921"
             ]
            ],
            "type": "histogram2d"
           }
          ],
          "histogram2dcontour": [
           {
            "colorbar": {
             "outlinewidth": 0,
             "ticks": ""
            },
            "colorscale": [
             [
              0,
              "#0d0887"
             ],
             [
              0.1111111111111111,
              "#46039f"
             ],
             [
              0.2222222222222222,
              "#7201a8"
             ],
             [
              0.3333333333333333,
              "#9c179e"
             ],
             [
              0.4444444444444444,
              "#bd3786"
             ],
             [
              0.5555555555555556,
              "#d8576b"
             ],
             [
              0.6666666666666666,
              "#ed7953"
             ],
             [
              0.7777777777777778,
              "#fb9f3a"
             ],
             [
              0.8888888888888888,
              "#fdca26"
             ],
             [
              1,
              "#f0f921"
             ]
            ],
            "type": "histogram2dcontour"
           }
          ],
          "mesh3d": [
           {
            "colorbar": {
             "outlinewidth": 0,
             "ticks": ""
            },
            "type": "mesh3d"
           }
          ],
          "parcoords": [
           {
            "line": {
             "colorbar": {
              "outlinewidth": 0,
              "ticks": ""
             }
            },
            "type": "parcoords"
           }
          ],
          "pie": [
           {
            "automargin": true,
            "type": "pie"
           }
          ],
          "scatter": [
           {
            "fillpattern": {
             "fillmode": "overlay",
             "size": 10,
             "solidity": 0.2
            },
            "type": "scatter"
           }
          ],
          "scatter3d": [
           {
            "line": {
             "colorbar": {
              "outlinewidth": 0,
              "ticks": ""
             }
            },
            "marker": {
             "colorbar": {
              "outlinewidth": 0,
              "ticks": ""
             }
            },
            "type": "scatter3d"
           }
          ],
          "scattercarpet": [
           {
            "marker": {
             "colorbar": {
              "outlinewidth": 0,
              "ticks": ""
             }
            },
            "type": "scattercarpet"
           }
          ],
          "scattergeo": [
           {
            "marker": {
             "colorbar": {
              "outlinewidth": 0,
              "ticks": ""
             }
            },
            "type": "scattergeo"
           }
          ],
          "scattergl": [
           {
            "marker": {
             "colorbar": {
              "outlinewidth": 0,
              "ticks": ""
             }
            },
            "type": "scattergl"
           }
          ],
          "scattermapbox": [
           {
            "marker": {
             "colorbar": {
              "outlinewidth": 0,
              "ticks": ""
             }
            },
            "type": "scattermapbox"
           }
          ],
          "scatterpolar": [
           {
            "marker": {
             "colorbar": {
              "outlinewidth": 0,
              "ticks": ""
             }
            },
            "type": "scatterpolar"
           }
          ],
          "scatterpolargl": [
           {
            "marker": {
             "colorbar": {
              "outlinewidth": 0,
              "ticks": ""
             }
            },
            "type": "scatterpolargl"
           }
          ],
          "scatterternary": [
           {
            "marker": {
             "colorbar": {
              "outlinewidth": 0,
              "ticks": ""
             }
            },
            "type": "scatterternary"
           }
          ],
          "surface": [
           {
            "colorbar": {
             "outlinewidth": 0,
             "ticks": ""
            },
            "colorscale": [
             [
              0,
              "#0d0887"
             ],
             [
              0.1111111111111111,
              "#46039f"
             ],
             [
              0.2222222222222222,
              "#7201a8"
             ],
             [
              0.3333333333333333,
              "#9c179e"
             ],
             [
              0.4444444444444444,
              "#bd3786"
             ],
             [
              0.5555555555555556,
              "#d8576b"
             ],
             [
              0.6666666666666666,
              "#ed7953"
             ],
             [
              0.7777777777777778,
              "#fb9f3a"
             ],
             [
              0.8888888888888888,
              "#fdca26"
             ],
             [
              1,
              "#f0f921"
             ]
            ],
            "type": "surface"
           }
          ],
          "table": [
           {
            "cells": {
             "fill": {
              "color": "#EBF0F8"
             },
             "line": {
              "color": "white"
             }
            },
            "header": {
             "fill": {
              "color": "#C8D4E3"
             },
             "line": {
              "color": "white"
             }
            },
            "type": "table"
           }
          ]
         },
         "layout": {
          "annotationdefaults": {
           "arrowcolor": "#2a3f5f",
           "arrowhead": 0,
           "arrowwidth": 1
          },
          "autotypenumbers": "strict",
          "coloraxis": {
           "colorbar": {
            "outlinewidth": 0,
            "ticks": ""
           }
          },
          "colorscale": {
           "diverging": [
            [
             0,
             "#8e0152"
            ],
            [
             0.1,
             "#c51b7d"
            ],
            [
             0.2,
             "#de77ae"
            ],
            [
             0.3,
             "#f1b6da"
            ],
            [
             0.4,
             "#fde0ef"
            ],
            [
             0.5,
             "#f7f7f7"
            ],
            [
             0.6,
             "#e6f5d0"
            ],
            [
             0.7,
             "#b8e186"
            ],
            [
             0.8,
             "#7fbc41"
            ],
            [
             0.9,
             "#4d9221"
            ],
            [
             1,
             "#276419"
            ]
           ],
           "sequential": [
            [
             0,
             "#0d0887"
            ],
            [
             0.1111111111111111,
             "#46039f"
            ],
            [
             0.2222222222222222,
             "#7201a8"
            ],
            [
             0.3333333333333333,
             "#9c179e"
            ],
            [
             0.4444444444444444,
             "#bd3786"
            ],
            [
             0.5555555555555556,
             "#d8576b"
            ],
            [
             0.6666666666666666,
             "#ed7953"
            ],
            [
             0.7777777777777778,
             "#fb9f3a"
            ],
            [
             0.8888888888888888,
             "#fdca26"
            ],
            [
             1,
             "#f0f921"
            ]
           ],
           "sequentialminus": [
            [
             0,
             "#0d0887"
            ],
            [
             0.1111111111111111,
             "#46039f"
            ],
            [
             0.2222222222222222,
             "#7201a8"
            ],
            [
             0.3333333333333333,
             "#9c179e"
            ],
            [
             0.4444444444444444,
             "#bd3786"
            ],
            [
             0.5555555555555556,
             "#d8576b"
            ],
            [
             0.6666666666666666,
             "#ed7953"
            ],
            [
             0.7777777777777778,
             "#fb9f3a"
            ],
            [
             0.8888888888888888,
             "#fdca26"
            ],
            [
             1,
             "#f0f921"
            ]
           ]
          },
          "colorway": [
           "#636efa",
           "#EF553B",
           "#00cc96",
           "#ab63fa",
           "#FFA15A",
           "#19d3f3",
           "#FF6692",
           "#B6E880",
           "#FF97FF",
           "#FECB52"
          ],
          "font": {
           "color": "#2a3f5f"
          },
          "geo": {
           "bgcolor": "white",
           "lakecolor": "white",
           "landcolor": "#E5ECF6",
           "showlakes": true,
           "showland": true,
           "subunitcolor": "white"
          },
          "hoverlabel": {
           "align": "left"
          },
          "hovermode": "closest",
          "mapbox": {
           "style": "light"
          },
          "paper_bgcolor": "white",
          "plot_bgcolor": "#E5ECF6",
          "polar": {
           "angularaxis": {
            "gridcolor": "white",
            "linecolor": "white",
            "ticks": ""
           },
           "bgcolor": "#E5ECF6",
           "radialaxis": {
            "gridcolor": "white",
            "linecolor": "white",
            "ticks": ""
           }
          },
          "scene": {
           "xaxis": {
            "backgroundcolor": "#E5ECF6",
            "gridcolor": "white",
            "gridwidth": 2,
            "linecolor": "white",
            "showbackground": true,
            "ticks": "",
            "zerolinecolor": "white"
           },
           "yaxis": {
            "backgroundcolor": "#E5ECF6",
            "gridcolor": "white",
            "gridwidth": 2,
            "linecolor": "white",
            "showbackground": true,
            "ticks": "",
            "zerolinecolor": "white"
           },
           "zaxis": {
            "backgroundcolor": "#E5ECF6",
            "gridcolor": "white",
            "gridwidth": 2,
            "linecolor": "white",
            "showbackground": true,
            "ticks": "",
            "zerolinecolor": "white"
           }
          },
          "shapedefaults": {
           "line": {
            "color": "#2a3f5f"
           }
          },
          "ternary": {
           "aaxis": {
            "gridcolor": "white",
            "linecolor": "white",
            "ticks": ""
           },
           "baxis": {
            "gridcolor": "white",
            "linecolor": "white",
            "ticks": ""
           },
           "bgcolor": "#E5ECF6",
           "caxis": {
            "gridcolor": "white",
            "linecolor": "white",
            "ticks": ""
           }
          },
          "title": {
           "x": 0.05
          },
          "xaxis": {
           "automargin": true,
           "gridcolor": "white",
           "linecolor": "white",
           "ticks": "",
           "title": {
            "standoff": 15
           },
           "zerolinecolor": "white",
           "zerolinewidth": 2
          },
          "yaxis": {
           "automargin": true,
           "gridcolor": "white",
           "linecolor": "white",
           "ticks": "",
           "title": {
            "standoff": 15
           },
           "zerolinecolor": "white",
           "zerolinewidth": 2
          }
         }
        },
        "title": {
         "text": "Median Daily Returns"
        },
        "xaxis": {
         "anchor": "y",
         "domain": [
          0,
          1
         ],
         "title": {
          "text": "Year"
         }
        },
        "yaxis": {
         "anchor": "x",
         "domain": [
          0,
          1
         ],
         "title": {
          "text": "Return"
         }
        }
       }
      }
     },
     "metadata": {},
     "output_type": "display_data"
    }
   ],
   "source": [
    "fig = px.line(yearly_we, x=yearly_we.index, y = 'median_return_current', color='current_day')\n",
    "\n",
    "fig.update_layout(xaxis_title='Year', yaxis_title='Return', title='Median Daily Returns')\n",
    "\n",
    "fig.show()"
   ]
  },
  {
   "cell_type": "markdown",
   "id": "716fc3c0-7dfd-43ba-9bc4-2c28e737f0ef",
   "metadata": {},
   "source": [
    "Selecting other pairings offers insights, however, can't be fully explained. For instance, Tuesday data shows how much more negative volatility exists when compared to Monday. Wednesday data also experiences tremendous volatility between years that makes it difficult to argue it superiority. Before the 2000s returns between Wednesday and Thursday seem positively correlated, before completely flipping. Correlation will be considered in the Monday Effect."
   ]
  },
  {
   "cell_type": "markdown",
   "id": "034cb27d-0a0e-45a9-a320-c5fa452b0685",
   "metadata": {},
   "source": [
    "## Monday Effect\n",
    "\n",
    "Do trends continue past the weekend? Are Friday and Monday returns significantly correlated? How does this correlation compare to other days? How does this vary over time? Does the current trend influence the trend of the next period?"
   ]
  },
  {
   "cell_type": "markdown",
   "id": "03f0bc08-f0a6-441f-9eb0-fbd339f22809",
   "metadata": {},
   "source": [
    "### Trend\n",
    "\n",
    "Do trends continue past the weekend?Given Friday's prices rise, how often does Monday's price rise? Given Friday's falls, how often does Monday's fall? How does this compare to other days?\n",
    "\n",
    "What would be expected is a perfect 50% between values if the weekend effect does not exist."
   ]
  },
  {
   "cell_type": "code",
   "execution_count": 164,
   "id": "01f43380-0a56-48cf-ad58-0d43bf6a6512",
   "metadata": {},
   "outputs": [
    {
     "name": "stdout",
     "output_type": "stream",
     "text": [
      "percentage of positive Tuesday_trend values within positive Monday_trend values =\n",
      "47.14\n",
      "percentage of positive Wednesday_trend values within positive Tuesday_trend values =\n",
      "54.51\n",
      "percentage of positive Thursday_trend values within positive Wednesday_trend values =\n",
      "50.09\n",
      "percentage of positive Friday_trend values within positive Thursday_trend values =\n",
      "53.48\n",
      "percentage of positive Monday_next_trend values within positive Friday_trend values =\n",
      "48.41\n"
     ]
    }
   ],
   "source": [
    "#Create loop using trend columns in trend\n",
    "for column in df1.iloc[:,7:12]:\n",
    "    \n",
    "    #keep data where positive values of the given column \n",
    "    column_positive = (df1[df1[column] == 'positive'])\n",
    "\n",
    "    #keep data of positive values of the next day within the previously saved dataframe\n",
    "    column_positive_next = column_positive[column_positive.iloc[:,column_positive.columns.get_loc(column) + 1] == 'positive']\n",
    "    \n",
    "    #print text\n",
    "    print('percentage of positive ' + df1.columns[(column_positive.columns.get_loc(column) + 1)] + ' values within positive ' + (column) + ' values =')\n",
    "\n",
    "    #print percentage, calculated by length of the latter dataframe divided by the original\n",
    "    print(round(((len(column_positive_next)/len(column_positive))*100),2))"
   ]
  },
  {
   "cell_type": "markdown",
   "id": "f2c320b9-4375-4aad-8783-8766e4667f3d",
   "metadata": {},
   "source": [
    "As Friday's experiences a positive return, only 48.4% of Monday returns are positive. Interestingly, Wednesday follows the positive trend set on Tuesday 54% of the time."
   ]
  },
  {
   "cell_type": "code",
   "execution_count": 165,
   "id": "f3f87449-edcf-4a5f-ad98-f9b5cd389c93",
   "metadata": {},
   "outputs": [
    {
     "name": "stdout",
     "output_type": "stream",
     "text": [
      "percentage of negative Tuesday_trend values within negative Monday_trend values =\n",
      "42.92\n",
      "percentage of negative Wednesday_trend values within negative Tuesday_trend values =\n",
      "45.15\n",
      "percentage of negative Thursday_trend values within negative Wednesday_trend values =\n",
      "44.01\n",
      "percentage of negative Friday_trend values within negative Thursday_trend values =\n",
      "46.43\n",
      "percentage of negative Monday_next_trend values within negative Friday_trend values =\n",
      "42.05\n"
     ]
    }
   ],
   "source": [
    "#Create loop using trend columns in trend\n",
    "for column in df1.iloc[:,7:12]:\n",
    "    \n",
    "    #keep data where the given column is negative\n",
    "    column_negative = (df1[df1[column] == 'negative'])\n",
    "\n",
    "    #select data of negative values of the next day within the previously saved dataframe\n",
    "    column_negative_next = column_negative[column_negative.iloc[:,column_negative.columns.get_loc(column) + 1] == 'negative']\n",
    "    \n",
    "    #print text\n",
    "    print('percentage of negative ' + df1.columns[(column_positive.columns.get_loc(column) + 1)] + ' values within negative ' + (column) + ' values =')\n",
    "\n",
    "    #print length of the latter dataframe by the \n",
    "    print(round(((len(column_negative_next)/len(column_negative))*100),2))"
   ]
  },
  {
   "cell_type": "markdown",
   "id": "5ef125d9-5792-4cbd-97c1-ada9a86c6ac8",
   "metadata": {},
   "source": [
    "A negative trend set on Friday more often than not doesn't follow on the next Monday by an 8% margin. The Monday Effect is refuted in both these general analysis."
   ]
  },
  {
   "cell_type": "markdown",
   "id": "8e153bce-207f-4716-87cb-59f2b1299d30",
   "metadata": {},
   "source": [
    "### Extent\n",
    "\n",
    "How much does the return on Monday fluctuate with positive and negative returns given on Friday?"
   ]
  },
  {
   "cell_type": "code",
   "execution_count": 166,
   "id": "1af3ab64-7a66-4bd1-9b20-39bdc8cf5b3f",
   "metadata": {},
   "outputs": [
    {
     "name": "stdout",
     "output_type": "stream",
     "text": [
      "return when previous day had a positive trend:\n",
      "\n",
      "  previous day  current day      mean    median\n",
      "0       Monday      Tuesday  0.077822  0.018786\n",
      "1      Tuesday    Wednesday  0.085956  0.089347\n",
      "2    Wednesday     Thursday  0.074207  0.056963\n",
      "3     Thursday       Friday  0.670847  0.469092\n",
      "4       Friday  Monday_next  0.054649   0.05284\n"
     ]
    },
    {
     "name": "stderr",
     "output_type": "stream",
     "text": [
      "/var/folders/mc/2h3nzhln2bs9klxfl4_8hd8w0000gn/T/ipykernel_48765/1484706478.py:16: FutureWarning:\n",
      "\n",
      "The provided callable <function mean at 0x10a0a84a0> is currently using Series.mean. In a future version of pandas, the provided callable will be used directly. To keep current behavior pass the string \"mean\" instead.\n",
      "\n",
      "/var/folders/mc/2h3nzhln2bs9klxfl4_8hd8w0000gn/T/ipykernel_48765/1484706478.py:17: FutureWarning:\n",
      "\n",
      "The provided callable <function median at 0x10a1d8220> is currently using Series.median. In a future version of pandas, the provided callable will be used directly. To keep current behavior pass the string \"median\" instead.\n",
      "\n"
     ]
    }
   ],
   "source": [
    "#Create empty dataframe to add extent data to\n",
    "p_extent = pd.DataFrame(index=range(5),columns=range(4))\n",
    "\n",
    "#create column names\n",
    "p_extent.columns = ['previous day','current day','mean','median']\n",
    "\n",
    "#Create loop using trend columns in trend\n",
    "for column in df1.iloc[:,7:12]:\n",
    "    \n",
    "    #keep data where positive values of the given column \n",
    "    column_negative = (df1[df1[column] == 'positive'])\n",
    "    \n",
    "    #save appropriate values to p_extent\n",
    "    p_extent.iloc[(column_positive.columns.get_loc(column) - 7),0] = df1.columns[(column_positive.columns.get_loc(column) - 7)]\n",
    "    p_extent.iloc[(column_positive.columns.get_loc(column) - 7),1] = df1.columns[(column_positive.columns.get_loc(column) - 6)]\n",
    "    p_extent.iloc[(column_positive.columns.get_loc(column) - 7),2] = column_positive.iloc[:,(column_positive.columns.get_loc(column)) - 6].agg(np.mean)\n",
    "    p_extent.iloc[(column_positive.columns.get_loc(column) - 7),3] = column_positive.iloc[:,(column_positive.columns.get_loc(column)) - 6].agg(np.median)\n",
    "\n",
    "print('return when previous day had a positive trend:')\n",
    "\n",
    "print('')\n",
    "\n",
    "#print mean return, calculated by aggregating values in appropriate column\n",
    "print(p_extent)"
   ]
  },
  {
   "cell_type": "markdown",
   "id": "72e3647c-6c5f-4a56-9b85-e51649973a46",
   "metadata": {},
   "source": [
    "The Monday median price following a positive Friday trend is positive. However, when compared to other days, this relationship sits relatively in the mix. What is more interesting is that Friday experiences a tremendous gain when Thursday sets a positive trend. When comparing any price to Friday, every other day has a smaller return. What also must be noted is the difference in Friday's higher mean and median prices. An eighteen percent jump down indicates greagter volatility within Friday's returns."
   ]
  },
  {
   "cell_type": "code",
   "execution_count": 167,
   "id": "c9306ef4-0afb-4ebb-ae90-04274f34d173",
   "metadata": {},
   "outputs": [
    {
     "name": "stdout",
     "output_type": "stream",
     "text": [
      "return when previous day had a negative trend:\n",
      "  previous day          day mean return median return\n",
      "0       Monday      Tuesday    0.177963      0.159266\n",
      "1      Tuesday    Wednesday    0.054648      0.083426\n",
      "2    Wednesday     Thursday    0.028022      0.086214\n",
      "3     Thursday       Friday    0.000813      0.043539\n",
      "4       Friday  Monday_next   -0.025068      0.080993\n"
     ]
    },
    {
     "name": "stderr",
     "output_type": "stream",
     "text": [
      "/var/folders/mc/2h3nzhln2bs9klxfl4_8hd8w0000gn/T/ipykernel_48765/2750710822.py:16: FutureWarning:\n",
      "\n",
      "The provided callable <function mean at 0x10a0a84a0> is currently using Series.mean. In a future version of pandas, the provided callable will be used directly. To keep current behavior pass the string \"mean\" instead.\n",
      "\n",
      "/var/folders/mc/2h3nzhln2bs9klxfl4_8hd8w0000gn/T/ipykernel_48765/2750710822.py:17: FutureWarning:\n",
      "\n",
      "The provided callable <function median at 0x10a1d8220> is currently using Series.median. In a future version of pandas, the provided callable will be used directly. To keep current behavior pass the string \"median\" instead.\n",
      "\n"
     ]
    }
   ],
   "source": [
    "#Create empty dataframe to add extent data to\n",
    "n_extent = pd.DataFrame(index=range(5),columns=range(4))\n",
    "\n",
    "#create column names\n",
    "n_extent.columns = ['previous day','day','mean return','median return']\n",
    "\n",
    "#Create loop using trend columns in trend\n",
    "for column in df1.iloc[:,7:12]:\n",
    "    \n",
    "    #keep data where positive values of the given column \n",
    "    column_negative = (df1[df1[column] == 'negative'])\n",
    "    \n",
    "   #save appropriate values to n_extent\n",
    "    n_extent.iloc[(column_negative.columns.get_loc(column) - 7),0] = df1.columns[(column_negative.columns.get_loc(column) - 7)]\n",
    "    n_extent.iloc[(column_negative.columns.get_loc(column) - 7),1] = df1.columns[(column_negative.columns.get_loc(column) - 6)]\n",
    "    n_extent.iloc[(column_negative.columns.get_loc(column) - 7),2] = column_negative.iloc[:,(column_negative.columns.get_loc(column)) - 6].agg(np.mean)\n",
    "    n_extent.iloc[(column_negative.columns.get_loc(column) - 7),3] = column_negative.iloc[:,(column_negative.columns.get_loc(column)) - 6].agg(np.median)\n",
    "    \n",
    "print('return when previous day had a negative trend:')\n",
    "\n",
    "print(n_extent)"
   ]
  },
  {
   "cell_type": "markdown",
   "id": "05df8848-e905-4fcf-a2f1-6acd6878c3f9",
   "metadata": {},
   "source": [
    "Interestingly, only Friday and Monday follow the trend (either positive or negative) set by the previous day in terms of mean. What's interesting is that Monday suffers a much more significant loss. However, the median refutes the existence of the Monday effect. Given a negative Monday, the mean return on Tuesday is much more significant."
   ]
  },
  {
   "cell_type": "markdown",
   "id": "b4a91f93-5019-4fb7-bdde-be5cafd4d5eb",
   "metadata": {},
   "source": [
    "### General Correlation\n",
    "\n",
    "Are Friday's close and Monday's open return values positively correlated? To what extent? How does this compare to other days?\n",
    "\n",
    "Now that sufficient data is given, a general correlation between data points can give a better understanding of the relationship of returns between days."
   ]
  },
  {
   "cell_type": "code",
   "execution_count": 168,
   "id": "8b0a4f6b-e90e-4774-970b-ca3dfd26265b",
   "metadata": {
    "tags": []
   },
   "outputs": [
    {
     "data": {
      "image/png": "[encoded data removed]",
      "text/plain": [
       "<Figure size 1000x1000 with 2 Axes>"
      ]
     },
     "metadata": {},
     "output_type": "display_data"
    }
   ],
   "source": [
    "#Save me_corr as the correlation of days, drop unneccessary columns\n",
    "me_corr = df1.drop(columns = df1[list(df1.columns[df1.columns.str.contains('_trend') | df1.columns.str.contains('year')])]).corr()\n",
    "\n",
    "#Keep only relevant datapoints\n",
    "me_corr = me_corr.mask(np.tril(np.ones(me_corr.shape)).astype(bool))\n",
    "\n",
    "#transpose to read data easier\n",
    "me_corr = me_corr.transpose()\n",
    "\n",
    "#Increase size of plot\n",
    "plt.subplots(figsize=(10,10))\n",
    "\n",
    "#create heatmap of correlations\n",
    "sns.heatmap(me_corr, annot=True, cmap='Spectral')\n",
    "\n",
    "#add title\n",
    "plt.title('Correlation of Return between Days Since the 80s')\n",
    "\n",
    "#save plot for upload\n",
    "plt.savefig('images/corr.png')\n",
    "\n",
    "#show plot\n",
    "plt.show()"
   ]
  },
  {
   "cell_type": "markdown",
   "id": "a1ac4a76-6178-44dc-a8ac-0d3436fc3a5d",
   "metadata": {},
   "source": [
    "From our findings, a positive correlation does exist. The correlation is minimal at only 9%. The strongest correlation appears to occur between Monday and Tuesday prices, yet is still insignificant."
   ]
  },
  {
   "cell_type": "markdown",
   "id": "0b12b6a1-7901-417b-b3bf-c8b8006bb076",
   "metadata": {},
   "source": [
    "### Correlation Across Time\n",
    "\n",
    "Has the Monday effect ever been significant in recent years? Does the Monday effect change across time? Is there a stronger correlation between Monday and Tuesday? How about between other pairings?"
   ]
  },
  {
   "cell_type": "code",
   "execution_count": 169,
   "id": "3daab0f4-38c5-4449-be67-4f5b40675ec3",
   "metadata": {},
   "outputs": [],
   "source": [
    "#create list of columns for year and each day pairings\n",
    "columns = ['mt','tw','wt','tf','fm']\n",
    "\n",
    "#Create empty dataframe for each year of \n",
    "yearly_corr = pd.DataFrame(index=df1['year'].unique(),columns=columns)\n",
    "\n",
    "#change year dtype from date-time to integer to allow for loop\n",
    "df1['year'] = df1['year'].astype(int)"
   ]
  },
  {
   "cell_type": "code",
   "execution_count": 170,
   "id": "3bd3e4a4-8276-4ba7-ae73-a2221705f678",
   "metadata": {},
   "outputs": [],
   "source": [
    "for i in range(len(df1['year'].unique())):\n",
    "    a = df1[df1['year'] == (1982 + i)]\n",
    "    \n",
    "    a = a.drop(columns='year').drop(columns = a.columns[a.columns.str.contains('_trend')]).corr()\n",
    "    \n",
    "    #take only relevant correlation points\n",
    "    yearly_corr.iloc[i,0] = a.iloc[1,0]\n",
    "    yearly_corr.iloc[i,1] = a.iloc[2,1]\n",
    "    yearly_corr.iloc[i,2] = a.iloc[3,2]\n",
    "    yearly_corr.iloc[i,3] = a.iloc[4,3]\n",
    "    yearly_corr.iloc[i,4] = a.iloc[5,4]"
   ]
  },
  {
   "cell_type": "code",
   "execution_count": 171,
   "id": "14c0417c-81e8-4cb4-9091-159e472646ec",
   "metadata": {},
   "outputs": [
    {
     "data": {
      "application/vnd.plotly.v1+json": {
       "config": {
        "plotlyServerURL": "https://plot.ly"
       },
       "data": [
        {
         "hovertemplate": "variable=fm<br>index=%{x}<br>value=%{y}<extra></extra>",
         "legendgroup": "fm",
         "line": {
          "color": "#636efa",
          "dash": "solid"
         },
         "marker": {
          "symbol": "circle"
         },
         "mode": "lines",
         "name": "fm",
         "orientation": "v",
         "showlegend": true,
         "type": "scatter",
         "x": [
          1982,
          1983,
          1984,
          1985,
          1986,
          1987,
          1988,
          1989,
          1990,
          1991,
          1992,
          1993,
          1994,
          1995,
          1996,
          1997,
          1998,
          1999,
          2000,
          2001,
          2002,
          2003,
          2004,
          2005,
          2006,
          2007,
          2008,
          2009,
          2010,
          2011,
          2012,
          2013,
          2014,
          2015,
          2016,
          2017,
          2018,
          2019,
          2020,
          2021,
          2022,
          2023
         ],
         "xaxis": "x",
         "y": [
          0.28401209846273806,
          0.3183598710016107,
          0.14648385157357002,
          0.06773952554808274,
          -0.10280956468074749,
          0.6317692283954716,
          -0.042393508940535354,
          -0.28126415324817017,
          0.4528837390048,
          0.01465913429495952,
          -0.05490459737870203,
          -0.06462348252989933,
          0.052806367632616244,
          0.16100756283908674,
          0.09947224940654308,
          0.14083791996902498,
          0.2372265842688501,
          -0.02650330690445855,
          -0.20092302871522033,
          -0.05252225598330961,
          0.3142526556593717,
          -0.19947652283504064,
          0.0040170867440690325,
          -0.08846400393197305,
          -0.08511677993880679,
          -0.32577289651584035,
          0.09856245430382847,
          0.0014653689368358124,
          -0.25822439324775903,
          0.046631760606277536,
          -0.05208810451609244,
          -0.11150924379606145,
          0.34780638390783314,
          0.1481240106859649,
          0.021547031853989103,
          -0.07082481929019677,
          0.30157579919273253,
          0.11041144993854668,
          -0.20889978602868978,
          -0.2653446701755591,
          0.02737861901744882,
          -0.2359648316238073
         ],
         "yaxis": "y"
        }
       ],
       "layout": {
        "legend": {
         "title": {
          "text": "variable"
         },
         "tracegroupgap": 0
        },
        "margin": {
         "t": 60
        },
        "template": {
         "data": {
          "bar": [
           {
            "error_x": {
             "color": "#2a3f5f"
            },
            "error_y": {
             "color": "#2a3f5f"
            },
            "marker": {
             "line": {
              "color": "#E5ECF6",
              "width": 0.5
             },
             "pattern": {
              "fillmode": "overlay",
              "size": 10,
              "solidity": 0.2
             }
            },
            "type": "bar"
           }
          ],
          "barpolar": [
           {
            "marker": {
             "line": {
              "color": "#E5ECF6",
              "width": 0.5
             },
             "pattern": {
              "fillmode": "overlay",
              "size": 10,
              "solidity": 0.2
             }
            },
            "type": "barpolar"
           }
          ],
          "carpet": [
           {
            "aaxis": {
             "endlinecolor": "#2a3f5f",
             "gridcolor": "white",
             "linecolor": "white",
             "minorgridcolor": "white",
             "startlinecolor": "#2a3f5f"
            },
            "baxis": {
             "endlinecolor": "#2a3f5f",
             "gridcolor": "white",
             "linecolor": "white",
             "minorgridcolor": "white",
             "startlinecolor": "#2a3f5f"
            },
            "type": "carpet"
           }
          ],
          "choropleth": [
           {
            "colorbar": {
             "outlinewidth": 0,
             "ticks": ""
            },
            "type": "choropleth"
           }
          ],
          "contour": [
           {
            "colorbar": {
             "outlinewidth": 0,
             "ticks": ""
            },
            "colorscale": [
             [
              0,
              "#0d0887"
             ],
             [
              0.1111111111111111,
              "#46039f"
             ],
             [
              0.2222222222222222,
              "#7201a8"
             ],
             [
              0.3333333333333333,
              "#9c179e"
             ],
             [
              0.4444444444444444,
              "#bd3786"
             ],
             [
              0.5555555555555556,
              "#d8576b"
             ],
             [
              0.6666666666666666,
              "#ed7953"
             ],
             [
              0.7777777777777778,
              "#fb9f3a"
             ],
             [
              0.8888888888888888,
              "#fdca26"
             ],
             [
              1,
              "#f0f921"
             ]
            ],
            "type": "contour"
           }
          ],
          "contourcarpet": [
           {
            "colorbar": {
             "outlinewidth": 0,
             "ticks": ""
            },
            "type": "contourcarpet"
           }
          ],
          "heatmap": [
           {
            "colorbar": {
             "outlinewidth": 0,
             "ticks": ""
            },
            "colorscale": [
             [
              0,
              "#0d0887"
             ],
             [
              0.1111111111111111,
              "#46039f"
             ],
             [
              0.2222222222222222,
              "#7201a8"
             ],
             [
              0.3333333333333333,
              "#9c179e"
             ],
             [
              0.4444444444444444,
              "#bd3786"
             ],
             [
              0.5555555555555556,
              "#d8576b"
             ],
             [
              0.6666666666666666,
              "#ed7953"
             ],
             [
              0.7777777777777778,
              "#fb9f3a"
             ],
             [
              0.8888888888888888,
              "#fdca26"
             ],
             [
              1,
              "#f0f921"
             ]
            ],
            "type": "heatmap"
           }
          ],
          "heatmapgl": [
           {
            "colorbar": {
             "outlinewidth": 0,
             "ticks": ""
            },
            "colorscale": [
             [
              0,
              "#0d0887"
             ],
             [
              0.1111111111111111,
              "#46039f"
             ],
             [
              0.2222222222222222,
              "#7201a8"
             ],
             [
              0.3333333333333333,
              "#9c179e"
             ],
             [
              0.4444444444444444,
              "#bd3786"
             ],
             [
              0.5555555555555556,
              "#d8576b"
             ],
             [
              0.6666666666666666,
              "#ed7953"
             ],
             [
              0.7777777777777778,
              "#fb9f3a"
             ],
             [
              0.8888888888888888,
              "#fdca26"
             ],
             [
              1,
              "#f0f921"
             ]
            ],
            "type": "heatmapgl"
           }
          ],
          "histogram": [
           {
            "marker": {
             "pattern": {
              "fillmode": "overlay",
              "size": 10,
              "solidity": 0.2
             }
            },
            "type": "histogram"
           }
          ],
          "histogram2d": [
           {
            "colorbar": {
             "outlinewidth": 0,
             "ticks": ""
            },
            "colorscale": [
             [
              0,
              "#0d0887"
             ],
             [
              0.1111111111111111,
              "#46039f"
             ],
             [
              0.2222222222222222,
              "#7201a8"
             ],
             [
              0.3333333333333333,
              "#9c179e"
             ],
             [
              0.4444444444444444,
              "#bd3786"
             ],
             [
              0.5555555555555556,
              "#d8576b"
             ],
             [
              0.6666666666666666,
              "#ed7953"
             ],
             [
              0.7777777777777778,
              "#fb9f3a"
             ],
             [
              0.8888888888888888,
              "#fdca26"
             ],
             [
              1,
              "#f0f921"
             ]
            ],
            "type": "histogram2d"
           }
          ],
          "histogram2dcontour": [
           {
            "colorbar": {
             "outlinewidth": 0,
             "ticks": ""
            },
            "colorscale": [
             [
              0,
              "#0d0887"
             ],
             [
              0.1111111111111111,
              "#46039f"
             ],
             [
              0.2222222222222222,
              "#7201a8"
             ],
             [
              0.3333333333333333,
              "#9c179e"
             ],
             [
              0.4444444444444444,
              "#bd3786"
             ],
             [
              0.5555555555555556,
              "#d8576b"
             ],
             [
              0.6666666666666666,
              "#ed7953"
             ],
             [
              0.7777777777777778,
              "#fb9f3a"
             ],
             [
              0.8888888888888888,
              "#fdca26"
             ],
             [
              1,
              "#f0f921"
             ]
            ],
            "type": "histogram2dcontour"
           }
          ],
          "mesh3d": [
           {
            "colorbar": {
             "outlinewidth": 0,
             "ticks": ""
            },
            "type": "mesh3d"
           }
          ],
          "parcoords": [
           {
            "line": {
             "colorbar": {
              "outlinewidth": 0,
              "ticks": ""
             }
            },
            "type": "parcoords"
           }
          ],
          "pie": [
           {
            "automargin": true,
            "type": "pie"
           }
          ],
          "scatter": [
           {
            "fillpattern": {
             "fillmode": "overlay",
             "size": 10,
             "solidity": 0.2
            },
            "type": "scatter"
           }
          ],
          "scatter3d": [
           {
            "line": {
             "colorbar": {
              "outlinewidth": 0,
              "ticks": ""
             }
            },
            "marker": {
             "colorbar": {
              "outlinewidth": 0,
              "ticks": ""
             }
            },
            "type": "scatter3d"
           }
          ],
          "scattercarpet": [
           {
            "marker": {
             "colorbar": {
              "outlinewidth": 0,
              "ticks": ""
             }
            },
            "type": "scattercarpet"
           }
          ],
          "scattergeo": [
           {
            "marker": {
             "colorbar": {
              "outlinewidth": 0,
              "ticks": ""
             }
            },
            "type": "scattergeo"
           }
          ],
          "scattergl": [
           {
            "marker": {
             "colorbar": {
              "outlinewidth": 0,
              "ticks": ""
             }
            },
            "type": "scattergl"
           }
          ],
          "scattermapbox": [
           {
            "marker": {
             "colorbar": {
              "outlinewidth": 0,
              "ticks": ""
             }
            },
            "type": "scattermapbox"
           }
          ],
          "scatterpolar": [
           {
            "marker": {
             "colorbar": {
              "outlinewidth": 0,
              "ticks": ""
             }
            },
            "type": "scatterpolar"
           }
          ],
          "scatterpolargl": [
           {
            "marker": {
             "colorbar": {
              "outlinewidth": 0,
              "ticks": ""
             }
            },
            "type": "scatterpolargl"
           }
          ],
          "scatterternary": [
           {
            "marker": {
             "colorbar": {
              "outlinewidth": 0,
              "ticks": ""
             }
            },
            "type": "scatterternary"
           }
          ],
          "surface": [
           {
            "colorbar": {
             "outlinewidth": 0,
             "ticks": ""
            },
            "colorscale": [
             [
              0,
              "#0d0887"
             ],
             [
              0.1111111111111111,
              "#46039f"
             ],
             [
              0.2222222222222222,
              "#7201a8"
             ],
             [
              0.3333333333333333,
              "#9c179e"
             ],
             [
              0.4444444444444444,
              "#bd3786"
             ],
             [
              0.5555555555555556,
              "#d8576b"
             ],
             [
              0.6666666666666666,
              "#ed7953"
             ],
             [
              0.7777777777777778,
              "#fb9f3a"
             ],
             [
              0.8888888888888888,
              "#fdca26"
             ],
             [
              1,
              "#f0f921"
             ]
            ],
            "type": "surface"
           }
          ],
          "table": [
           {
            "cells": {
             "fill": {
              "color": "#EBF0F8"
             },
             "line": {
              "color": "white"
             }
            },
            "header": {
             "fill": {
              "color": "#C8D4E3"
             },
             "line": {
              "color": "white"
             }
            },
            "type": "table"
           }
          ]
         },
         "layout": {
          "annotationdefaults": {
           "arrowcolor": "#2a3f5f",
           "arrowhead": 0,
           "arrowwidth": 1
          },
          "autotypenumbers": "strict",
          "coloraxis": {
           "colorbar": {
            "outlinewidth": 0,
            "ticks": ""
           }
          },
          "colorscale": {
           "diverging": [
            [
             0,
             "#8e0152"
            ],
            [
             0.1,
             "#c51b7d"
            ],
            [
             0.2,
             "#de77ae"
            ],
            [
             0.3,
             "#f1b6da"
            ],
            [
             0.4,
             "#fde0ef"
            ],
            [
             0.5,
             "#f7f7f7"
            ],
            [
             0.6,
             "#e6f5d0"
            ],
            [
             0.7,
             "#b8e186"
            ],
            [
             0.8,
             "#7fbc41"
            ],
            [
             0.9,
             "#4d9221"
            ],
            [
             1,
             "#276419"
            ]
           ],
           "sequential": [
            [
             0,
             "#0d0887"
            ],
            [
             0.1111111111111111,
             "#46039f"
            ],
            [
             0.2222222222222222,
             "#7201a8"
            ],
            [
             0.3333333333333333,
             "#9c179e"
            ],
            [
             0.4444444444444444,
             "#bd3786"
            ],
            [
             0.5555555555555556,
             "#d8576b"
            ],
            [
             0.6666666666666666,
             "#ed7953"
            ],
            [
             0.7777777777777778,
             "#fb9f3a"
            ],
            [
             0.8888888888888888,
             "#fdca26"
            ],
            [
             1,
             "#f0f921"
            ]
           ],
           "sequentialminus": [
            [
             0,
             "#0d0887"
            ],
            [
             0.1111111111111111,
             "#46039f"
            ],
            [
             0.2222222222222222,
             "#7201a8"
            ],
            [
             0.3333333333333333,
             "#9c179e"
            ],
            [
             0.4444444444444444,
             "#bd3786"
            ],
            [
             0.5555555555555556,
             "#d8576b"
            ],
            [
             0.6666666666666666,
             "#ed7953"
            ],
            [
             0.7777777777777778,
             "#fb9f3a"
            ],
            [
             0.8888888888888888,
             "#fdca26"
            ],
            [
             1,
             "#f0f921"
            ]
           ]
          },
          "colorway": [
           "#636efa",
           "#EF553B",
           "#00cc96",
           "#ab63fa",
           "#FFA15A",
           "#19d3f3",
           "#FF6692",
           "#B6E880",
           "#FF97FF",
           "#FECB52"
          ],
          "font": {
           "color": "#2a3f5f"
          },
          "geo": {
           "bgcolor": "white",
           "lakecolor": "white",
           "landcolor": "#E5ECF6",
           "showlakes": true,
           "showland": true,
           "subunitcolor": "white"
          },
          "hoverlabel": {
           "align": "left"
          },
          "hovermode": "closest",
          "mapbox": {
           "style": "light"
          },
          "paper_bgcolor": "white",
          "plot_bgcolor": "#E5ECF6",
          "polar": {
           "angularaxis": {
            "gridcolor": "white",
            "linecolor": "white",
            "ticks": ""
           },
           "bgcolor": "#E5ECF6",
           "radialaxis": {
            "gridcolor": "white",
            "linecolor": "white",
            "ticks": ""
           }
          },
          "scene": {
           "xaxis": {
            "backgroundcolor": "#E5ECF6",
            "gridcolor": "white",
            "gridwidth": 2,
            "linecolor": "white",
            "showbackground": true,
            "ticks": "",
            "zerolinecolor": "white"
           },
           "yaxis": {
            "backgroundcolor": "#E5ECF6",
            "gridcolor": "white",
            "gridwidth": 2,
            "linecolor": "white",
            "showbackground": true,
            "ticks": "",
            "zerolinecolor": "white"
           },
           "zaxis": {
            "backgroundcolor": "#E5ECF6",
            "gridcolor": "white",
            "gridwidth": 2,
            "linecolor": "white",
            "showbackground": true,
            "ticks": "",
            "zerolinecolor": "white"
           }
          },
          "shapedefaults": {
           "line": {
            "color": "#2a3f5f"
           }
          },
          "ternary": {
           "aaxis": {
            "gridcolor": "white",
            "linecolor": "white",
            "ticks": ""
           },
           "baxis": {
            "gridcolor": "white",
            "linecolor": "white",
            "ticks": ""
           },
           "bgcolor": "#E5ECF6",
           "caxis": {
            "gridcolor": "white",
            "linecolor": "white",
            "ticks": ""
           }
          },
          "title": {
           "x": 0.05
          },
          "xaxis": {
           "automargin": true,
           "gridcolor": "white",
           "linecolor": "white",
           "ticks": "",
           "title": {
            "standoff": 15
           },
           "zerolinecolor": "white",
           "zerolinewidth": 2
          },
          "yaxis": {
           "automargin": true,
           "gridcolor": "white",
           "linecolor": "white",
           "ticks": "",
           "title": {
            "standoff": 15
           },
           "zerolinecolor": "white",
           "zerolinewidth": 2
          }
         }
        },
        "title": {
         "text": "Fridays correlation with Next Monday since the 80s"
        },
        "xaxis": {
         "anchor": "y",
         "domain": [
          0,
          1
         ],
         "title": {
          "text": "Year"
         }
        },
        "yaxis": {
         "anchor": "x",
         "domain": [
          0,
          1
         ],
         "title": {
          "text": "Correlation"
         }
        }
       }
      }
     },
     "metadata": {},
     "output_type": "display_data"
    }
   ],
   "source": [
    "import plotly.express as px\n",
    "\n",
    "fig = px.line(yearly_corr['fm'])\n",
    "fig.update_layout(xaxis_title=\"Year\", yaxis_title=\"Correlation\", \n",
    "                  title='Fridays correlation with Next Monday since the 80s')\n",
    "fig.write_image(\"images/f_m_corr.png\")\n",
    "fig.show()"
   ]
  },
  {
   "cell_type": "markdown",
   "id": "40de3fb3-06a5-422b-bbb1-fc1f032ee10e",
   "metadata": {},
   "source": [
    "The correlation between Friday and Monday returns may have been relevant once upon a time. In 1987, a 63 Percent correlation existed. However, only weaker correlations have existed since, of which many are negative. This directly refutes the Monday Effect.\n",
    "\n",
    "Let's take a look at the highest correlated pairing between Monday and Tuesday."
   ]
  },
  {
   "cell_type": "code",
   "execution_count": 172,
   "id": "96d976b6-2ba1-45dc-a293-295d0374a8f2",
   "metadata": {},
   "outputs": [
    {
     "data": {
      "application/vnd.plotly.v1+json": {
       "config": {
        "plotlyServerURL": "https://plot.ly"
       },
       "data": [
        {
         "hovertemplate": "variable=mt<br>index=%{x}<br>value=%{y}<extra></extra>",
         "legendgroup": "mt",
         "line": {
          "color": "#636efa",
          "dash": "solid"
         },
         "marker": {
          "symbol": "circle"
         },
         "mode": "lines",
         "name": "mt",
         "orientation": "v",
         "showlegend": true,
         "type": "scatter",
         "x": [
          1982,
          1983,
          1984,
          1985,
          1986,
          1987,
          1988,
          1989,
          1990,
          1991,
          1992,
          1993,
          1994,
          1995,
          1996,
          1997,
          1998,
          1999,
          2000,
          2001,
          2002,
          2003,
          2004,
          2005,
          2006,
          2007,
          2008,
          2009,
          2010,
          2011,
          2012,
          2013,
          2014,
          2015,
          2016,
          2017,
          2018,
          2019,
          2020,
          2021,
          2022,
          2023
         ],
         "xaxis": "x",
         "y": [
          -0.13322860429954447,
          -0.388728252003726,
          0.013845943493256054,
          0.03326170271615974,
          0.21611961842022573,
          -0.4617915330059939,
          -0.2519959750972937,
          -0.2632959154847728,
          -0.23575032941470783,
          -0.05851441803980434,
          -0.15510540312440377,
          -0.0921352735161408,
          -0.11474408903350834,
          -0.04726786093405816,
          0.06275660691383708,
          -0.5336088039576571,
          -0.3425275469317476,
          0.09448168239115301,
          0.19493842695539854,
          0.13214879378402866,
          -0.03697451771737443,
          -0.22989323632056774,
          -0.26483318105889,
          -0.01629303683081091,
          0.1284730861168939,
          -0.22766871345536482,
          -0.3207811370326867,
          -0.24793410015355574,
          -0.0356895517224156,
          -0.30739671597224705,
          0.24344854683159042,
          -0.16855852298619395,
          -0.026618593272733512,
          0.1370760610608148,
          -0.49339521271484854,
          0.18839016632310823,
          -0.42773850791780593,
          -0.3501157452649346,
          -0.6652346852901095,
          -0.22055045315679056,
          0.09390107622064582,
          -0.15090031940216908
         ],
         "yaxis": "y"
        }
       ],
       "layout": {
        "legend": {
         "title": {
          "text": "variable"
         },
         "tracegroupgap": 0
        },
        "margin": {
         "t": 60
        },
        "template": {
         "data": {
          "bar": [
           {
            "error_x": {
             "color": "#2a3f5f"
            },
            "error_y": {
             "color": "#2a3f5f"
            },
            "marker": {
             "line": {
              "color": "#E5ECF6",
              "width": 0.5
             },
             "pattern": {
              "fillmode": "overlay",
              "size": 10,
              "solidity": 0.2
             }
            },
            "type": "bar"
           }
          ],
          "barpolar": [
           {
            "marker": {
             "line": {
              "color": "#E5ECF6",
              "width": 0.5
             },
             "pattern": {
              "fillmode": "overlay",
              "size": 10,
              "solidity": 0.2
             }
            },
            "type": "barpolar"
           }
          ],
          "carpet": [
           {
            "aaxis": {
             "endlinecolor": "#2a3f5f",
             "gridcolor": "white",
             "linecolor": "white",
             "minorgridcolor": "white",
             "startlinecolor": "#2a3f5f"
            },
            "baxis": {
             "endlinecolor": "#2a3f5f",
             "gridcolor": "white",
             "linecolor": "white",
             "minorgridcolor": "white",
             "startlinecolor": "#2a3f5f"
            },
            "type": "carpet"
           }
          ],
          "choropleth": [
           {
            "colorbar": {
             "outlinewidth": 0,
             "ticks": ""
            },
            "type": "choropleth"
           }
          ],
          "contour": [
           {
            "colorbar": {
             "outlinewidth": 0,
             "ticks": ""
            },
            "colorscale": [
             [
              0,
              "#0d0887"
             ],
             [
              0.1111111111111111,
              "#46039f"
             ],
             [
              0.2222222222222222,
              "#7201a8"
             ],
             [
              0.3333333333333333,
              "#9c179e"
             ],
             [
              0.4444444444444444,
              "#bd3786"
             ],
             [
              0.5555555555555556,
              "#d8576b"
             ],
             [
              0.6666666666666666,
              "#ed7953"
             ],
             [
              0.7777777777777778,
              "#fb9f3a"
             ],
             [
              0.8888888888888888,
              "#fdca26"
             ],
             [
              1,
              "#f0f921"
             ]
            ],
            "type": "contour"
           }
          ],
          "contourcarpet": [
           {
            "colorbar": {
             "outlinewidth": 0,
             "ticks": ""
            },
            "type": "contourcarpet"
           }
          ],
          "heatmap": [
           {
            "colorbar": {
             "outlinewidth": 0,
             "ticks": ""
            },
            "colorscale": [
             [
              0,
              "#0d0887"
             ],
             [
              0.1111111111111111,
              "#46039f"
             ],
             [
              0.2222222222222222,
              "#7201a8"
             ],
             [
              0.3333333333333333,
              "#9c179e"
             ],
             [
              0.4444444444444444,
              "#bd3786"
             ],
             [
              0.5555555555555556,
              "#d8576b"
             ],
             [
              0.6666666666666666,
              "#ed7953"
             ],
             [
              0.7777777777777778,
              "#fb9f3a"
             ],
             [
              0.8888888888888888,
              "#fdca26"
             ],
             [
              1,
              "#f0f921"
             ]
            ],
            "type": "heatmap"
           }
          ],
          "heatmapgl": [
           {
            "colorbar": {
             "outlinewidth": 0,
             "ticks": ""
            },
            "colorscale": [
             [
              0,
              "#0d0887"
             ],
             [
              0.1111111111111111,
              "#46039f"
             ],
             [
              0.2222222222222222,
              "#7201a8"
             ],
             [
              0.3333333333333333,
              "#9c179e"
             ],
             [
              0.4444444444444444,
              "#bd3786"
             ],
             [
              0.5555555555555556,
              "#d8576b"
             ],
             [
              0.6666666666666666,
              "#ed7953"
             ],
             [
              0.7777777777777778,
              "#fb9f3a"
             ],
             [
              0.8888888888888888,
              "#fdca26"
             ],
             [
              1,
              "#f0f921"
             ]
            ],
            "type": "heatmapgl"
           }
          ],
          "histogram": [
           {
            "marker": {
             "pattern": {
              "fillmode": "overlay",
              "size": 10,
              "solidity": 0.2
             }
            },
            "type": "histogram"
           }
          ],
          "histogram2d": [
           {
            "colorbar": {
             "outlinewidth": 0,
             "ticks": ""
            },
            "colorscale": [
             [
              0,
              "#0d0887"
             ],
             [
              0.1111111111111111,
              "#46039f"
             ],
             [
              0.2222222222222222,
              "#7201a8"
             ],
             [
              0.3333333333333333,
              "#9c179e"
             ],
             [
              0.4444444444444444,
              "#bd3786"
             ],
             [
              0.5555555555555556,
              "#d8576b"
             ],
             [
              0.6666666666666666,
              "#ed7953"
             ],
             [
              0.7777777777777778,
              "#fb9f3a"
             ],
             [
              0.8888888888888888,
              "#fdca26"
             ],
             [
              1,
              "#f0f921"
             ]
            ],
            "type": "histogram2d"
           }
          ],
          "histogram2dcontour": [
           {
            "colorbar": {
             "outlinewidth": 0,
             "ticks": ""
            },
            "colorscale": [
             [
              0,
              "#0d0887"
             ],
             [
              0.1111111111111111,
              "#46039f"
             ],
             [
              0.2222222222222222,
              "#7201a8"
             ],
             [
              0.3333333333333333,
              "#9c179e"
             ],
             [
              0.4444444444444444,
              "#bd3786"
             ],
             [
              0.5555555555555556,
              "#d8576b"
             ],
             [
              0.6666666666666666,
              "#ed7953"
             ],
             [
              0.7777777777777778,
              "#fb9f3a"
             ],
             [
              0.8888888888888888,
              "#fdca26"
             ],
             [
              1,
              "#f0f921"
             ]
            ],
            "type": "histogram2dcontour"
           }
          ],
          "mesh3d": [
           {
            "colorbar": {
             "outlinewidth": 0,
             "ticks": ""
            },
            "type": "mesh3d"
           }
          ],
          "parcoords": [
           {
            "line": {
             "colorbar": {
              "outlinewidth": 0,
              "ticks": ""
             }
            },
            "type": "parcoords"
           }
          ],
          "pie": [
           {
            "automargin": true,
            "type": "pie"
           }
          ],
          "scatter": [
           {
            "fillpattern": {
             "fillmode": "overlay",
             "size": 10,
             "solidity": 0.2
            },
            "type": "scatter"
           }
          ],
          "scatter3d": [
           {
            "line": {
             "colorbar": {
              "outlinewidth": 0,
              "ticks": ""
             }
            },
            "marker": {
             "colorbar": {
              "outlinewidth": 0,
              "ticks": ""
             }
            },
            "type": "scatter3d"
           }
          ],
          "scattercarpet": [
           {
            "marker": {
             "colorbar": {
              "outlinewidth": 0,
              "ticks": ""
             }
            },
            "type": "scattercarpet"
           }
          ],
          "scattergeo": [
           {
            "marker": {
             "colorbar": {
              "outlinewidth": 0,
              "ticks": ""
             }
            },
            "type": "scattergeo"
           }
          ],
          "scattergl": [
           {
            "marker": {
             "colorbar": {
              "outlinewidth": 0,
              "ticks": ""
             }
            },
            "type": "scattergl"
           }
          ],
          "scattermapbox": [
           {
            "marker": {
             "colorbar": {
              "outlinewidth": 0,
              "ticks": ""
             }
            },
            "type": "scattermapbox"
           }
          ],
          "scatterpolar": [
           {
            "marker": {
             "colorbar": {
              "outlinewidth": 0,
              "ticks": ""
             }
            },
            "type": "scatterpolar"
           }
          ],
          "scatterpolargl": [
           {
            "marker": {
             "colorbar": {
              "outlinewidth": 0,
              "ticks": ""
             }
            },
            "type": "scatterpolargl"
           }
          ],
          "scatterternary": [
           {
            "marker": {
             "colorbar": {
              "outlinewidth": 0,
              "ticks": ""
             }
            },
            "type": "scatterternary"
           }
          ],
          "surface": [
           {
            "colorbar": {
             "outlinewidth": 0,
             "ticks": ""
            },
            "colorscale": [
             [
              0,
              "#0d0887"
             ],
             [
              0.1111111111111111,
              "#46039f"
             ],
             [
              0.2222222222222222,
              "#7201a8"
             ],
             [
              0.3333333333333333,
              "#9c179e"
             ],
             [
              0.4444444444444444,
              "#bd3786"
             ],
             [
              0.5555555555555556,
              "#d8576b"
             ],
             [
              0.6666666666666666,
              "#ed7953"
             ],
             [
              0.7777777777777778,
              "#fb9f3a"
             ],
             [
              0.8888888888888888,
              "#fdca26"
             ],
             [
              1,
              "#f0f921"
             ]
            ],
            "type": "surface"
           }
          ],
          "table": [
           {
            "cells": {
             "fill": {
              "color": "#EBF0F8"
             },
             "line": {
              "color": "white"
             }
            },
            "header": {
             "fill": {
              "color": "#C8D4E3"
             },
             "line": {
              "color": "white"
             }
            },
            "type": "table"
           }
          ]
         },
         "layout": {
          "annotationdefaults": {
           "arrowcolor": "#2a3f5f",
           "arrowhead": 0,
           "arrowwidth": 1
          },
          "autotypenumbers": "strict",
          "coloraxis": {
           "colorbar": {
            "outlinewidth": 0,
            "ticks": ""
           }
          },
          "colorscale": {
           "diverging": [
            [
             0,
             "#8e0152"
            ],
            [
             0.1,
             "#c51b7d"
            ],
            [
             0.2,
             "#de77ae"
            ],
            [
             0.3,
             "#f1b6da"
            ],
            [
             0.4,
             "#fde0ef"
            ],
            [
             0.5,
             "#f7f7f7"
            ],
            [
             0.6,
             "#e6f5d0"
            ],
            [
             0.7,
             "#b8e186"
            ],
            [
             0.8,
             "#7fbc41"
            ],
            [
             0.9,
             "#4d9221"
            ],
            [
             1,
             "#276419"
            ]
           ],
           "sequential": [
            [
             0,
             "#0d0887"
            ],
            [
             0.1111111111111111,
             "#46039f"
            ],
            [
             0.2222222222222222,
             "#7201a8"
            ],
            [
             0.3333333333333333,
             "#9c179e"
            ],
            [
             0.4444444444444444,
             "#bd3786"
            ],
            [
             0.5555555555555556,
             "#d8576b"
            ],
            [
             0.6666666666666666,
             "#ed7953"
            ],
            [
             0.7777777777777778,
             "#fb9f3a"
            ],
            [
             0.8888888888888888,
             "#fdca26"
            ],
            [
             1,
             "#f0f921"
            ]
           ],
           "sequentialminus": [
            [
             0,
             "#0d0887"
            ],
            [
             0.1111111111111111,
             "#46039f"
            ],
            [
             0.2222222222222222,
             "#7201a8"
            ],
            [
             0.3333333333333333,
             "#9c179e"
            ],
            [
             0.4444444444444444,
             "#bd3786"
            ],
            [
             0.5555555555555556,
             "#d8576b"
            ],
            [
             0.6666666666666666,
             "#ed7953"
            ],
            [
             0.7777777777777778,
             "#fb9f3a"
            ],
            [
             0.8888888888888888,
             "#fdca26"
            ],
            [
             1,
             "#f0f921"
            ]
           ]
          },
          "colorway": [
           "#636efa",
           "#EF553B",
           "#00cc96",
           "#ab63fa",
           "#FFA15A",
           "#19d3f3",
           "#FF6692",
           "#B6E880",
           "#FF97FF",
           "#FECB52"
          ],
          "font": {
           "color": "#2a3f5f"
          },
          "geo": {
           "bgcolor": "white",
           "lakecolor": "white",
           "landcolor": "#E5ECF6",
           "showlakes": true,
           "showland": true,
           "subunitcolor": "white"
          },
          "hoverlabel": {
           "align": "left"
          },
          "hovermode": "closest",
          "mapbox": {
           "style": "light"
          },
          "paper_bgcolor": "white",
          "plot_bgcolor": "#E5ECF6",
          "polar": {
           "angularaxis": {
            "gridcolor": "white",
            "linecolor": "white",
            "ticks": ""
           },
           "bgcolor": "#E5ECF6",
           "radialaxis": {
            "gridcolor": "white",
            "linecolor": "white",
            "ticks": ""
           }
          },
          "scene": {
           "xaxis": {
            "backgroundcolor": "#E5ECF6",
            "gridcolor": "white",
            "gridwidth": 2,
            "linecolor": "white",
            "showbackground": true,
            "ticks": "",
            "zerolinecolor": "white"
           },
           "yaxis": {
            "backgroundcolor": "#E5ECF6",
            "gridcolor": "white",
            "gridwidth": 2,
            "linecolor": "white",
            "showbackground": true,
            "ticks": "",
            "zerolinecolor": "white"
           },
           "zaxis": {
            "backgroundcolor": "#E5ECF6",
            "gridcolor": "white",
            "gridwidth": 2,
            "linecolor": "white",
            "showbackground": true,
            "ticks": "",
            "zerolinecolor": "white"
           }
          },
          "shapedefaults": {
           "line": {
            "color": "#2a3f5f"
           }
          },
          "ternary": {
           "aaxis": {
            "gridcolor": "white",
            "linecolor": "white",
            "ticks": ""
           },
           "baxis": {
            "gridcolor": "white",
            "linecolor": "white",
            "ticks": ""
           },
           "bgcolor": "#E5ECF6",
           "caxis": {
            "gridcolor": "white",
            "linecolor": "white",
            "ticks": ""
           }
          },
          "title": {
           "x": 0.05
          },
          "xaxis": {
           "automargin": true,
           "gridcolor": "white",
           "linecolor": "white",
           "ticks": "",
           "title": {
            "standoff": 15
           },
           "zerolinecolor": "white",
           "zerolinewidth": 2
          },
          "yaxis": {
           "automargin": true,
           "gridcolor": "white",
           "linecolor": "white",
           "ticks": "",
           "title": {
            "standoff": 15
           },
           "zerolinecolor": "white",
           "zerolinewidth": 2
          }
         }
        },
        "title": {
         "text": "Mondays return correlation with Tuesday return"
        },
        "xaxis": {
         "anchor": "y",
         "domain": [
          0,
          1
         ],
         "title": {
          "text": "Year"
         }
        },
        "yaxis": {
         "anchor": "x",
         "domain": [
          0,
          1
         ],
         "title": {
          "text": "Correlation"
         }
        }
       }
      }
     },
     "metadata": {},
     "output_type": "display_data"
    }
   ],
   "source": [
    "fig = px.line(yearly_corr['mt'])\n",
    "fig.update_layout(xaxis_title=\"Year\", yaxis_title=\"Correlation\", title='Mondays return correlation with Tuesday return')\n",
    "fig.write_image(\"images/m_t_corr.png\")\n",
    "\n",
    "fig.show()"
   ]
  },
  {
   "cell_type": "code",
   "execution_count": 173,
   "id": "30ceee71-3a18-45bc-9191-3b170dd0e64c",
   "metadata": {},
   "outputs": [
    {
     "name": "stdout",
     "output_type": "stream",
     "text": [
      "           Monday   Tuesday\n",
      "Monday   1.000000 -0.665235\n",
      "Tuesday -0.665235  1.000000\n"
     ]
    }
   ],
   "source": [
    "mt_2020 = df1[['Monday','Tuesday','year']]\n",
    "mt_2020 = mt_2020[mt_2020['year'] == 2020]\n",
    "#mt_2020 = mt_2020.iloc[8:20,:]\n",
    "mt_2020.reset_index(inplace=True)\n",
    "print(mt_2020[['Monday','Tuesday']].corr())"
   ]
  },
  {
   "cell_type": "code",
   "execution_count": 174,
   "id": "ef06254e-1c73-4d70-bb6d-899006cfd815",
   "metadata": {},
   "outputs": [
    {
     "data": {
      "application/vnd.plotly.v1+json": {
       "config": {
        "plotlyServerURL": "https://plot.ly"
       },
       "data": [
        {
         "hovertemplate": "variable=Monday<br>index=%{x}<br>value=%{y}<extra></extra>",
         "legendgroup": "Monday",
         "marker": {
          "color": "#636efa",
          "symbol": "circle"
         },
         "mode": "markers",
         "name": "Monday",
         "orientation": "v",
         "showlegend": true,
         "type": "scatter",
         "x": [
          0,
          1,
          2,
          3,
          4,
          5,
          6,
          7,
          8,
          9,
          10,
          11,
          12,
          13,
          14,
          15,
          16,
          17,
          18,
          19,
          20,
          21,
          22,
          23,
          24,
          25,
          26,
          27,
          28,
          29,
          30,
          31,
          32,
          33,
          34,
          35,
          36,
          37,
          38,
          39,
          40,
          41,
          42,
          43,
          44,
          45,
          46,
          47,
          48,
          49,
          50,
          51,
          52
         ],
         "xaxis": "x",
         "y": [
          null,
          0.8929147818206967,
          0.5196981045707991,
          null,
          -0.10871127679775362,
          0.4098085200741568,
          1.0189031276600529,
          null,
          -0.9737265344259304,
          3.8984207898872336,
          -4.096869585900666,
          -4.881634731229946,
          -2.3272286717925486,
          2.644409980886214,
          3.3122819103991126,
          -0.748620943049033,
          -0.7892903506627783,
          0.8347811051472315,
          0.9850757155922182,
          0.5052369161999295,
          1.3744587430188564,
          null,
          0.5577880214507641,
          1.0147119862832614,
          2.432729335575565,
          0.7574985163891382,
          1.1478836473274774,
          0.774253133564309,
          -1.5556586976483016,
          0.854453187112921,
          0.6077886933868175,
          0.19311419962802776,
          0.13199878274753826,
          0.03341998675605253,
          0.38588628913867556,
          -0.2683944649212062,
          null,
          0.5940128806839322,
          -0.13726716845656634,
          0.5309156399501216,
          1.2274061110192749,
          0.9771358679256942,
          -1.9103173085268532,
          -1.1753855070523433,
          0.425946217120127,
          -0.9081684448349525,
          0.7430225504938626,
          0.30195019077704516,
          -0.345333726860719,
          -0.07497216345969747,
          -0.755863646720572,
          0.2887916476557279,
          0.33118395242468124
         ],
         "yaxis": "y"
        },
        {
         "hovertemplate": "variable=Tuesday<br>index=%{x}<br>value=%{y}<extra></extra>",
         "legendgroup": "Tuesday",
         "marker": {
          "color": "#EF553B",
          "symbol": "circle"
         },
         "mode": "markers",
         "name": "Tuesday",
         "orientation": "v",
         "showlegend": true,
         "type": "scatter",
         "x": [
          0,
          1,
          2,
          3,
          4,
          5,
          6,
          7,
          8,
          9,
          10,
          11,
          12,
          13,
          14,
          15,
          16,
          17,
          18,
          19,
          20,
          21,
          22,
          23,
          24,
          25,
          26,
          27,
          28,
          29,
          30,
          31,
          32,
          33,
          34,
          35,
          36,
          37,
          38,
          39,
          40,
          41,
          42,
          43,
          44,
          45,
          46,
          47,
          48,
          49,
          50,
          51,
          52
         ],
         "xaxis": "x",
         "y": [
          null,
          -0.14436696358039247,
          -0.0669699098838561,
          -0.007226372477947695,
          0.6417095357219593,
          0.517586072290911,
          -0.24124867323274485,
          0.0371025569755777,
          -3.4187105045798707,
          -3.006331267720858,
          2.4435930054138857,
          4.268118069141756,
          4.388687259615318,
          -1.1511824988506416,
          -2.8933961198228406,
          1.4601960560767135,
          -1.7326136784110202,
          -1.6003679990152273,
          -0.015334974552504597,
          -2.3602613709814615,
          -0.8699122711016802,
          -0.4097779579895748,
          0.5233667293647057,
          -0.1910838593748198,
          -0.1999364420312988,
          -0.23608220332240595,
          1.6421903089854164,
          -0.6669911128435989,
          1.7958591414637082,
          -0.34327374259130244,
          -0.4894482805118368,
          0.5042702677673235,
          -1.0874317143985452,
          0.08089629790172181,
          0.22323276268234213,
          0.5476918015172941,
          -1.1874620801846676,
          -0.1916240147642218,
          0.6013826291435937,
          -0.4610659568008637,
          -1.401398145359865,
          -0.6247882133191796,
          0.10874733606738006,
          -0.3664243527054631,
          0.9864342300487097,
          0.064065831849581,
          -0.02160562354070922,
          1.1375619490916105,
          0.45475657299725253,
          0.5213057315149195,
          0.7694231053562529,
          -0.2925860925610814,
          -0.612530924950784
         ],
         "yaxis": "y"
        }
       ],
       "layout": {
        "legend": {
         "title": {
          "text": "variable"
         },
         "tracegroupgap": 0
        },
        "margin": {
         "t": 60
        },
        "template": {
         "data": {
          "bar": [
           {
            "error_x": {
             "color": "#2a3f5f"
            },
            "error_y": {
             "color": "#2a3f5f"
            },
            "marker": {
             "line": {
              "color": "#E5ECF6",
              "width": 0.5
             },
             "pattern": {
              "fillmode": "overlay",
              "size": 10,
              "solidity": 0.2
             }
            },
            "type": "bar"
           }
          ],
          "barpolar": [
           {
            "marker": {
             "line": {
              "color": "#E5ECF6",
              "width": 0.5
             },
             "pattern": {
              "fillmode": "overlay",
              "size": 10,
              "solidity": 0.2
             }
            },
            "type": "barpolar"
           }
          ],
          "carpet": [
           {
            "aaxis": {
             "endlinecolor": "#2a3f5f",
             "gridcolor": "white",
             "linecolor": "white",
             "minorgridcolor": "white",
             "startlinecolor": "#2a3f5f"
            },
            "baxis": {
             "endlinecolor": "#2a3f5f",
             "gridcolor": "white",
             "linecolor": "white",
             "minorgridcolor": "white",
             "startlinecolor": "#2a3f5f"
            },
            "type": "carpet"
           }
          ],
          "choropleth": [
           {
            "colorbar": {
             "outlinewidth": 0,
             "ticks": ""
            },
            "type": "choropleth"
           }
          ],
          "contour": [
           {
            "colorbar": {
             "outlinewidth": 0,
             "ticks": ""
            },
            "colorscale": [
             [
              0,
              "#0d0887"
             ],
             [
              0.1111111111111111,
              "#46039f"
             ],
             [
              0.2222222222222222,
              "#7201a8"
             ],
             [
              0.3333333333333333,
              "#9c179e"
             ],
             [
              0.4444444444444444,
              "#bd3786"
             ],
             [
              0.5555555555555556,
              "#d8576b"
             ],
             [
              0.6666666666666666,
              "#ed7953"
             ],
             [
              0.7777777777777778,
              "#fb9f3a"
             ],
             [
              0.8888888888888888,
              "#fdca26"
             ],
             [
              1,
              "#f0f921"
             ]
            ],
            "type": "contour"
           }
          ],
          "contourcarpet": [
           {
            "colorbar": {
             "outlinewidth": 0,
             "ticks": ""
            },
            "type": "contourcarpet"
           }
          ],
          "heatmap": [
           {
            "colorbar": {
             "outlinewidth": 0,
             "ticks": ""
            },
            "colorscale": [
             [
              0,
              "#0d0887"
             ],
             [
              0.1111111111111111,
              "#46039f"
             ],
             [
              0.2222222222222222,
              "#7201a8"
             ],
             [
              0.3333333333333333,
              "#9c179e"
             ],
             [
              0.4444444444444444,
              "#bd3786"
             ],
             [
              0.5555555555555556,
              "#d8576b"
             ],
             [
              0.6666666666666666,
              "#ed7953"
             ],
             [
              0.7777777777777778,
              "#fb9f3a"
             ],
             [
              0.8888888888888888,
              "#fdca26"
             ],
             [
              1,
              "#f0f921"
             ]
            ],
            "type": "heatmap"
           }
          ],
          "heatmapgl": [
           {
            "colorbar": {
             "outlinewidth": 0,
             "ticks": ""
            },
            "colorscale": [
             [
              0,
              "#0d0887"
             ],
             [
              0.1111111111111111,
              "#46039f"
             ],
             [
              0.2222222222222222,
              "#7201a8"
             ],
             [
              0.3333333333333333,
              "#9c179e"
             ],
             [
              0.4444444444444444,
              "#bd3786"
             ],
             [
              0.5555555555555556,
              "#d8576b"
             ],
             [
              0.6666666666666666,
              "#ed7953"
             ],
             [
              0.7777777777777778,
              "#fb9f3a"
             ],
             [
              0.8888888888888888,
              "#fdca26"
             ],
             [
              1,
              "#f0f921"
             ]
            ],
            "type": "heatmapgl"
           }
          ],
          "histogram": [
           {
            "marker": {
             "pattern": {
              "fillmode": "overlay",
              "size": 10,
              "solidity": 0.2
             }
            },
            "type": "histogram"
           }
          ],
          "histogram2d": [
           {
            "colorbar": {
             "outlinewidth": 0,
             "ticks": ""
            },
            "colorscale": [
             [
              0,
              "#0d0887"
             ],
             [
              0.1111111111111111,
              "#46039f"
             ],
             [
              0.2222222222222222,
              "#7201a8"
             ],
             [
              0.3333333333333333,
              "#9c179e"
             ],
             [
              0.4444444444444444,
              "#bd3786"
             ],
             [
              0.5555555555555556,
              "#d8576b"
             ],
             [
              0.6666666666666666,
              "#ed7953"
             ],
             [
              0.7777777777777778,
              "#fb9f3a"
             ],
             [
              0.8888888888888888,
              "#fdca26"
             ],
             [
              1,
              "#f0f921"
             ]
            ],
            "type": "histogram2d"
           }
          ],
          "histogram2dcontour": [
           {
            "colorbar": {
             "outlinewidth": 0,
             "ticks": ""
            },
            "colorscale": [
             [
              0,
              "#0d0887"
             ],
             [
              0.1111111111111111,
              "#46039f"
             ],
             [
              0.2222222222222222,
              "#7201a8"
             ],
             [
              0.3333333333333333,
              "#9c179e"
             ],
             [
              0.4444444444444444,
              "#bd3786"
             ],
             [
              0.5555555555555556,
              "#d8576b"
             ],
             [
              0.6666666666666666,
              "#ed7953"
             ],
             [
              0.7777777777777778,
              "#fb9f3a"
             ],
             [
              0.8888888888888888,
              "#fdca26"
             ],
             [
              1,
              "#f0f921"
             ]
            ],
            "type": "histogram2dcontour"
           }
          ],
          "mesh3d": [
           {
            "colorbar": {
             "outlinewidth": 0,
             "ticks": ""
            },
            "type": "mesh3d"
           }
          ],
          "parcoords": [
           {
            "line": {
             "colorbar": {
              "outlinewidth": 0,
              "ticks": ""
             }
            },
            "type": "parcoords"
           }
          ],
          "pie": [
           {
            "automargin": true,
            "type": "pie"
           }
          ],
          "scatter": [
           {
            "fillpattern": {
             "fillmode": "overlay",
             "size": 10,
             "solidity": 0.2
            },
            "type": "scatter"
           }
          ],
          "scatter3d": [
           {
            "line": {
             "colorbar": {
              "outlinewidth": 0,
              "ticks": ""
             }
            },
            "marker": {
             "colorbar": {
              "outlinewidth": 0,
              "ticks": ""
             }
            },
            "type": "scatter3d"
           }
          ],
          "scattercarpet": [
           {
            "marker": {
             "colorbar": {
              "outlinewidth": 0,
              "ticks": ""
             }
            },
            "type": "scattercarpet"
           }
          ],
          "scattergeo": [
           {
            "marker": {
             "colorbar": {
              "outlinewidth": 0,
              "ticks": ""
             }
            },
            "type": "scattergeo"
           }
          ],
          "scattergl": [
           {
            "marker": {
             "colorbar": {
              "outlinewidth": 0,
              "ticks": ""
             }
            },
            "type": "scattergl"
           }
          ],
          "scattermapbox": [
           {
            "marker": {
             "colorbar": {
              "outlinewidth": 0,
              "ticks": ""
             }
            },
            "type": "scattermapbox"
           }
          ],
          "scatterpolar": [
           {
            "marker": {
             "colorbar": {
              "outlinewidth": 0,
              "ticks": ""
             }
            },
            "type": "scatterpolar"
           }
          ],
          "scatterpolargl": [
           {
            "marker": {
             "colorbar": {
              "outlinewidth": 0,
              "ticks": ""
             }
            },
            "type": "scatterpolargl"
           }
          ],
          "scatterternary": [
           {
            "marker": {
             "colorbar": {
              "outlinewidth": 0,
              "ticks": ""
             }
            },
            "type": "scatterternary"
           }
          ],
          "surface": [
           {
            "colorbar": {
             "outlinewidth": 0,
             "ticks": ""
            },
            "colorscale": [
             [
              0,
              "#0d0887"
             ],
             [
              0.1111111111111111,
              "#46039f"
             ],
             [
              0.2222222222222222,
              "#7201a8"
             ],
             [
              0.3333333333333333,
              "#9c179e"
             ],
             [
              0.4444444444444444,
              "#bd3786"
             ],
             [
              0.5555555555555556,
              "#d8576b"
             ],
             [
              0.6666666666666666,
              "#ed7953"
             ],
             [
              0.7777777777777778,
              "#fb9f3a"
             ],
             [
              0.8888888888888888,
              "#fdca26"
             ],
             [
              1,
              "#f0f921"
             ]
            ],
            "type": "surface"
           }
          ],
          "table": [
           {
            "cells": {
             "fill": {
              "color": "#EBF0F8"
             },
             "line": {
              "color": "white"
             }
            },
            "header": {
             "fill": {
              "color": "#C8D4E3"
             },
             "line": {
              "color": "white"
             }
            },
            "type": "table"
           }
          ]
         },
         "layout": {
          "annotationdefaults": {
           "arrowcolor": "#2a3f5f",
           "arrowhead": 0,
           "arrowwidth": 1
          },
          "autotypenumbers": "strict",
          "coloraxis": {
           "colorbar": {
            "outlinewidth": 0,
            "ticks": ""
           }
          },
          "colorscale": {
           "diverging": [
            [
             0,
             "#8e0152"
            ],
            [
             0.1,
             "#c51b7d"
            ],
            [
             0.2,
             "#de77ae"
            ],
            [
             0.3,
             "#f1b6da"
            ],
            [
             0.4,
             "#fde0ef"
            ],
            [
             0.5,
             "#f7f7f7"
            ],
            [
             0.6,
             "#e6f5d0"
            ],
            [
             0.7,
             "#b8e186"
            ],
            [
             0.8,
             "#7fbc41"
            ],
            [
             0.9,
             "#4d9221"
            ],
            [
             1,
             "#276419"
            ]
           ],
           "sequential": [
            [
             0,
             "#0d0887"
            ],
            [
             0.1111111111111111,
             "#46039f"
            ],
            [
             0.2222222222222222,
             "#7201a8"
            ],
            [
             0.3333333333333333,
             "#9c179e"
            ],
            [
             0.4444444444444444,
             "#bd3786"
            ],
            [
             0.5555555555555556,
             "#d8576b"
            ],
            [
             0.6666666666666666,
             "#ed7953"
            ],
            [
             0.7777777777777778,
             "#fb9f3a"
            ],
            [
             0.8888888888888888,
             "#fdca26"
            ],
            [
             1,
             "#f0f921"
            ]
           ],
           "sequentialminus": [
            [
             0,
             "#0d0887"
            ],
            [
             0.1111111111111111,
             "#46039f"
            ],
            [
             0.2222222222222222,
             "#7201a8"
            ],
            [
             0.3333333333333333,
             "#9c179e"
            ],
            [
             0.4444444444444444,
             "#bd3786"
            ],
            [
             0.5555555555555556,
             "#d8576b"
            ],
            [
             0.6666666666666666,
             "#ed7953"
            ],
            [
             0.7777777777777778,
             "#fb9f3a"
            ],
            [
             0.8888888888888888,
             "#fdca26"
            ],
            [
             1,
             "#f0f921"
            ]
           ]
          },
          "colorway": [
           "#636efa",
           "#EF553B",
           "#00cc96",
           "#ab63fa",
           "#FFA15A",
           "#19d3f3",
           "#FF6692",
           "#B6E880",
           "#FF97FF",
           "#FECB52"
          ],
          "font": {
           "color": "#2a3f5f"
          },
          "geo": {
           "bgcolor": "white",
           "lakecolor": "white",
           "landcolor": "#E5ECF6",
           "showlakes": true,
           "showland": true,
           "subunitcolor": "white"
          },
          "hoverlabel": {
           "align": "left"
          },
          "hovermode": "closest",
          "mapbox": {
           "style": "light"
          },
          "paper_bgcolor": "white",
          "plot_bgcolor": "#E5ECF6",
          "polar": {
           "angularaxis": {
            "gridcolor": "white",
            "linecolor": "white",
            "ticks": ""
           },
           "bgcolor": "#E5ECF6",
           "radialaxis": {
            "gridcolor": "white",
            "linecolor": "white",
            "ticks": ""
           }
          },
          "scene": {
           "xaxis": {
            "backgroundcolor": "#E5ECF6",
            "gridcolor": "white",
            "gridwidth": 2,
            "linecolor": "white",
            "showbackground": true,
            "ticks": "",
            "zerolinecolor": "white"
           },
           "yaxis": {
            "backgroundcolor": "#E5ECF6",
            "gridcolor": "white",
            "gridwidth": 2,
            "linecolor": "white",
            "showbackground": true,
            "ticks": "",
            "zerolinecolor": "white"
           },
           "zaxis": {
            "backgroundcolor": "#E5ECF6",
            "gridcolor": "white",
            "gridwidth": 2,
            "linecolor": "white",
            "showbackground": true,
            "ticks": "",
            "zerolinecolor": "white"
           }
          },
          "shapedefaults": {
           "line": {
            "color": "#2a3f5f"
           }
          },
          "ternary": {
           "aaxis": {
            "gridcolor": "white",
            "linecolor": "white",
            "ticks": ""
           },
           "baxis": {
            "gridcolor": "white",
            "linecolor": "white",
            "ticks": ""
           },
           "bgcolor": "#E5ECF6",
           "caxis": {
            "gridcolor": "white",
            "linecolor": "white",
            "ticks": ""
           }
          },
          "title": {
           "x": 0.05
          },
          "xaxis": {
           "automargin": true,
           "gridcolor": "white",
           "linecolor": "white",
           "ticks": "",
           "title": {
            "standoff": 15
           },
           "zerolinecolor": "white",
           "zerolinewidth": 2
          },
          "yaxis": {
           "automargin": true,
           "gridcolor": "white",
           "linecolor": "white",
           "ticks": "",
           "title": {
            "standoff": 15
           },
           "zerolinecolor": "white",
           "zerolinewidth": 2
          }
         }
        },
        "title": {
         "text": "Monday and Tuesday Return each week of 2020"
        },
        "xaxis": {
         "anchor": "y",
         "domain": [
          0,
          1
         ],
         "title": {
          "text": "Week"
         }
        },
        "yaxis": {
         "anchor": "x",
         "domain": [
          0,
          1
         ],
         "title": {
          "text": "Return"
         }
        }
       }
      }
     },
     "metadata": {},
     "output_type": "display_data"
    }
   ],
   "source": [
    "fig = px.scatter(mt_2020[['Monday','Tuesday']])\n",
    "fig.update_layout(xaxis_title=\"Week\", yaxis_title=\"Return\", title='Monday and Tuesday Return each week of 2020')\n",
    "fig.show()"
   ]
  },
  {
   "cell_type": "code",
   "execution_count": 175,
   "id": "7a28929f-c252-4124-9e29-9af1b26bd023",
   "metadata": {},
   "outputs": [
    {
     "data": {
      "application/vnd.plotly.v1+json": {
       "config": {
        "plotlyServerURL": "https://plot.ly"
       },
       "data": [
        {
         "hovertemplate": "Monday=%{x}<br>Tuesday=%{y}<extra></extra>",
         "legendgroup": "",
         "marker": {
          "color": "#636efa",
          "symbol": "circle"
         },
         "mode": "markers",
         "name": "",
         "orientation": "v",
         "showlegend": false,
         "type": "scatter",
         "x": [
          null,
          0.8929147818206967,
          0.5196981045707991,
          null,
          -0.10871127679775362,
          0.4098085200741568,
          1.0189031276600529,
          null,
          -0.9737265344259304,
          3.8984207898872336,
          -4.096869585900666,
          -4.881634731229946,
          -2.3272286717925486,
          2.644409980886214,
          3.3122819103991126,
          -0.748620943049033,
          -0.7892903506627783,
          0.8347811051472315,
          0.9850757155922182,
          0.5052369161999295,
          1.3744587430188564,
          null,
          0.5577880214507641,
          1.0147119862832614,
          2.432729335575565,
          0.7574985163891382,
          1.1478836473274774,
          0.774253133564309,
          -1.5556586976483016,
          0.854453187112921,
          0.6077886933868175,
          0.19311419962802776,
          0.13199878274753826,
          0.03341998675605253,
          0.38588628913867556,
          -0.2683944649212062,
          null,
          0.5940128806839322,
          -0.13726716845656634,
          0.5309156399501216,
          1.2274061110192749,
          0.9771358679256942,
          -1.9103173085268532,
          -1.1753855070523433,
          0.425946217120127,
          -0.9081684448349525,
          0.7430225504938626,
          0.30195019077704516,
          -0.345333726860719,
          -0.07497216345969747,
          -0.755863646720572,
          0.2887916476557279,
          0.33118395242468124
         ],
         "xaxis": "x",
         "y": [
          null,
          -0.14436696358039247,
          -0.0669699098838561,
          -0.007226372477947695,
          0.6417095357219593,
          0.517586072290911,
          -0.24124867323274485,
          0.0371025569755777,
          -3.4187105045798707,
          -3.006331267720858,
          2.4435930054138857,
          4.268118069141756,
          4.388687259615318,
          -1.1511824988506416,
          -2.8933961198228406,
          1.4601960560767135,
          -1.7326136784110202,
          -1.6003679990152273,
          -0.015334974552504597,
          -2.3602613709814615,
          -0.8699122711016802,
          -0.4097779579895748,
          0.5233667293647057,
          -0.1910838593748198,
          -0.1999364420312988,
          -0.23608220332240595,
          1.6421903089854164,
          -0.6669911128435989,
          1.7958591414637082,
          -0.34327374259130244,
          -0.4894482805118368,
          0.5042702677673235,
          -1.0874317143985452,
          0.08089629790172181,
          0.22323276268234213,
          0.5476918015172941,
          -1.1874620801846676,
          -0.1916240147642218,
          0.6013826291435937,
          -0.4610659568008637,
          -1.401398145359865,
          -0.6247882133191796,
          0.10874733606738006,
          -0.3664243527054631,
          0.9864342300487097,
          0.064065831849581,
          -0.02160562354070922,
          1.1375619490916105,
          0.45475657299725253,
          0.5213057315149195,
          0.7694231053562529,
          -0.2925860925610814,
          -0.612530924950784
         ],
         "yaxis": "y"
        },
        {
         "hovertemplate": "<b>OLS trendline</b><br>Tuesday = -0.649163 * Monday + 0.109559<br>R<sup>2</sup>=0.442537<br><br>Monday=%{x}<br>Tuesday=%{y} <b>(trend)</b><extra></extra>",
         "legendgroup": "",
         "marker": {
          "color": "#636efa",
          "symbol": "circle"
         },
         "mode": "lines",
         "name": "",
         "showlegend": false,
         "type": "scatter",
         "x": [
          -4.881634731229946,
          -4.096869585900666,
          -2.3272286717925486,
          -1.9103173085268532,
          -1.5556586976483016,
          -1.1753855070523433,
          -0.9737265344259304,
          -0.9081684448349525,
          -0.7892903506627783,
          -0.755863646720572,
          -0.748620943049033,
          -0.345333726860719,
          -0.2683944649212062,
          -0.13726716845656634,
          -0.10871127679775362,
          -0.07497216345969747,
          0.03341998675605253,
          0.13199878274753826,
          0.19311419962802776,
          0.2887916476557279,
          0.30195019077704516,
          0.33118395242468124,
          0.38588628913867556,
          0.4098085200741568,
          0.425946217120127,
          0.5052369161999295,
          0.5196981045707991,
          0.5309156399501216,
          0.5577880214507641,
          0.5940128806839322,
          0.6077886933868175,
          0.7430225504938626,
          0.7574985163891382,
          0.774253133564309,
          0.8347811051472315,
          0.854453187112921,
          0.8929147818206967,
          0.9771358679256942,
          0.9850757155922182,
          1.0147119862832614,
          1.0189031276600529,
          1.1478836473274774,
          1.2274061110192749,
          1.3744587430188564,
          2.432729335575565,
          2.644409980886214,
          3.3122819103991126,
          3.8984207898872336
         ],
         "xaxis": "x",
         "y": [
          3.2785331260383903,
          2.7690929633321333,
          1.620308310266768,
          1.3496650560393575,
          1.119433958867816,
          0.8725748351630462,
          0.7416653771711644,
          0.6991075189039937,
          0.6219363091506972,
          0.6002369439375463,
          0.5955352517703771,
          0.33373628394526705,
          0.2837901945269884,
          0.19866726106878999,
          0.18012984490107298,
          0.1582276751999808,
          0.08786354782933514,
          0.023869882758726608,
          -0.015803958650722674,
          -0.07791417720547172,
          -0.08645621094460834,
          -0.10543367493995277,
          -0.14094438471325282,
          -0.15647380175298983,
          -0.16694979072591218,
          -0.21842234513371342,
          -0.2278100074176831,
          -0.23509201157245146,
          -0.2525365559504358,
          -0.27605237885820916,
          -0.2849951209085383,
          -0.37278387984876954,
          -0.3821811351485384,
          -0.39305760558125447,
          -0.43235009948851827,
          -0.4451204788778407,
          -0.47008830674645735,
          -0.5247614838924999,
          -0.5299157358507717,
          -0.5491544936532946,
          -0.551875225782678,
          -0.635604552086715,
          -0.6872275594068901,
          -0.7826886246926281,
          -1.4696782878651997,
          -1.6070934407050654,
          -2.0406509024030246,
          -2.421150326864085
         ],
         "yaxis": "y"
        }
       ],
       "layout": {
        "legend": {
         "tracegroupgap": 0
        },
        "margin": {
         "t": 60
        },
        "template": {
         "data": {
          "bar": [
           {
            "error_x": {
             "color": "#2a3f5f"
            },
            "error_y": {
             "color": "#2a3f5f"
            },
            "marker": {
             "line": {
              "color": "#E5ECF6",
              "width": 0.5
             },
             "pattern": {
              "fillmode": "overlay",
              "size": 10,
              "solidity": 0.2
             }
            },
            "type": "bar"
           }
          ],
          "barpolar": [
           {
            "marker": {
             "line": {
              "color": "#E5ECF6",
              "width": 0.5
             },
             "pattern": {
              "fillmode": "overlay",
              "size": 10,
              "solidity": 0.2
             }
            },
            "type": "barpolar"
           }
          ],
          "carpet": [
           {
            "aaxis": {
             "endlinecolor": "#2a3f5f",
             "gridcolor": "white",
             "linecolor": "white",
             "minorgridcolor": "white",
             "startlinecolor": "#2a3f5f"
            },
            "baxis": {
             "endlinecolor": "#2a3f5f",
             "gridcolor": "white",
             "linecolor": "white",
             "minorgridcolor": "white",
             "startlinecolor": "#2a3f5f"
            },
            "type": "carpet"
           }
          ],
          "choropleth": [
           {
            "colorbar": {
             "outlinewidth": 0,
             "ticks": ""
            },
            "type": "choropleth"
           }
          ],
          "contour": [
           {
            "colorbar": {
             "outlinewidth": 0,
             "ticks": ""
            },
            "colorscale": [
             [
              0,
              "#0d0887"
             ],
             [
              0.1111111111111111,
              "#46039f"
             ],
             [
              0.2222222222222222,
              "#7201a8"
             ],
             [
              0.3333333333333333,
              "#9c179e"
             ],
             [
              0.4444444444444444,
              "#bd3786"
             ],
             [
              0.5555555555555556,
              "#d8576b"
             ],
             [
              0.6666666666666666,
              "#ed7953"
             ],
             [
              0.7777777777777778,
              "#fb9f3a"
             ],
             [
              0.8888888888888888,
              "#fdca26"
             ],
             [
              1,
              "#f0f921"
             ]
            ],
            "type": "contour"
           }
          ],
          "contourcarpet": [
           {
            "colorbar": {
             "outlinewidth": 0,
             "ticks": ""
            },
            "type": "contourcarpet"
           }
          ],
          "heatmap": [
           {
            "colorbar": {
             "outlinewidth": 0,
             "ticks": ""
            },
            "colorscale": [
             [
              0,
              "#0d0887"
             ],
             [
              0.1111111111111111,
              "#46039f"
             ],
             [
              0.2222222222222222,
              "#7201a8"
             ],
             [
              0.3333333333333333,
              "#9c179e"
             ],
             [
              0.4444444444444444,
              "#bd3786"
             ],
             [
              0.5555555555555556,
              "#d8576b"
             ],
             [
              0.6666666666666666,
              "#ed7953"
             ],
             [
              0.7777777777777778,
              "#fb9f3a"
             ],
             [
              0.8888888888888888,
              "#fdca26"
             ],
             [
              1,
              "#f0f921"
             ]
            ],
            "type": "heatmap"
           }
          ],
          "heatmapgl": [
           {
            "colorbar": {
             "outlinewidth": 0,
             "ticks": ""
            },
            "colorscale": [
             [
              0,
              "#0d0887"
             ],
             [
              0.1111111111111111,
              "#46039f"
             ],
             [
              0.2222222222222222,
              "#7201a8"
             ],
             [
              0.3333333333333333,
              "#9c179e"
             ],
             [
              0.4444444444444444,
              "#bd3786"
             ],
             [
              0.5555555555555556,
              "#d8576b"
             ],
             [
              0.6666666666666666,
              "#ed7953"
             ],
             [
              0.7777777777777778,
              "#fb9f3a"
             ],
             [
              0.8888888888888888,
              "#fdca26"
             ],
             [
              1,
              "#f0f921"
             ]
            ],
            "type": "heatmapgl"
           }
          ],
          "histogram": [
           {
            "marker": {
             "pattern": {
              "fillmode": "overlay",
              "size": 10,
              "solidity": 0.2
             }
            },
            "type": "histogram"
           }
          ],
          "histogram2d": [
           {
            "colorbar": {
             "outlinewidth": 0,
             "ticks": ""
            },
            "colorscale": [
             [
              0,
              "#0d0887"
             ],
             [
              0.1111111111111111,
              "#46039f"
             ],
             [
              0.2222222222222222,
              "#7201a8"
             ],
             [
              0.3333333333333333,
              "#9c179e"
             ],
             [
              0.4444444444444444,
              "#bd3786"
             ],
             [
              0.5555555555555556,
              "#d8576b"
             ],
             [
              0.6666666666666666,
              "#ed7953"
             ],
             [
              0.7777777777777778,
              "#fb9f3a"
             ],
             [
              0.8888888888888888,
              "#fdca26"
             ],
             [
              1,
              "#f0f921"
             ]
            ],
            "type": "histogram2d"
           }
          ],
          "histogram2dcontour": [
           {
            "colorbar": {
             "outlinewidth": 0,
             "ticks": ""
            },
            "colorscale": [
             [
              0,
              "#0d0887"
             ],
             [
              0.1111111111111111,
              "#46039f"
             ],
             [
              0.2222222222222222,
              "#7201a8"
             ],
             [
              0.3333333333333333,
              "#9c179e"
             ],
             [
              0.4444444444444444,
              "#bd3786"
             ],
             [
              0.5555555555555556,
              "#d8576b"
             ],
             [
              0.6666666666666666,
              "#ed7953"
             ],
             [
              0.7777777777777778,
              "#fb9f3a"
             ],
             [
              0.8888888888888888,
              "#fdca26"
             ],
             [
              1,
              "#f0f921"
             ]
            ],
            "type": "histogram2dcontour"
           }
          ],
          "mesh3d": [
           {
            "colorbar": {
             "outlinewidth": 0,
             "ticks": ""
            },
            "type": "mesh3d"
           }
          ],
          "parcoords": [
           {
            "line": {
             "colorbar": {
              "outlinewidth": 0,
              "ticks": ""
             }
            },
            "type": "parcoords"
           }
          ],
          "pie": [
           {
            "automargin": true,
            "type": "pie"
           }
          ],
          "scatter": [
           {
            "fillpattern": {
             "fillmode": "overlay",
             "size": 10,
             "solidity": 0.2
            },
            "type": "scatter"
           }
          ],
          "scatter3d": [
           {
            "line": {
             "colorbar": {
              "outlinewidth": 0,
              "ticks": ""
             }
            },
            "marker": {
             "colorbar": {
              "outlinewidth": 0,
              "ticks": ""
             }
            },
            "type": "scatter3d"
           }
          ],
          "scattercarpet": [
           {
            "marker": {
             "colorbar": {
              "outlinewidth": 0,
              "ticks": ""
             }
            },
            "type": "scattercarpet"
           }
          ],
          "scattergeo": [
           {
            "marker": {
             "colorbar": {
              "outlinewidth": 0,
              "ticks": ""
             }
            },
            "type": "scattergeo"
           }
          ],
          "scattergl": [
           {
            "marker": {
             "colorbar": {
              "outlinewidth": 0,
              "ticks": ""
             }
            },
            "type": "scattergl"
           }
          ],
          "scattermapbox": [
           {
            "marker": {
             "colorbar": {
              "outlinewidth": 0,
              "ticks": ""
             }
            },
            "type": "scattermapbox"
           }
          ],
          "scatterpolar": [
           {
            "marker": {
             "colorbar": {
              "outlinewidth": 0,
              "ticks": ""
             }
            },
            "type": "scatterpolar"
           }
          ],
          "scatterpolargl": [
           {
            "marker": {
             "colorbar": {
              "outlinewidth": 0,
              "ticks": ""
             }
            },
            "type": "scatterpolargl"
           }
          ],
          "scatterternary": [
           {
            "marker": {
             "colorbar": {
              "outlinewidth": 0,
              "ticks": ""
             }
            },
            "type": "scatterternary"
           }
          ],
          "surface": [
           {
            "colorbar": {
             "outlinewidth": 0,
             "ticks": ""
            },
            "colorscale": [
             [
              0,
              "#0d0887"
             ],
             [
              0.1111111111111111,
              "#46039f"
             ],
             [
              0.2222222222222222,
              "#7201a8"
             ],
             [
              0.3333333333333333,
              "#9c179e"
             ],
             [
              0.4444444444444444,
              "#bd3786"
             ],
             [
              0.5555555555555556,
              "#d8576b"
             ],
             [
              0.6666666666666666,
              "#ed7953"
             ],
             [
              0.7777777777777778,
              "#fb9f3a"
             ],
             [
              0.8888888888888888,
              "#fdca26"
             ],
             [
              1,
              "#f0f921"
             ]
            ],
            "type": "surface"
           }
          ],
          "table": [
           {
            "cells": {
             "fill": {
              "color": "#EBF0F8"
             },
             "line": {
              "color": "white"
             }
            },
            "header": {
             "fill": {
              "color": "#C8D4E3"
             },
             "line": {
              "color": "white"
             }
            },
            "type": "table"
           }
          ]
         },
         "layout": {
          "annotationdefaults": {
           "arrowcolor": "#2a3f5f",
           "arrowhead": 0,
           "arrowwidth": 1
          },
          "autotypenumbers": "strict",
          "coloraxis": {
           "colorbar": {
            "outlinewidth": 0,
            "ticks": ""
           }
          },
          "colorscale": {
           "diverging": [
            [
             0,
             "#8e0152"
            ],
            [
             0.1,
             "#c51b7d"
            ],
            [
             0.2,
             "#de77ae"
            ],
            [
             0.3,
             "#f1b6da"
            ],
            [
             0.4,
             "#fde0ef"
            ],
            [
             0.5,
             "#f7f7f7"
            ],
            [
             0.6,
             "#e6f5d0"
            ],
            [
             0.7,
             "#b8e186"
            ],
            [
             0.8,
             "#7fbc41"
            ],
            [
             0.9,
             "#4d9221"
            ],
            [
             1,
             "#276419"
            ]
           ],
           "sequential": [
            [
             0,
             "#0d0887"
            ],
            [
             0.1111111111111111,
             "#46039f"
            ],
            [
             0.2222222222222222,
             "#7201a8"
            ],
            [
             0.3333333333333333,
             "#9c179e"
            ],
            [
             0.4444444444444444,
             "#bd3786"
            ],
            [
             0.5555555555555556,
             "#d8576b"
            ],
            [
             0.6666666666666666,
             "#ed7953"
            ],
            [
             0.7777777777777778,
             "#fb9f3a"
            ],
            [
             0.8888888888888888,
             "#fdca26"
            ],
            [
             1,
             "#f0f921"
            ]
           ],
           "sequentialminus": [
            [
             0,
             "#0d0887"
            ],
            [
             0.1111111111111111,
             "#46039f"
            ],
            [
             0.2222222222222222,
             "#7201a8"
            ],
            [
             0.3333333333333333,
             "#9c179e"
            ],
            [
             0.4444444444444444,
             "#bd3786"
            ],
            [
             0.5555555555555556,
             "#d8576b"
            ],
            [
             0.6666666666666666,
             "#ed7953"
            ],
            [
             0.7777777777777778,
             "#fb9f3a"
            ],
            [
             0.8888888888888888,
             "#fdca26"
            ],
            [
             1,
             "#f0f921"
            ]
           ]
          },
          "colorway": [
           "#636efa",
           "#EF553B",
           "#00cc96",
           "#ab63fa",
           "#FFA15A",
           "#19d3f3",
           "#FF6692",
           "#B6E880",
           "#FF97FF",
           "#FECB52"
          ],
          "font": {
           "color": "#2a3f5f"
          },
          "geo": {
           "bgcolor": "white",
           "lakecolor": "white",
           "landcolor": "#E5ECF6",
           "showlakes": true,
           "showland": true,
           "subunitcolor": "white"
          },
          "hoverlabel": {
           "align": "left"
          },
          "hovermode": "closest",
          "mapbox": {
           "style": "light"
          },
          "paper_bgcolor": "white",
          "plot_bgcolor": "#E5ECF6",
          "polar": {
           "angularaxis": {
            "gridcolor": "white",
            "linecolor": "white",
            "ticks": ""
           },
           "bgcolor": "#E5ECF6",
           "radialaxis": {
            "gridcolor": "white",
            "linecolor": "white",
            "ticks": ""
           }
          },
          "scene": {
           "xaxis": {
            "backgroundcolor": "#E5ECF6",
            "gridcolor": "white",
            "gridwidth": 2,
            "linecolor": "white",
            "showbackground": true,
            "ticks": "",
            "zerolinecolor": "white"
           },
           "yaxis": {
            "backgroundcolor": "#E5ECF6",
            "gridcolor": "white",
            "gridwidth": 2,
            "linecolor": "white",
            "showbackground": true,
            "ticks": "",
            "zerolinecolor": "white"
           },
           "zaxis": {
            "backgroundcolor": "#E5ECF6",
            "gridcolor": "white",
            "gridwidth": 2,
            "linecolor": "white",
            "showbackground": true,
            "ticks": "",
            "zerolinecolor": "white"
           }
          },
          "shapedefaults": {
           "line": {
            "color": "#2a3f5f"
           }
          },
          "ternary": {
           "aaxis": {
            "gridcolor": "white",
            "linecolor": "white",
            "ticks": ""
           },
           "baxis": {
            "gridcolor": "white",
            "linecolor": "white",
            "ticks": ""
           },
           "bgcolor": "#E5ECF6",
           "caxis": {
            "gridcolor": "white",
            "linecolor": "white",
            "ticks": ""
           }
          },
          "title": {
           "x": 0.05
          },
          "xaxis": {
           "automargin": true,
           "gridcolor": "white",
           "linecolor": "white",
           "ticks": "",
           "title": {
            "standoff": 15
           },
           "zerolinecolor": "white",
           "zerolinewidth": 2
          },
          "yaxis": {
           "automargin": true,
           "gridcolor": "white",
           "linecolor": "white",
           "ticks": "",
           "title": {
            "standoff": 15
           },
           "zerolinecolor": "white",
           "zerolinewidth": 2
          }
         }
        },
        "xaxis": {
         "anchor": "y",
         "domain": [
          0,
          1
         ],
         "title": {
          "text": "Monday"
         }
        },
        "yaxis": {
         "anchor": "x",
         "domain": [
          0,
          1
         ],
         "title": {
          "text": "Tuesday"
         }
        }
       }
      }
     },
     "metadata": {},
     "output_type": "display_data"
    }
   ],
   "source": [
    "fig = px.scatter(mt_2020, x ='Monday',y='Tuesday',trendline ='ols')\n",
    "#fig.update_layout(xaxis_title=\"Week\", yaxis_title=\"Return\", title='2020 Monday return against Tuesday return')\n",
    "fig.show()"
   ]
  },
  {
   "cell_type": "markdown",
   "id": "0a58e268-29ed-47ea-b67f-74650d193cf3",
   "metadata": {},
   "source": [
    "Positive correlations appear weak, however, strong negative correlations have existed. 2020 boasts a linear negative correlation coefficient of -66%. Furthermore, 44% (r-squared value) of Tuesday returns can be explained by Monday's return.  Monday return prices in a year like 2020 could lead to significant insights into how the price on Tuesday would react.\n",
    "\n",
    "The correlations of other pairings will be viewed below."
   ]
  },
  {
   "cell_type": "code",
   "execution_count": 176,
   "id": "5640a8fd-b75d-4377-a018-0b0cbb0d4910",
   "metadata": {},
   "outputs": [
    {
     "data": {
      "application/vnd.plotly.v1+json": {
       "config": {
        "plotlyServerURL": "https://plot.ly"
       },
       "data": [
        {
         "hovertemplate": "variable=tw<br>index=%{x}<br>value=%{y}<extra></extra>",
         "legendgroup": "tw",
         "line": {
          "color": "#636efa",
          "dash": "solid"
         },
         "marker": {
          "symbol": "circle"
         },
         "mode": "lines",
         "name": "tw",
         "orientation": "v",
         "showlegend": true,
         "type": "scatter",
         "x": [
          1982,
          1983,
          1984,
          1985,
          1986,
          1987,
          1988,
          1989,
          1990,
          1991,
          1992,
          1993,
          1994,
          1995,
          1996,
          1997,
          1998,
          1999,
          2000,
          2001,
          2002,
          2003,
          2004,
          2005,
          2006,
          2007,
          2008,
          2009,
          2010,
          2011,
          2012,
          2013,
          2014,
          2015,
          2016,
          2017,
          2018,
          2019,
          2020,
          2021,
          2022,
          2023
         ],
         "xaxis": "x",
         "y": [
          0.05631726541889294,
          0.040116811804203976,
          -0.041686310823326495,
          0.155831549830819,
          -0.11770120934444894,
          0.28051340936758085,
          0.27188353752097605,
          -0.04225630264295235,
          0.07581929269180618,
          0.03812238910617465,
          0.1417963128341789,
          0.05535012271487753,
          0.1991078700934591,
          -0.2132521984680267,
          0.2497610132032705,
          0.0921674910141744,
          -0.17134507937154095,
          0.0741421029382638,
          -0.14750163222368548,
          -0.07687895563167826,
          -0.38575180596237824,
          0.08886059714905585,
          0.013282325728848458,
          -0.11513185075148517,
          -0.09641103464333756,
          -0.1649890477861377,
          0.007920413396441355,
          -0.20156198102692174,
          -0.17446988120346613,
          -0.23653075687446806,
          -0.05990827874263423,
          -0.06534484970909112,
          -0.33389599545200477,
          -0.26759441430648917,
          0.03369481669496696,
          0.01530660803835698,
          0.1513547793409402,
          0.03817057386326476,
          -0.29117631261017246,
          0.3769393653801899,
          0.09046165871684156,
          0.1881762126055678
         ],
         "yaxis": "y"
        },
        {
         "hovertemplate": "variable=wt<br>index=%{x}<br>value=%{y}<extra></extra>",
         "legendgroup": "wt",
         "line": {
          "color": "#EF553B",
          "dash": "solid"
         },
         "marker": {
          "symbol": "circle"
         },
         "mode": "lines",
         "name": "wt",
         "orientation": "v",
         "showlegend": true,
         "type": "scatter",
         "x": [
          1982,
          1983,
          1984,
          1985,
          1986,
          1987,
          1988,
          1989,
          1990,
          1991,
          1992,
          1993,
          1994,
          1995,
          1996,
          1997,
          1998,
          1999,
          2000,
          2001,
          2002,
          2003,
          2004,
          2005,
          2006,
          2007,
          2008,
          2009,
          2010,
          2011,
          2012,
          2013,
          2014,
          2015,
          2016,
          2017,
          2018,
          2019,
          2020,
          2021,
          2022,
          2023
         ],
         "xaxis": "x",
         "y": [
          0.11937798844332972,
          0.07253801407393717,
          0.20193726720205335,
          0.10152575328460751,
          0.12331015403392756,
          -0.3143810063079996,
          -0.16375791034572765,
          0.24021553864937575,
          0.23058934522340208,
          0.011037035249005725,
          -0.14223695904810907,
          0.183355419690508,
          -0.037242699392751044,
          -0.000264767268733213,
          0.23597769229679896,
          0.11254053967948023,
          0.2613763352393189,
          -0.02076380808151228,
          0.18159202297786223,
          0.11822190061778386,
          -0.10839261779682956,
          -0.14993179590582856,
          0.13501243224041487,
          -0.17571694400198337,
          0.1041195843114755,
          -0.09272185174049842,
          -0.17510215883668606,
          -0.20914976994530451,
          0.09138061171904566,
          -0.10030475352034837,
          0.19183357108041582,
          0.030501865916116484,
          -0.14505817936089313,
          0.20367210761689525,
          -0.08082714409368369,
          -0.28496638844430844,
          0.2952367489312467,
          0.03212724995569221,
          -0.011568966228726555,
          -0.38599913859062296,
          -0.20265470777495123,
          0.1606659347960458
         ],
         "yaxis": "y"
        },
        {
         "hovertemplate": "variable=tf<br>index=%{x}<br>value=%{y}<extra></extra>",
         "legendgroup": "tf",
         "line": {
          "color": "#00cc96",
          "dash": "solid"
         },
         "marker": {
          "symbol": "circle"
         },
         "mode": "lines",
         "name": "tf",
         "orientation": "v",
         "showlegend": true,
         "type": "scatter",
         "x": [
          1982,
          1983,
          1984,
          1985,
          1986,
          1987,
          1988,
          1989,
          1990,
          1991,
          1992,
          1993,
          1994,
          1995,
          1996,
          1997,
          1998,
          1999,
          2000,
          2001,
          2002,
          2003,
          2004,
          2005,
          2006,
          2007,
          2008,
          2009,
          2010,
          2011,
          2012,
          2013,
          2014,
          2015,
          2016,
          2017,
          2018,
          2019,
          2020,
          2021,
          2022,
          2023
         ],
         "xaxis": "x",
         "y": [
          0.408059420791851,
          0.13191525917821217,
          0.20725922032858307,
          -0.04233757360379397,
          0.34276239969755806,
          0.18385131560531306,
          -0.0033583447711508104,
          0.10453249137602856,
          0.056331316413860986,
          0.13219183151123592,
          0.05132736427005209,
          0.05009918955245734,
          -0.054331741501128746,
          0.06381938381191125,
          0.09897676832756397,
          0.1904947587762814,
          -0.06516389783239428,
          0.014657561177249616,
          0.16696149119743742,
          0.03517190885192772,
          0.18066943280581227,
          -0.26790183113695837,
          0.14229129095291643,
          -0.08522673961103429,
          0.06392829009033844,
          -0.06480002967489844,
          -0.3265476204544406,
          0.16617100395845374,
          0.0776861246676504,
          0.04609089299693167,
          0.02147007934736178,
          -0.1932317769618617,
          0.24298988952215697,
          0.1329984553019251,
          -0.1864620699290213,
          0.06419582107478655,
          -0.02394783679775761,
          -0.27002681329452255,
          -0.39629513611287953,
          0.020291606521628272,
          0.0690210814076988,
          -0.12138742786769717
         ],
         "yaxis": "y"
        }
       ],
       "layout": {
        "legend": {
         "title": {
          "text": "variable"
         },
         "tracegroupgap": 0
        },
        "margin": {
         "t": 60
        },
        "template": {
         "data": {
          "bar": [
           {
            "error_x": {
             "color": "#2a3f5f"
            },
            "error_y": {
             "color": "#2a3f5f"
            },
            "marker": {
             "line": {
              "color": "#E5ECF6",
              "width": 0.5
             },
             "pattern": {
              "fillmode": "overlay",
              "size": 10,
              "solidity": 0.2
             }
            },
            "type": "bar"
           }
          ],
          "barpolar": [
           {
            "marker": {
             "line": {
              "color": "#E5ECF6",
              "width": 0.5
             },
             "pattern": {
              "fillmode": "overlay",
              "size": 10,
              "solidity": 0.2
             }
            },
            "type": "barpolar"
           }
          ],
          "carpet": [
           {
            "aaxis": {
             "endlinecolor": "#2a3f5f",
             "gridcolor": "white",
             "linecolor": "white",
             "minorgridcolor": "white",
             "startlinecolor": "#2a3f5f"
            },
            "baxis": {
             "endlinecolor": "#2a3f5f",
             "gridcolor": "white",
             "linecolor": "white",
             "minorgridcolor": "white",
             "startlinecolor": "#2a3f5f"
            },
            "type": "carpet"
           }
          ],
          "choropleth": [
           {
            "colorbar": {
             "outlinewidth": 0,
             "ticks": ""
            },
            "type": "choropleth"
           }
          ],
          "contour": [
           {
            "colorbar": {
             "outlinewidth": 0,
             "ticks": ""
            },
            "colorscale": [
             [
              0,
              "#0d0887"
             ],
             [
              0.1111111111111111,
              "#46039f"
             ],
             [
              0.2222222222222222,
              "#7201a8"
             ],
             [
              0.3333333333333333,
              "#9c179e"
             ],
             [
              0.4444444444444444,
              "#bd3786"
             ],
             [
              0.5555555555555556,
              "#d8576b"
             ],
             [
              0.6666666666666666,
              "#ed7953"
             ],
             [
              0.7777777777777778,
              "#fb9f3a"
             ],
             [
              0.8888888888888888,
              "#fdca26"
             ],
             [
              1,
              "#f0f921"
             ]
            ],
            "type": "contour"
           }
          ],
          "contourcarpet": [
           {
            "colorbar": {
             "outlinewidth": 0,
             "ticks": ""
            },
            "type": "contourcarpet"
           }
          ],
          "heatmap": [
           {
            "colorbar": {
             "outlinewidth": 0,
             "ticks": ""
            },
            "colorscale": [
             [
              0,
              "#0d0887"
             ],
             [
              0.1111111111111111,
              "#46039f"
             ],
             [
              0.2222222222222222,
              "#7201a8"
             ],
             [
              0.3333333333333333,
              "#9c179e"
             ],
             [
              0.4444444444444444,
              "#bd3786"
             ],
             [
              0.5555555555555556,
              "#d8576b"
             ],
             [
              0.6666666666666666,
              "#ed7953"
             ],
             [
              0.7777777777777778,
              "#fb9f3a"
             ],
             [
              0.8888888888888888,
              "#fdca26"
             ],
             [
              1,
              "#f0f921"
             ]
            ],
            "type": "heatmap"
           }
          ],
          "heatmapgl": [
           {
            "colorbar": {
             "outlinewidth": 0,
             "ticks": ""
            },
            "colorscale": [
             [
              0,
              "#0d0887"
             ],
             [
              0.1111111111111111,
              "#46039f"
             ],
             [
              0.2222222222222222,
              "#7201a8"
             ],
             [
              0.3333333333333333,
              "#9c179e"
             ],
             [
              0.4444444444444444,
              "#bd3786"
             ],
             [
              0.5555555555555556,
              "#d8576b"
             ],
             [
              0.6666666666666666,
              "#ed7953"
             ],
             [
              0.7777777777777778,
              "#fb9f3a"
             ],
             [
              0.8888888888888888,
              "#fdca26"
             ],
             [
              1,
              "#f0f921"
             ]
            ],
            "type": "heatmapgl"
           }
          ],
          "histogram": [
           {
            "marker": {
             "pattern": {
              "fillmode": "overlay",
              "size": 10,
              "solidity": 0.2
             }
            },
            "type": "histogram"
           }
          ],
          "histogram2d": [
           {
            "colorbar": {
             "outlinewidth": 0,
             "ticks": ""
            },
            "colorscale": [
             [
              0,
              "#0d0887"
             ],
             [
              0.1111111111111111,
              "#46039f"
             ],
             [
              0.2222222222222222,
              "#7201a8"
             ],
             [
              0.3333333333333333,
              "#9c179e"
             ],
             [
              0.4444444444444444,
              "#bd3786"
             ],
             [
              0.5555555555555556,
              "#d8576b"
             ],
             [
              0.6666666666666666,
              "#ed7953"
             ],
             [
              0.7777777777777778,
              "#fb9f3a"
             ],
             [
              0.8888888888888888,
              "#fdca26"
             ],
             [
              1,
              "#f0f921"
             ]
            ],
            "type": "histogram2d"
           }
          ],
          "histogram2dcontour": [
           {
            "colorbar": {
             "outlinewidth": 0,
             "ticks": ""
            },
            "colorscale": [
             [
              0,
              "#0d0887"
             ],
             [
              0.1111111111111111,
              "#46039f"
             ],
             [
              0.2222222222222222,
              "#7201a8"
             ],
             [
              0.3333333333333333,
              "#9c179e"
             ],
             [
              0.4444444444444444,
              "#bd3786"
             ],
             [
              0.5555555555555556,
              "#d8576b"
             ],
             [
              0.6666666666666666,
              "#ed7953"
             ],
             [
              0.7777777777777778,
              "#fb9f3a"
             ],
             [
              0.8888888888888888,
              "#fdca26"
             ],
             [
              1,
              "#f0f921"
             ]
            ],
            "type": "histogram2dcontour"
           }
          ],
          "mesh3d": [
           {
            "colorbar": {
             "outlinewidth": 0,
             "ticks": ""
            },
            "type": "mesh3d"
           }
          ],
          "parcoords": [
           {
            "line": {
             "colorbar": {
              "outlinewidth": 0,
              "ticks": ""
             }
            },
            "type": "parcoords"
           }
          ],
          "pie": [
           {
            "automargin": true,
            "type": "pie"
           }
          ],
          "scatter": [
           {
            "fillpattern": {
             "fillmode": "overlay",
             "size": 10,
             "solidity": 0.2
            },
            "type": "scatter"
           }
          ],
          "scatter3d": [
           {
            "line": {
             "colorbar": {
              "outlinewidth": 0,
              "ticks": ""
             }
            },
            "marker": {
             "colorbar": {
              "outlinewidth": 0,
              "ticks": ""
             }
            },
            "type": "scatter3d"
           }
          ],
          "scattercarpet": [
           {
            "marker": {
             "colorbar": {
              "outlinewidth": 0,
              "ticks": ""
             }
            },
            "type": "scattercarpet"
           }
          ],
          "scattergeo": [
           {
            "marker": {
             "colorbar": {
              "outlinewidth": 0,
              "ticks": ""
             }
            },
            "type": "scattergeo"
           }
          ],
          "scattergl": [
           {
            "marker": {
             "colorbar": {
              "outlinewidth": 0,
              "ticks": ""
             }
            },
            "type": "scattergl"
           }
          ],
          "scattermapbox": [
           {
            "marker": {
             "colorbar": {
              "outlinewidth": 0,
              "ticks": ""
             }
            },
            "type": "scattermapbox"
           }
          ],
          "scatterpolar": [
           {
            "marker": {
             "colorbar": {
              "outlinewidth": 0,
              "ticks": ""
             }
            },
            "type": "scatterpolar"
           }
          ],
          "scatterpolargl": [
           {
            "marker": {
             "colorbar": {
              "outlinewidth": 0,
              "ticks": ""
             }
            },
            "type": "scatterpolargl"
           }
          ],
          "scatterternary": [
           {
            "marker": {
             "colorbar": {
              "outlinewidth": 0,
              "ticks": ""
             }
            },
            "type": "scatterternary"
           }
          ],
          "surface": [
           {
            "colorbar": {
             "outlinewidth": 0,
             "ticks": ""
            },
            "colorscale": [
             [
              0,
              "#0d0887"
             ],
             [
              0.1111111111111111,
              "#46039f"
             ],
             [
              0.2222222222222222,
              "#7201a8"
             ],
             [
              0.3333333333333333,
              "#9c179e"
             ],
             [
              0.4444444444444444,
              "#bd3786"
             ],
             [
              0.5555555555555556,
              "#d8576b"
             ],
             [
              0.6666666666666666,
              "#ed7953"
             ],
             [
              0.7777777777777778,
              "#fb9f3a"
             ],
             [
              0.8888888888888888,
              "#fdca26"
             ],
             [
              1,
              "#f0f921"
             ]
            ],
            "type": "surface"
           }
          ],
          "table": [
           {
            "cells": {
             "fill": {
              "color": "#EBF0F8"
             },
             "line": {
              "color": "white"
             }
            },
            "header": {
             "fill": {
              "color": "#C8D4E3"
             },
             "line": {
              "color": "white"
             }
            },
            "type": "table"
           }
          ]
         },
         "layout": {
          "annotationdefaults": {
           "arrowcolor": "#2a3f5f",
           "arrowhead": 0,
           "arrowwidth": 1
          },
          "autotypenumbers": "strict",
          "coloraxis": {
           "colorbar": {
            "outlinewidth": 0,
            "ticks": ""
           }
          },
          "colorscale": {
           "diverging": [
            [
             0,
             "#8e0152"
            ],
            [
             0.1,
             "#c51b7d"
            ],
            [
             0.2,
             "#de77ae"
            ],
            [
             0.3,
             "#f1b6da"
            ],
            [
             0.4,
             "#fde0ef"
            ],
            [
             0.5,
             "#f7f7f7"
            ],
            [
             0.6,
             "#e6f5d0"
            ],
            [
             0.7,
             "#b8e186"
            ],
            [
             0.8,
             "#7fbc41"
            ],
            [
             0.9,
             "#4d9221"
            ],
            [
             1,
             "#276419"
            ]
           ],
           "sequential": [
            [
             0,
             "#0d0887"
            ],
            [
             0.1111111111111111,
             "#46039f"
            ],
            [
             0.2222222222222222,
             "#7201a8"
            ],
            [
             0.3333333333333333,
             "#9c179e"
            ],
            [
             0.4444444444444444,
             "#bd3786"
            ],
            [
             0.5555555555555556,
             "#d8576b"
            ],
            [
             0.6666666666666666,
             "#ed7953"
            ],
            [
             0.7777777777777778,
             "#fb9f3a"
            ],
            [
             0.8888888888888888,
             "#fdca26"
            ],
            [
             1,
             "#f0f921"
            ]
           ],
           "sequentialminus": [
            [
             0,
             "#0d0887"
            ],
            [
             0.1111111111111111,
             "#46039f"
            ],
            [
             0.2222222222222222,
             "#7201a8"
            ],
            [
             0.3333333333333333,
             "#9c179e"
            ],
            [
             0.4444444444444444,
             "#bd3786"
            ],
            [
             0.5555555555555556,
             "#d8576b"
            ],
            [
             0.6666666666666666,
             "#ed7953"
            ],
            [
             0.7777777777777778,
             "#fb9f3a"
            ],
            [
             0.8888888888888888,
             "#fdca26"
            ],
            [
             1,
             "#f0f921"
            ]
           ]
          },
          "colorway": [
           "#636efa",
           "#EF553B",
           "#00cc96",
           "#ab63fa",
           "#FFA15A",
           "#19d3f3",
           "#FF6692",
           "#B6E880",
           "#FF97FF",
           "#FECB52"
          ],
          "font": {
           "color": "#2a3f5f"
          },
          "geo": {
           "bgcolor": "white",
           "lakecolor": "white",
           "landcolor": "#E5ECF6",
           "showlakes": true,
           "showland": true,
           "subunitcolor": "white"
          },
          "hoverlabel": {
           "align": "left"
          },
          "hovermode": "closest",
          "mapbox": {
           "style": "light"
          },
          "paper_bgcolor": "white",
          "plot_bgcolor": "#E5ECF6",
          "polar": {
           "angularaxis": {
            "gridcolor": "white",
            "linecolor": "white",
            "ticks": ""
           },
           "bgcolor": "#E5ECF6",
           "radialaxis": {
            "gridcolor": "white",
            "linecolor": "white",
            "ticks": ""
           }
          },
          "scene": {
           "xaxis": {
            "backgroundcolor": "#E5ECF6",
            "gridcolor": "white",
            "gridwidth": 2,
            "linecolor": "white",
            "showbackground": true,
            "ticks": "",
            "zerolinecolor": "white"
           },
           "yaxis": {
            "backgroundcolor": "#E5ECF6",
            "gridcolor": "white",
            "gridwidth": 2,
            "linecolor": "white",
            "showbackground": true,
            "ticks": "",
            "zerolinecolor": "white"
           },
           "zaxis": {
            "backgroundcolor": "#E5ECF6",
            "gridcolor": "white",
            "gridwidth": 2,
            "linecolor": "white",
            "showbackground": true,
            "ticks": "",
            "zerolinecolor": "white"
           }
          },
          "shapedefaults": {
           "line": {
            "color": "#2a3f5f"
           }
          },
          "ternary": {
           "aaxis": {
            "gridcolor": "white",
            "linecolor": "white",
            "ticks": ""
           },
           "baxis": {
            "gridcolor": "white",
            "linecolor": "white",
            "ticks": ""
           },
           "bgcolor": "#E5ECF6",
           "caxis": {
            "gridcolor": "white",
            "linecolor": "white",
            "ticks": ""
           }
          },
          "title": {
           "x": 0.05
          },
          "xaxis": {
           "automargin": true,
           "gridcolor": "white",
           "linecolor": "white",
           "ticks": "",
           "title": {
            "standoff": 15
           },
           "zerolinecolor": "white",
           "zerolinewidth": 2
          },
          "yaxis": {
           "automargin": true,
           "gridcolor": "white",
           "linecolor": "white",
           "ticks": "",
           "title": {
            "standoff": 15
           },
           "zerolinecolor": "white",
           "zerolinewidth": 2
          }
         }
        },
        "title": {
         "text": "Correlations between Tue/Wed, Wed/Thu and Thu/Fri"
        },
        "xaxis": {
         "anchor": "y",
         "domain": [
          0,
          1
         ],
         "title": {
          "text": "Year"
         }
        },
        "yaxis": {
         "anchor": "x",
         "domain": [
          0,
          1
         ],
         "title": {
          "text": "Correlation"
         }
        }
       }
      }
     },
     "metadata": {},
     "output_type": "display_data"
    }
   ],
   "source": [
    "fig = px.line(yearly_corr[['tw','wt','tf']])\n",
    "fig.update_layout(xaxis_title=\"Year\", yaxis_title=\"Correlation\", title='Correlations between Tue/Wed, Wed/Thu and Thu/Fri')\n",
    "fig.show()"
   ]
  },
  {
   "cell_type": "markdown",
   "id": "52d55ded-742d-49eb-9c14-11595af0e960",
   "metadata": {},
   "source": [
    "No other pairing has as strong correlations as Monday and Tuesday's do. Our earlier assertion of Wednesday and Thursday holding a positive correlation pre 2000 and a negative correlation post 2000 seem to be incorrect. Correlation switches almost every other year."
   ]
  },
  {
   "cell_type": "markdown",
   "id": "10d25479-53be-4644-a849-724df1f0530e",
   "metadata": {},
   "source": [
    "## Risk-Reward Analysis\n",
    "\n",
    "Which day results in the greatest returns for the lowest risk? Does this change given the previous trend?\n",
    "\n",
    "As the data is skewed, the median for each day on each year will be used as the return. Risk will be calculated using the standard deviation. However, this will be calculated to capture downward risk only. Return is then divided by risk to compare values (sortino value). Data is plotted and key data summarised."
   ]
  },
  {
   "cell_type": "markdown",
   "id": "678aaaa5-366c-4237-bde0-9b3656a62470",
   "metadata": {},
   "source": [
    "### General Analysis\n",
    "\n",
    "A new dataframe will be created to find the risk and return. Columns will represent risk, return, and return/risk. Return/risk will determined using the sortino method which only limits risk to that which is negative. "
   ]
  },
  {
   "cell_type": "code",
   "execution_count": 177,
   "id": "868a6195-4280-4626-8e8a-268127f74631",
   "metadata": {},
   "outputs": [],
   "source": [
    "#create three columns for each day with their median return, standard deviations and sortino ratios\n",
    "columns = ['m_m','m_std','m_sr','t_m','t_std','t_sr','w_m','w_std','w_sr','th_m','th_std','th_sr','f_m','f_std','f_sr']\n",
    "\n",
    "#save risk_return with rows as unique year values and above the above columns\n",
    "risk_return = pd.DataFrame(index=df1['year'].unique(),columns=columns)"
   ]
  },
  {
   "cell_type": "code",
   "execution_count": 178,
   "id": "ffce7ba9-fe81-482e-aa7c-98739f05d050",
   "metadata": {},
   "outputs": [],
   "source": [
    "#create loop to capture all appropriate years\n",
    "for i in range(len(df1['year'].unique())):\n",
    "    a = df1[df1['year'] == (df1['year'].unique()[0] + i)]\n",
    "\n",
    "        \n",
    "    #create loop using trend columns\n",
    "    for column in df1.iloc[:,7:12]:\n",
    "    \n",
    "        #keep negative values to find downside standard deviation\n",
    "        b = (df1[df1[column] == 'negative'])\n",
    "        \n",
    "        #select the year equal to the first unique year value and increase by i \n",
    "        b = b[b['year'] == (df1['year'].unique()[0] + i)]\n",
    "    \n",
    "        #monday values\n",
    "        risk_return.iloc[i,0] = a.iloc[:,0].median()\n",
    "        risk_return.iloc[i,1] = b.iloc[:,0].std()\n",
    "        risk_return.iloc[i,2] = a.iloc[:,0].median() / b.iloc[:,0].std()\n",
    "        \n",
    "        #tuesday values\n",
    "        risk_return.iloc[i,3] = a.iloc[:,1].median()\n",
    "        risk_return.iloc[i,4] = b.iloc[:,1].std()\n",
    "        risk_return.iloc[i,5] = a.iloc[:,1].median() / b.iloc[:,1].std()\n",
    "        \n",
    "        #wednesday values\n",
    "        risk_return.iloc[i,6] = a.iloc[:,2].median()\n",
    "        risk_return.iloc[i,7] = b.iloc[:,2].std()\n",
    "        risk_return.iloc[i,8] = a.iloc[:,2].median() / b.iloc[:,2].std()\n",
    "        \n",
    "        #thursday values\n",
    "        risk_return.iloc[i,9] = a.iloc[:,3].median()\n",
    "        risk_return.iloc[i,10] = b.iloc[:,3].std()\n",
    "        risk_return.iloc[i,11] = a.iloc[:,3].median() / b.iloc[:,3].std()\n",
    "        \n",
    "        #friday values\n",
    "        risk_return.iloc[i,12] = a.iloc[:,4].median()\n",
    "        risk_return.iloc[i,13] = b.iloc[:,4].std()\n",
    "        risk_return.iloc[i,14] = a.iloc[:,4].median() / b.iloc[:,4].std()"
   ]
  },
  {
   "cell_type": "code",
   "execution_count": 179,
   "id": "adf100f7-fb3e-451d-84e6-9fbd5cf3d237",
   "metadata": {},
   "outputs": [],
   "source": [
    "#create dataframes for risk, return and sortino ratios\n",
    "risk = risk_return[['m_std','t_std','w_std','th_std','f_std']]\n",
    "return_ = risk_return[['m_m','t_m','w_m','th_m','f_m']]\n",
    "sortino = risk_return[['m_sr','t_sr','w_sr','th_sr','f_sr']]"
   ]
  },
  {
   "cell_type": "code",
   "execution_count": 180,
   "id": "d3a040dc-eae3-4540-9b55-08707617f9bb",
   "metadata": {},
   "outputs": [],
   "source": [
    "#reset indexes\n",
    "risk.reset_index(inplace=True)\n",
    "return_.reset_index(inplace=True)\n",
    "sortino.reset_index(inplace=True)"
   ]
  },
  {
   "cell_type": "code",
   "execution_count": 181,
   "id": "3cdd15d0-6c2c-4ff2-b1d3-725ecf1d2a41",
   "metadata": {},
   "outputs": [],
   "source": [
    "#melt return, risk and sortino dataframes\n",
    "risk_melt = risk.melt(id_vars='index', var_name='day', value_name='risk')\n",
    "return_melt = return_.melt(id_vars='index', var_name='day', value_name='return')\n",
    "sortino_melt = sortino.melt(id_vars='index', var_name='day', value_name='sortino')"
   ]
  },
  {
   "cell_type": "code",
   "execution_count": 182,
   "id": "6227e9b3-92bb-4be2-9bd2-b85dd25c6494",
   "metadata": {},
   "outputs": [],
   "source": [
    "#create risk_return_melt dataframe\n",
    "risk_return_melt = pd.DataFrame()\n",
    "\n",
    "#save appropriate columns from previous melts\n",
    "risk_return_melt['year'] = risk_melt['index']\n",
    "risk_return_melt['day'] = risk_melt['day'].str.replace('_std','')\n",
    "risk_return_melt['risk'] = risk_melt['risk']\n",
    "risk_return_melt['return'] = return_melt['return']\n",
    "risk_return_melt['sortino'] = sortino_melt['sortino']"
   ]
  },
  {
   "cell_type": "code",
   "execution_count": 183,
   "id": "7e923e37-1ac5-49e7-9d98-61837a8cc2bd",
   "metadata": {},
   "outputs": [
    {
     "data": {
      "application/vnd.plotly.v1+json": {
       "config": {
        "plotlyServerURL": "https://plot.ly"
       },
       "data": [
        {
         "customdata": [
          [
           0.159989760997632,
           "m",
           1982
          ],
          [
           0.1377407884700244,
           "m",
           1983
          ],
          [
           -0.24568622500325676,
           "m",
           1984
          ],
          [
           -0.02369565459976303,
           "m",
           1985
          ],
          [
           0.12834728010938054,
           "m",
           1986
          ],
          [
           0.0006673581963534183,
           "m",
           1987
          ],
          [
           -0.0472104372360217,
           "m",
           1988
          ],
          [
           0.1334053294763816,
           "m",
           1989
          ],
          [
           0.29126449810070176,
           "m",
           1990
          ],
          [
           -0.10158205156314352,
           "m",
           1991
          ],
          [
           0.23025315877153624,
           "m",
           1992
          ],
          [
           0.3381531952306822,
           "m",
           1993
          ],
          [
           0.0183793087114122,
           "m",
           1994
          ],
          [
           0.33896836269277864,
           "m",
           1995
          ],
          [
           0.15731419941393313,
           "m",
           1996
          ],
          [
           0.37527601490807316,
           "m",
           1997
          ],
          [
           0.04742152337730914,
           "m",
           1998
          ],
          [
           -0.0627145957959155,
           "m",
           1999
          ],
          [
           0.026865957224592747,
           "m",
           2000
          ],
          [
           -0.0428732720107051,
           "m",
           2001
          ],
          [
           -0.07822955150550745,
           "m",
           2002
          ],
          [
           0.2361771977591906,
           "m",
           2003
          ],
          [
           0.03719100177565908,
           "m",
           2004
          ],
          [
           0.25971751867590703,
           "m",
           2005
          ],
          [
           0.10409292640866931,
           "m",
           2006
          ],
          [
           -0.19230900945300375,
           "m",
           2007
          ],
          [
           -0.0953142607882583,
           "m",
           2008
          ],
          [
           0.14550553676933725,
           "m",
           2009
          ],
          [
           0.10455884504208439,
           "m",
           2010
          ],
          [
           -0.06931623351854595,
           "m",
           2011
          ],
          [
           0.0010555389483466826,
           "m",
           2012
          ],
          [
           0.015335933483582573,
           "m",
           2013
          ],
          [
           0.08267150452310652,
           "m",
           2014
          ],
          [
           0.045606479375090936,
           "m",
           2015
          ],
          [
           -0.018894683986887113,
           "m",
           2016
          ],
          [
           0.19116783027492293,
           "m",
           2017
          ],
          [
           -0.09374482967054183,
           "m",
           2018
          ],
          [
           0.03945484755458928,
           "m",
           2019
          ],
          [
           0.24449397704490278,
           "m",
           2020
          ],
          [
           0.10893273112947433,
           "m",
           2021
          ],
          [
           -0.0903550369908079,
           "m",
           2022
          ],
          [
           0.570644049825456,
           "m",
           2023
          ]
         ],
         "hovertemplate": "day=%{customdata[1]}<br>risk=%{x}<br>return=%{y}<br>sortino=%{customdata[0]}<br>year=%{customdata[2]}<extra></extra>",
         "legendgroup": "m",
         "marker": {
          "color": "#636efa",
          "symbol": "circle"
         },
         "mode": "markers",
         "name": "m",
         "orientation": "v",
         "showlegend": true,
         "type": "scatter",
         "x": [
          1.3841331899507792,
          0.6601852221411876,
          0.6736381434198705,
          0.6921506132749278,
          0.964944754805908,
          4.558322148502572,
          1.2312529095643654,
          0.895494735358689,
          1.302338189897581,
          0.7992063338388017,
          0.5702851384827851,
          0.5718838954443657,
          0.5788059734361446,
          0.4137182917626025,
          0.7970900685936999,
          0.8533423636910671,
          1.879789263438452,
          0.9667964743622521,
          1.21877187998501,
          1.5017077158192114,
          1.6885163239263756,
          1.2263729451757401,
          0.7376514173575757,
          0.4223290007782034,
          0.6276986204396771,
          0.49835008266625813,
          3.0556597097769083,
          2.227603267403836,
          0.932322282631429,
          1.63825220523741,
          0.7054352741822887,
          0.4271515526705424,
          0.5475871825192166,
          0.6486682129533059,
          0.6058378553450314,
          0.28430365398255886,
          0.7588943060995476,
          0.5403919264486357,
          1.709151994858328,
          0.5681964097025922,
          1.0890219329659803,
          0.40893858677364986
         ],
         "xaxis": "x",
         "y": [
          0.22144713824911516,
          0.09093443303398539,
          -0.16550361247503045,
          -0.016400961863176845,
          0.1238480347351514,
          0.003042033647422515,
          -0.05812798820865758,
          0.11946377021489103,
          0.3793248792378954,
          -0.08118501901360405,
          0.13130995453612423,
          0.19338436654548163,
          0.010638053669792352,
          0.14023741197482265,
          0.12539358600161493,
          0.32023892159821926,
          0.08914247050056129,
          -0.06063225010654482,
          0.032743473194213765,
          -0.06438312338089168,
          -0.1320918747304885,
          0.2896413255992918,
          0.027433995172763032,
          0.10968624014699019,
          0.06533898630425056,
          -0.09583721075837064,
          -0.2912479464578499,
          0.3241286091327247,
          0.097482541078942,
          -0.11355747242050918,
          0.0007446144074370267,
          0.006550767799164456,
          0.04526985623643257,
          0.02958347347533204,
          -0.011447114824037796,
          0.05434971267107823,
          -0.07114241746324612,
          0.02132108107776174,
          0.41787736859714186,
          0.061895186726865115,
          -0.09839861703694226,
          0.2333583712864142
         ],
         "yaxis": "y"
        },
        {
         "customdata": [
          [
           -0.02597959645138175,
           "t",
           1982
          ],
          [
           -0.057193800883916755,
           "t",
           1983
          ],
          [
           0.3300817445808984,
           "t",
           1984
          ],
          [
           0.2059259283161357,
           "t",
           1985
          ],
          [
           -0.07467030000509015,
           "t",
           1986
          ],
          [
           0.11266867053042376,
           "t",
           1987
          ],
          [
           0.31157253548494457,
           "t",
           1988
          ],
          [
           -0.26777538303466086,
           "t",
           1989
          ],
          [
           0.1493963570153447,
           "t",
           1990
          ],
          [
           -0.06726566985439719,
           "t",
           1991
          ],
          [
           -0.021205210738225625,
           "t",
           1992
          ],
          [
           -0.05533259369620488,
           "t",
           1993
          ],
          [
           -0.019996898340273458,
           "t",
           1994
          ],
          [
           0.30854822025545714,
           "t",
           1995
          ],
          [
           -0.12043634550322689,
           "t",
           1996
          ],
          [
           0.31949386427482795,
           "t",
           1997
          ],
          [
           0.16141799929881417,
           "t",
           1998
          ],
          [
           -0.3611632861704744,
           "t",
           1999
          ],
          [
           -0.1974398972746958,
           "t",
           2000
          ],
          [
           -0.08581358419778955,
           "t",
           2001
          ],
          [
           -0.4027991572404833,
           "t",
           2002
          ],
          [
           0.3410008415713808,
           "t",
           2003
          ],
          [
           0.2143391217592601,
           "t",
           2004
          ],
          [
           -0.03390239623947161,
           "t",
           2005
          ],
          [
           0.10733080413477344,
           "t",
           2006
          ],
          [
           0.0793523725165112,
           "t",
           2007
          ],
          [
           0.0887920463866911,
           "t",
           2008
          ],
          [
           0.05728107946218227,
           "t",
           2009
          ],
          [
           -0.0036924055760285943,
           "t",
           2010
          ],
          [
           0.12943752333441397,
           "t",
           2011
          ],
          [
           0.05333606748535232,
           "t",
           2012
          ],
          [
           0.4284016086980709,
           "t",
           2013
          ],
          [
           0.134884040151865,
           "t",
           2014
          ],
          [
           -0.10707510402955552,
           "t",
           2015
          ],
          [
           0.09072078655533238,
           "t",
           2016
          ],
          [
           0.009038184393208495,
           "t",
           2017
          ],
          [
           0.03581037399227302,
           "t",
           2018
          ],
          [
           0.12504919981372578,
           "t",
           2019
          ],
          [
           -0.07065389240717661,
           "t",
           2020
          ],
          [
           -0.24344194718119458,
           "t",
           2021
          ],
          [
           -0.1954761520833824,
           "t",
           2022
          ],
          [
           -0.08919600223287678,
           "t",
           2023
          ]
         ],
         "hovertemplate": "day=%{customdata[1]}<br>risk=%{x}<br>return=%{y}<br>sortino=%{customdata[0]}<br>year=%{customdata[2]}<extra></extra>",
         "legendgroup": "t",
         "marker": {
          "color": "#EF553B",
          "symbol": "circle"
         },
         "mode": "markers",
         "name": "t",
         "orientation": "v",
         "showlegend": true,
         "type": "scatter",
         "x": [
          1.1447344531038472,
          1.0796995311336808,
          0.8185307480849074,
          0.6928201738285852,
          1.031801238041998,
          1.8581316545475326,
          0.6928066159047647,
          0.6557148704956294,
          0.803967238130064,
          0.959801871255214,
          0.5096964672258112,
          0.5157448713920574,
          0.7810795906852693,
          0.3454569185552526,
          0.8257740410559603,
          1.0417817607518627,
          1.6432760871360013,
          1.2496112335663503,
          1.3028513082485902,
          1.208723439490222,
          1.448964019522705,
          0.8588297185294275,
          0.6614393591820154,
          0.6591211993166931,
          0.6355105054787195,
          1.1996172696371452,
          2.291899733062635,
          1.7850020073411825,
          1.1192919727789885,
          1.1144223140301368,
          0.8777344253572771,
          0.5647582917160585,
          0.6178953472309285,
          0.8972508829020492,
          0.6779444177944712,
          0.5546914991044362,
          0.96423949061184,
          0.5518318110693178,
          1.4955784194189858,
          0.5659923299866931,
          1.2553542194399372,
          0.8067849397065602
         ],
         "xaxis": "x",
         "y": [
          -0.029739739135631136,
          -0.06175211999811802,
          0.2701820573209741,
          0.14266963745179792,
          -0.07704490799021943,
          0.20935322318836713,
          0.21585951391819164,
          -0.1755843006084902,
          0.1201097765363197,
          -0.06456171579748586,
          -0.010808221000052437,
          -0.02853750141963815,
          -0.015619169170595734,
          0.10659011739515761,
          -0.09945320771621151,
          0.3328428804736469,
          0.26525433828107714,
          -0.45131369955036327,
          -0.25723482846480467,
          -0.10372489064653595,
          -0.5836414859355288,
          0.29286165678504683,
          0.14177233134408096,
          -0.022345788069070276,
          0.0682098535891273,
          0.09519247645748681,
          0.2035024674117424,
          0.10224684182266514,
          -0.004132879921493183,
          0.14424806427666745,
          0.04681490254507267,
          0.2419433606967339,
          0.08334422082554713,
          -0.09607323162734746,
          0.0615036508231113,
          0.005013404050251138,
          0.03452977677692882,
          0.0690061264059773,
          -0.10566843673212428,
          -0.1377862749015818,
          -0.24539181231775697,
          -0.0719619912835177
         ],
         "yaxis": "y"
        },
        {
         "customdata": [
          [
           -0.12390407890192874,
           "w",
           1982
          ],
          [
           0.3437007625738816,
           "w",
           1983
          ],
          [
           -0.2763669592845901,
           "w",
           1984
          ],
          [
           0.15494462165494016,
           "w",
           1985
          ],
          [
           0.2124861933277216,
           "w",
           1986
          ],
          [
           0.06423519117037534,
           "w",
           1987
          ],
          [
           0.058323716844095916,
           "w",
           1988
          ],
          [
           0.3036001361331953,
           "w",
           1989
          ],
          [
           0.09014181991859863,
           "w",
           1990
          ],
          [
           0.13393594640597223,
           "w",
           1991
          ],
          [
           0.0618428801543249,
           "w",
           1992
          ],
          [
           0.10888383201749817,
           "w",
           1993
          ],
          [
           0.029276627946607528,
           "w",
           1994
          ],
          [
           0.175281848233931,
           "w",
           1995
          ],
          [
           0.14014254839250048,
           "w",
           1996
          ],
          [
           -0.3501557392737933,
           "w",
           1997
          ],
          [
           0.3628893680985407,
           "w",
           1998
          ],
          [
           0.3677083683912021,
           "w",
           1999
          ],
          [
           -0.4372652110403408,
           "w",
           2000
          ],
          [
           -0.12644045727570177,
           "w",
           2001
          ],
          [
           0.3079294046284444,
           "w",
           2002
          ],
          [
           -0.1844780046232241,
           "w",
           2003
          ],
          [
           0.24163167796793214,
           "w",
           2004
          ],
          [
           0.10148871237642568,
           "w",
           2005
          ],
          [
           0.3525388175594437,
           "w",
           2006
          ],
          [
           0.1921089054983962,
           "w",
           2007
          ],
          [
           -0.0910736676655163,
           "w",
           2008
          ],
          [
           0.05121139653756166,
           "w",
           2009
          ],
          [
           0.10717839032435154,
           "w",
           2010
          ],
          [
           0.06542572302054193,
           "w",
           2011
          ],
          [
           0.03856348927342621,
           "w",
           2012
          ],
          [
           0.07622832428733241,
           "w",
           2013
          ],
          [
           0.07307830683376998,
           "w",
           2014
          ],
          [
           -0.049357911306957804,
           "w",
           2015
          ],
          [
           0.1700950155511423,
           "w",
           2016
          ],
          [
           0.23293827772487924,
           "w",
           2017
          ],
          [
           -0.05182256144475105,
           "w",
           2018
          ],
          [
           0.23322120769214102,
           "w",
           2019
          ],
          [
           0.20310422340468348,
           "w",
           2020
          ],
          [
           0.10707805869259361,
           "w",
           2021
          ],
          [
           0.052874482012470726,
           "w",
           2022
          ],
          [
           -0.054158947967776205,
           "w",
           2023
          ]
         ],
         "hovertemplate": "day=%{customdata[1]}<br>risk=%{x}<br>return=%{y}<br>sortino=%{customdata[0]}<br>year=%{customdata[2]}<extra></extra>",
         "legendgroup": "w",
         "marker": {
          "color": "#00cc96",
          "symbol": "circle"
         },
         "mode": "markers",
         "name": "w",
         "orientation": "v",
         "showlegend": true,
         "type": "scatter",
         "x": [
          1.2326997902915808,
          0.7979948832167931,
          0.6700656169566478,
          0.7564246653861377,
          1.012522613823747,
          2.1417506661178547,
          0.8190213878758605,
          0.7523936398198969,
          0.6459344243548546,
          0.5365597525503052,
          0.5831774446542487,
          0.4968924534973957,
          0.3600289036252776,
          0.5801175740605835,
          0.5996815824437347,
          0.7606773345653418,
          0.7347557398180519,
          1.0428130480916038,
          0.983281119871176,
          1.7063187892545266,
          1.7984552160614162,
          0.9008710970936934,
          0.6932532884927833,
          0.799706137426491,
          0.6741136984822437,
          0.9386400938404983,
          2.3943685470590594,
          1.5038366961359215,
          0.9580251244220515,
          1.58905406850335,
          0.5483003217196989,
          0.720428485202637,
          0.7088192837230263,
          0.7585396126897418,
          0.7345423867330519,
          0.2955686625490573,
          1.4598496604123699,
          0.540761781060071,
          0.9459964819481426,
          0.9212043949064266,
          1.2982355999769108,
          0.5547349679279109
         ],
         "xaxis": "x",
         "y": [
          -0.15273653207867904,
          0.2742714498916674,
          -0.18518399707946162,
          0.11720393358871982,
          0.2151470758696427,
          0.13757576347735911,
          0.04776837151573014,
          0.22842681147507105,
          0.05822570455941897,
          0.07186463826117939,
          0.03606537281845815,
          0.054103554437372955,
          0.01054043226146227,
          0.10168408057432343,
          0.08404090518771236,
          -0.26635553443354587,
          0.26663504612934863,
          0.38345108445081977,
          -0.42995462639245235,
          -0.21574772797146413,
          0.5537972439327122,
          -0.16619090241457934,
          0.16751195535529817,
          0.0811611461669395,
          0.23765124616355354,
          0.18032112108461004,
          -0.21806392532362193,
          0.0770135773735533,
          0.10267959072584208,
          0.10396501135056546,
          0.02114437357525375,
          0.05491705619585827,
          0.05179931310560437,
          -0.0374399309259544,
          0.12494199869433165,
          0.06884925520362342,
          -0.075653148726819,
          0.1261171156525829,
          0.19213588080964017,
          0.09864077826566553,
          0.06864353487892831,
          -0.03004386226391373
         ],
         "yaxis": "y"
        },
        {
         "customdata": [
          [
           -0.28513827156873783,
           "th",
           1982
          ],
          [
           -0.016337873518795756,
           "th",
           1983
          ],
          [
           0.04157317591333479,
           "th",
           1984
          ],
          [
           0.1551739224012639,
           "th",
           1985
          ],
          [
           0.10697297770619477,
           "th",
           1986
          ],
          [
           0.18980848258500607,
           "th",
           1987
          ],
          [
           -0.004766967257064557,
           "th",
           1988
          ],
          [
           0.04585463080679205,
           "th",
           1989
          ],
          [
           -0.303090407848523,
           "th",
           1990
          ],
          [
           -0.056839597592609724,
           "th",
           1991
          ],
          [
           0.008573836757889803,
           "th",
           1992
          ],
          [
           -0.17071949900784508,
           "th",
           1993
          ],
          [
           -0.060223092692640624,
           "th",
           1994
          ],
          [
           0.0888904442004714,
           "th",
           1995
          ],
          [
           0.005680871317727612,
           "th",
           1996
          ],
          [
           -0.41638074361158917,
           "th",
           1997
          ],
          [
           -0.25345183459971177,
           "th",
           1998
          ],
          [
           0.18954610346312664,
           "th",
           1999
          ],
          [
           0.14636012285981778,
           "th",
           2000
          ],
          [
           0.21356208915986133,
           "th",
           2001
          ],
          [
           -0.125762979057679,
           "th",
           2002
          ],
          [
           0.27268928859180797,
           "th",
           2003
          ],
          [
           0.01649073228130336,
           "th",
           2004
          ],
          [
           0.06623596072639953,
           "th",
           2005
          ],
          [
           0.09160145984433511,
           "th",
           2006
          ],
          [
           0.03846450737945695,
           "th",
           2007
          ],
          [
           0.10011467906783457,
           "th",
           2008
          ],
          [
           0.32036402869449965,
           "th",
           2009
          ],
          [
           0.06399734434555891,
           "th",
           2010
          ],
          [
           0.16054350374912255,
           "th",
           2011
          ],
          [
           0.22633802560698923,
           "th",
           2012
          ],
          [
           0.47616402402533753,
           "th",
           2013
          ],
          [
           0.013243012519100828,
           "th",
           2014
          ],
          [
           0.058539794448680946,
           "th",
           2015
          ],
          [
           -0.007356279181990308,
           "th",
           2016
          ],
          [
           -0.0009333773674405966,
           "th",
           2017
          ],
          [
           0.034658702776679325,
           "th",
           2018
          ],
          [
           0.1002702429927656,
           "th",
           2019
          ],
          [
           0.12617185065564862,
           "th",
           2020
          ],
          [
           0.22186430322158726,
           "th",
           2021
          ],
          [
           -0.010430714119907493,
           "th",
           2022
          ],
          [
           0.10416687002895206,
           "th",
           2023
          ]
         ],
         "hovertemplate": "day=%{customdata[1]}<br>risk=%{x}<br>return=%{y}<br>sortino=%{customdata[0]}<br>year=%{customdata[2]}<extra></extra>",
         "legendgroup": "th",
         "marker": {
          "color": "#ab63fa",
          "symbol": "circle"
         },
         "mode": "markers",
         "name": "th",
         "orientation": "v",
         "showlegend": true,
         "type": "scatter",
         "x": [
          0.5893553062433969,
          0.7509393938914252,
          0.8638609851775928,
          0.6829105348495781,
          1.280537161171255,
          1.6150624735452574,
          0.7911131902287784,
          0.9258154946092417,
          0.799521123857043,
          0.7038576107044487,
          0.5638061779239519,
          0.5484508759647118,
          0.6477990080354761,
          0.6408250126771509,
          0.8145944921756304,
          0.8181399652388534,
          1.1544852749429184,
          1.3769810520670722,
          1.061678718713341,
          1.3611261817385716,
          1.4168120178145909,
          0.8873847172253175,
          0.713466478571889,
          0.70119476858533,
          0.8072136398753941,
          0.9207356983394144,
          2.6477248820060253,
          1.604836091883408,
          1.1615301275461847,
          1.6105088907846734,
          0.6480062165486747,
          0.5319149065124403,
          0.8820565903691717,
          0.8669122743011749,
          0.717019375443281,
          0.45714540924799235,
          0.8750574516966886,
          0.5888700154798804,
          1.915311239296318,
          0.7956645838367942,
          1.544943152622186,
          0.970281467089231
         ],
         "xaxis": "x",
         "y": [
          -0.16804775336210637,
          -0.01226875283767925,
          0.03591344470145476,
          0.10596990634175406,
          0.1369828731939266,
          0.3065525573836118,
          -0.0037712106744524705,
          0.042452927700514356,
          -0.24232718351334062,
          -0.04000698335493662,
          0.004833982132609737,
          -0.09363125877510937,
          -0.039012459707121125,
          0.056963220031644654,
          0.004627606486179429,
          -0.3406577271045135,
          -0.29260641095263534,
          0.26100139296187025,
          0.1553874277085385,
          0.2906849509822744,
          -0.17818250012508433,
          0.2419803072474145,
          0.011765584689813284,
          0.046444309153574725,
          0.0739419478188455,
          0.03541564506330585,
          0.26507612682195336,
          0.5141317557901047,
          0.07433484354031415,
          0.2585567401456844,
          0.14666844763468215,
          0.2532787423240248,
          0.011681086468814333,
          0.05074886634262929,
          -0.0052745947046571005,
          -0.0004266891786214453,
          0.030328356130873955,
          0.05904613954332125,
          0.24165836364358032,
          0.17652956849104454,
          -0.01611486035651063,
          0.10107118347378485
         ],
         "yaxis": "y"
        },
        {
         "customdata": [
          [
           -0.31290360415183005,
           "f",
           1982
          ],
          [
           0.22214148228650754,
           "f",
           1983
          ],
          [
           -0.24659732100228202,
           "f",
           1984
          ],
          [
           0.8012178653414739,
           "f",
           1985
          ],
          [
           0.12294979450178756,
           "f",
           1986
          ],
          [
           0.04346734404890549,
           "f",
           1987
          ],
          [
           0.13374882820167766,
           "f",
           1988
          ],
          [
           0.25085574527836946,
           "f",
           1989
          ],
          [
           0.00918713876100778,
           "f",
           1990
          ],
          [
           0.030340774766613225,
           "f",
           1991
          ],
          [
           -0.3080410534039039,
           "f",
           1992
          ],
          [
           -0.09143834926597692,
           "f",
           1993
          ],
          [
           0.18297342666760727,
           "f",
           1994
          ],
          [
           0.2461211035575437,
           "f",
           1995
          ],
          [
           0.12003870236930533,
           "f",
           1996
          ],
          [
           0.42712078071873005,
           "f",
           1997
          ],
          [
           0.3422720432588477,
           "f",
           1998
          ],
          [
           0.26330722624498343,
           "f",
           1999
          ],
          [
           -0.09039447045415369,
           "f",
           2000
          ],
          [
           -0.4256636380855167,
           "f",
           2001
          ],
          [
           -0.1629655412087421,
           "f",
           2002
          ],
          [
           0.011990215616714156,
           "f",
           2003
          ],
          [
           0.006033235003670507,
           "f",
           2004
          ],
          [
           0.15456117486959958,
           "f",
           2005
          ],
          [
           -0.1624353140334375,
           "f",
           2006
          ],
          [
           0.13833759420710087,
           "f",
           2007
          ],
          [
           0.045466191266458185,
           "f",
           2008
          ],
          [
           0.08391112879546192,
           "f",
           2009
          ],
          [
           0.10704099937880823,
           "f",
           2010
          ],
          [
           0.11447011037860368,
           "f",
           2011
          ],
          [
           0.18731122814515191,
           "f",
           2012
          ],
          [
           0.8010927012605448,
           "f",
           2013
          ],
          [
           0.2428148725153504,
           "f",
           2014
          ],
          [
           -0.07623636056538177,
           "f",
           2015
          ],
          [
           0.04908770685069108,
           "f",
           2016
          ],
          [
           0.5479456094516427,
           "f",
           2017
          ],
          [
           -0.04445008823061646,
           "f",
           2018
          ],
          [
           0.39957129314241896,
           "f",
           2019
          ],
          [
           0.028369172286467854,
           "f",
           2020
          ],
          [
           0.258769201992973,
           "f",
           2021
          ],
          [
           0.07222235958774156,
           "f",
           2022
          ],
          [
           0.4190689627621543,
           "f",
           2023
          ]
         ],
         "hovertemplate": "day=%{customdata[1]}<br>risk=%{x}<br>return=%{y}<br>sortino=%{customdata[0]}<br>year=%{customdata[2]}<extra></extra>",
         "legendgroup": "f",
         "marker": {
          "color": "#FFA15A",
          "symbol": "circle"
         },
         "mode": "markers",
         "name": "f",
         "orientation": "v",
         "showlegend": true,
         "type": "scatter",
         "x": [
          0.4639653601512229,
          0.4724757919713165,
          0.39491616807522495,
          0.20364745035482815,
          0.5491611515286469,
          1.1087546163439952,
          1.4423761903201597,
          1.556691668369116,
          0.599564310700164,
          0.7941562065254332,
          0.35313646958573014,
          0.42589488627967725,
          0.5202006967121553,
          0.2647515891363371,
          0.7404080894843685,
          0.7694304910569458,
          0.7016966818411401,
          0.7177964391273732,
          1.2624714646565136,
          0.7723229438046039,
          0.9659156492823099,
          0.6284881371135461,
          0.43597262018995747,
          0.3569130981096997,
          0.3943303862313799,
          0.7911007964044431,
          0.8831592233027412,
          0.8212116549470658,
          0.8920412297072785,
          0.7930905095812987,
          0.6087421007376468,
          0.2993842171237791,
          0.5115018225077477,
          0.7050246151519206,
          0.7715290700021696,
          0.14336662956312554,
          0.6834915730609016,
          0.5650765769185181,
          1.1050611044068182,
          0.4892793293047544,
          0.9567333403704846,
          0.40789616385064126
         ],
         "xaxis": "x",
         "y": [
          -0.14517643339291952,
          0.10495647277299983,
          -0.0973852690678374,
          0.1631659754555292,
          0.06751925072881215,
          0.04819461837443665,
          0.19291612528132138,
          0.39050504863736296,
          0.005508280518550388,
          0.024095314591696143,
          -0.108780530086524,
          -0.038943125362234654,
          0.09518290403229976,
          0.06516095328684869,
          0.0888776262854401,
          0.32863975204903856,
          0.24017115704172057,
          0.18900098939515472,
          -0.11412043951110536,
          -0.3287497940367838,
          -0.15741096654728515,
          0.007535708276538428,
          0.0026303252727719988,
          0.055164907770183846,
          -0.0640531801204209,
          0.10943898094991217,
          0.04015388616541909,
          0.06890879694659767,
          0.09548498471496814,
          0.0907851581719943,
          0.11402423051282841,
          0.23983451121046165,
          0.12420024982358813,
          -0.053748510768191336,
          0.03787259281505282,
          0.07855711521099472,
          -0.030381260727439914,
          0.22578837856382386,
          0.03134966885799147,
          0.12661042159584834,
          0.06909753933781829,
          0.17093662229954995
         ],
         "yaxis": "y"
        }
       ],
       "layout": {
        "legend": {
         "title": {
          "text": "day"
         },
         "tracegroupgap": 0
        },
        "template": {
         "data": {
          "bar": [
           {
            "error_x": {
             "color": "#2a3f5f"
            },
            "error_y": {
             "color": "#2a3f5f"
            },
            "marker": {
             "line": {
              "color": "#E5ECF6",
              "width": 0.5
             },
             "pattern": {
              "fillmode": "overlay",
              "size": 10,
              "solidity": 0.2
             }
            },
            "type": "bar"
           }
          ],
          "barpolar": [
           {
            "marker": {
             "line": {
              "color": "#E5ECF6",
              "width": 0.5
             },
             "pattern": {
              "fillmode": "overlay",
              "size": 10,
              "solidity": 0.2
             }
            },
            "type": "barpolar"
           }
          ],
          "carpet": [
           {
            "aaxis": {
             "endlinecolor": "#2a3f5f",
             "gridcolor": "white",
             "linecolor": "white",
             "minorgridcolor": "white",
             "startlinecolor": "#2a3f5f"
            },
            "baxis": {
             "endlinecolor": "#2a3f5f",
             "gridcolor": "white",
             "linecolor": "white",
             "minorgridcolor": "white",
             "startlinecolor": "#2a3f5f"
            },
            "type": "carpet"
           }
          ],
          "choropleth": [
           {
            "colorbar": {
             "outlinewidth": 0,
             "ticks": ""
            },
            "type": "choropleth"
           }
          ],
          "contour": [
           {
            "colorbar": {
             "outlinewidth": 0,
             "ticks": ""
            },
            "colorscale": [
             [
              0,
              "#0d0887"
             ],
             [
              0.1111111111111111,
              "#46039f"
             ],
             [
              0.2222222222222222,
              "#7201a8"
             ],
             [
              0.3333333333333333,
              "#9c179e"
             ],
             [
              0.4444444444444444,
              "#bd3786"
             ],
             [
              0.5555555555555556,
              "#d8576b"
             ],
             [
              0.6666666666666666,
              "#ed7953"
             ],
             [
              0.7777777777777778,
              "#fb9f3a"
             ],
             [
              0.8888888888888888,
              "#fdca26"
             ],
             [
              1,
              "#f0f921"
             ]
            ],
            "type": "contour"
           }
          ],
          "contourcarpet": [
           {
            "colorbar": {
             "outlinewidth": 0,
             "ticks": ""
            },
            "type": "contourcarpet"
           }
          ],
          "heatmap": [
           {
            "colorbar": {
             "outlinewidth": 0,
             "ticks": ""
            },
            "colorscale": [
             [
              0,
              "#0d0887"
             ],
             [
              0.1111111111111111,
              "#46039f"
             ],
             [
              0.2222222222222222,
              "#7201a8"
             ],
             [
              0.3333333333333333,
              "#9c179e"
             ],
             [
              0.4444444444444444,
              "#bd3786"
             ],
             [
              0.5555555555555556,
              "#d8576b"
             ],
             [
              0.6666666666666666,
              "#ed7953"
             ],
             [
              0.7777777777777778,
              "#fb9f3a"
             ],
             [
              0.8888888888888888,
              "#fdca26"
             ],
             [
              1,
              "#f0f921"
             ]
            ],
            "type": "heatmap"
           }
          ],
          "heatmapgl": [
           {
            "colorbar": {
             "outlinewidth": 0,
             "ticks": ""
            },
            "colorscale": [
             [
              0,
              "#0d0887"
             ],
             [
              0.1111111111111111,
              "#46039f"
             ],
             [
              0.2222222222222222,
              "#7201a8"
             ],
             [
              0.3333333333333333,
              "#9c179e"
             ],
             [
              0.4444444444444444,
              "#bd3786"
             ],
             [
              0.5555555555555556,
              "#d8576b"
             ],
             [
              0.6666666666666666,
              "#ed7953"
             ],
             [
              0.7777777777777778,
              "#fb9f3a"
             ],
             [
              0.8888888888888888,
              "#fdca26"
             ],
             [
              1,
              "#f0f921"
             ]
            ],
            "type": "heatmapgl"
           }
          ],
          "histogram": [
           {
            "marker": {
             "pattern": {
              "fillmode": "overlay",
              "size": 10,
              "solidity": 0.2
             }
            },
            "type": "histogram"
           }
          ],
          "histogram2d": [
           {
            "colorbar": {
             "outlinewidth": 0,
             "ticks": ""
            },
            "colorscale": [
             [
              0,
              "#0d0887"
             ],
             [
              0.1111111111111111,
              "#46039f"
             ],
             [
              0.2222222222222222,
              "#7201a8"
             ],
             [
              0.3333333333333333,
              "#9c179e"
             ],
             [
              0.4444444444444444,
              "#bd3786"
             ],
             [
              0.5555555555555556,
              "#d8576b"
             ],
             [
              0.6666666666666666,
              "#ed7953"
             ],
             [
              0.7777777777777778,
              "#fb9f3a"
             ],
             [
              0.8888888888888888,
              "#fdca26"
             ],
             [
              1,
              "#f0f921"
             ]
            ],
            "type": "histogram2d"
           }
          ],
          "histogram2dcontour": [
           {
            "colorbar": {
             "outlinewidth": 0,
             "ticks": ""
            },
            "colorscale": [
             [
              0,
              "#0d0887"
             ],
             [
              0.1111111111111111,
              "#46039f"
             ],
             [
              0.2222222222222222,
              "#7201a8"
             ],
             [
              0.3333333333333333,
              "#9c179e"
             ],
             [
              0.4444444444444444,
              "#bd3786"
             ],
             [
              0.5555555555555556,
              "#d8576b"
             ],
             [
              0.6666666666666666,
              "#ed7953"
             ],
             [
              0.7777777777777778,
              "#fb9f3a"
             ],
             [
              0.8888888888888888,
              "#fdca26"
             ],
             [
              1,
              "#f0f921"
             ]
            ],
            "type": "histogram2dcontour"
           }
          ],
          "mesh3d": [
           {
            "colorbar": {
             "outlinewidth": 0,
             "ticks": ""
            },
            "type": "mesh3d"
           }
          ],
          "parcoords": [
           {
            "line": {
             "colorbar": {
              "outlinewidth": 0,
              "ticks": ""
             }
            },
            "type": "parcoords"
           }
          ],
          "pie": [
           {
            "automargin": true,
            "type": "pie"
           }
          ],
          "scatter": [
           {
            "fillpattern": {
             "fillmode": "overlay",
             "size": 10,
             "solidity": 0.2
            },
            "type": "scatter"
           }
          ],
          "scatter3d": [
           {
            "line": {
             "colorbar": {
              "outlinewidth": 0,
              "ticks": ""
             }
            },
            "marker": {
             "colorbar": {
              "outlinewidth": 0,
              "ticks": ""
             }
            },
            "type": "scatter3d"
           }
          ],
          "scattercarpet": [
           {
            "marker": {
             "colorbar": {
              "outlinewidth": 0,
              "ticks": ""
             }
            },
            "type": "scattercarpet"
           }
          ],
          "scattergeo": [
           {
            "marker": {
             "colorbar": {
              "outlinewidth": 0,
              "ticks": ""
             }
            },
            "type": "scattergeo"
           }
          ],
          "scattergl": [
           {
            "marker": {
             "colorbar": {
              "outlinewidth": 0,
              "ticks": ""
             }
            },
            "type": "scattergl"
           }
          ],
          "scattermapbox": [
           {
            "marker": {
             "colorbar": {
              "outlinewidth": 0,
              "ticks": ""
             }
            },
            "type": "scattermapbox"
           }
          ],
          "scatterpolar": [
           {
            "marker": {
             "colorbar": {
              "outlinewidth": 0,
              "ticks": ""
             }
            },
            "type": "scatterpolar"
           }
          ],
          "scatterpolargl": [
           {
            "marker": {
             "colorbar": {
              "outlinewidth": 0,
              "ticks": ""
             }
            },
            "type": "scatterpolargl"
           }
          ],
          "scatterternary": [
           {
            "marker": {
             "colorbar": {
              "outlinewidth": 0,
              "ticks": ""
             }
            },
            "type": "scatterternary"
           }
          ],
          "surface": [
           {
            "colorbar": {
             "outlinewidth": 0,
             "ticks": ""
            },
            "colorscale": [
             [
              0,
              "#0d0887"
             ],
             [
              0.1111111111111111,
              "#46039f"
             ],
             [
              0.2222222222222222,
              "#7201a8"
             ],
             [
              0.3333333333333333,
              "#9c179e"
             ],
             [
              0.4444444444444444,
              "#bd3786"
             ],
             [
              0.5555555555555556,
              "#d8576b"
             ],
             [
              0.6666666666666666,
              "#ed7953"
             ],
             [
              0.7777777777777778,
              "#fb9f3a"
             ],
             [
              0.8888888888888888,
              "#fdca26"
             ],
             [
              1,
              "#f0f921"
             ]
            ],
            "type": "surface"
           }
          ],
          "table": [
           {
            "cells": {
             "fill": {
              "color": "#EBF0F8"
             },
             "line": {
              "color": "white"
             }
            },
            "header": {
             "fill": {
              "color": "#C8D4E3"
             },
             "line": {
              "color": "white"
             }
            },
            "type": "table"
           }
          ]
         },
         "layout": {
          "annotationdefaults": {
           "arrowcolor": "#2a3f5f",
           "arrowhead": 0,
           "arrowwidth": 1
          },
          "autotypenumbers": "strict",
          "coloraxis": {
           "colorbar": {
            "outlinewidth": 0,
            "ticks": ""
           }
          },
          "colorscale": {
           "diverging": [
            [
             0,
             "#8e0152"
            ],
            [
             0.1,
             "#c51b7d"
            ],
            [
             0.2,
             "#de77ae"
            ],
            [
             0.3,
             "#f1b6da"
            ],
            [
             0.4,
             "#fde0ef"
            ],
            [
             0.5,
             "#f7f7f7"
            ],
            [
             0.6,
             "#e6f5d0"
            ],
            [
             0.7,
             "#b8e186"
            ],
            [
             0.8,
             "#7fbc41"
            ],
            [
             0.9,
             "#4d9221"
            ],
            [
             1,
             "#276419"
            ]
           ],
           "sequential": [
            [
             0,
             "#0d0887"
            ],
            [
             0.1111111111111111,
             "#46039f"
            ],
            [
             0.2222222222222222,
             "#7201a8"
            ],
            [
             0.3333333333333333,
             "#9c179e"
            ],
            [
             0.4444444444444444,
             "#bd3786"
            ],
            [
             0.5555555555555556,
             "#d8576b"
            ],
            [
             0.6666666666666666,
             "#ed7953"
            ],
            [
             0.7777777777777778,
             "#fb9f3a"
            ],
            [
             0.8888888888888888,
             "#fdca26"
            ],
            [
             1,
             "#f0f921"
            ]
           ],
           "sequentialminus": [
            [
             0,
             "#0d0887"
            ],
            [
             0.1111111111111111,
             "#46039f"
            ],
            [
             0.2222222222222222,
             "#7201a8"
            ],
            [
             0.3333333333333333,
             "#9c179e"
            ],
            [
             0.4444444444444444,
             "#bd3786"
            ],
            [
             0.5555555555555556,
             "#d8576b"
            ],
            [
             0.6666666666666666,
             "#ed7953"
            ],
            [
             0.7777777777777778,
             "#fb9f3a"
            ],
            [
             0.8888888888888888,
             "#fdca26"
            ],
            [
             1,
             "#f0f921"
            ]
           ]
          },
          "colorway": [
           "#636efa",
           "#EF553B",
           "#00cc96",
           "#ab63fa",
           "#FFA15A",
           "#19d3f3",
           "#FF6692",
           "#B6E880",
           "#FF97FF",
           "#FECB52"
          ],
          "font": {
           "color": "#2a3f5f"
          },
          "geo": {
           "bgcolor": "white",
           "lakecolor": "white",
           "landcolor": "#E5ECF6",
           "showlakes": true,
           "showland": true,
           "subunitcolor": "white"
          },
          "hoverlabel": {
           "align": "left"
          },
          "hovermode": "closest",
          "mapbox": {
           "style": "light"
          },
          "paper_bgcolor": "white",
          "plot_bgcolor": "#E5ECF6",
          "polar": {
           "angularaxis": {
            "gridcolor": "white",
            "linecolor": "white",
            "ticks": ""
           },
           "bgcolor": "#E5ECF6",
           "radialaxis": {
            "gridcolor": "white",
            "linecolor": "white",
            "ticks": ""
           }
          },
          "scene": {
           "xaxis": {
            "backgroundcolor": "#E5ECF6",
            "gridcolor": "white",
            "gridwidth": 2,
            "linecolor": "white",
            "showbackground": true,
            "ticks": "",
            "zerolinecolor": "white"
           },
           "yaxis": {
            "backgroundcolor": "#E5ECF6",
            "gridcolor": "white",
            "gridwidth": 2,
            "linecolor": "white",
            "showbackground": true,
            "ticks": "",
            "zerolinecolor": "white"
           },
           "zaxis": {
            "backgroundcolor": "#E5ECF6",
            "gridcolor": "white",
            "gridwidth": 2,
            "linecolor": "white",
            "showbackground": true,
            "ticks": "",
            "zerolinecolor": "white"
           }
          },
          "shapedefaults": {
           "line": {
            "color": "#2a3f5f"
           }
          },
          "ternary": {
           "aaxis": {
            "gridcolor": "white",
            "linecolor": "white",
            "ticks": ""
           },
           "baxis": {
            "gridcolor": "white",
            "linecolor": "white",
            "ticks": ""
           },
           "bgcolor": "#E5ECF6",
           "caxis": {
            "gridcolor": "white",
            "linecolor": "white",
            "ticks": ""
           }
          },
          "title": {
           "x": 0.05
          },
          "xaxis": {
           "automargin": true,
           "gridcolor": "white",
           "linecolor": "white",
           "ticks": "",
           "title": {
            "standoff": 15
           },
           "zerolinecolor": "white",
           "zerolinewidth": 2
          },
          "yaxis": {
           "automargin": true,
           "gridcolor": "white",
           "linecolor": "white",
           "ticks": "",
           "title": {
            "standoff": 15
           },
           "zerolinecolor": "white",
           "zerolinewidth": 2
          }
         }
        },
        "title": {
         "text": "Risk-Reward Values for each day from 1982 - 2023"
        },
        "xaxis": {
         "anchor": "y",
         "domain": [
          0,
          1
         ],
         "title": {
          "text": "risk"
         }
        },
        "yaxis": {
         "anchor": "x",
         "domain": [
          0,
          1
         ],
         "title": {
          "text": "return"
         }
        }
       }
      }
     },
     "metadata": {},
     "output_type": "display_data"
    }
   ],
   "source": [
    "#print scatter plot of all dates\n",
    "fig = px.scatter(risk_return_melt, x = 'risk', y='return', color='day',\n",
    "                 hover_data=['risk', 'return', 'sortino','day','year'],\n",
    "                 title = 'Risk-Reward Values for each day from 1982 - 2023')\n",
    "#save image\n",
    "fig.write_image(\"images/risk-reward-general.png\")\n",
    "\n",
    "#save image\n",
    "fig.show()"
   ]
  },
  {
   "cell_type": "code",
   "execution_count": 184,
   "id": "b608e518-3b66-456f-9523-167da84c6822",
   "metadata": {},
   "outputs": [
    {
     "name": "stdout",
     "output_type": "stream",
     "text": [
      "             m_m       t_m       w_m      th_m       f_m\n",
      "median  0.039007  0.019772  0.074439  0.044449  0.068214\n",
      "std     0.150000  0.187067  0.177246  0.167528  0.133823\n"
     ]
    }
   ],
   "source": [
    "#print summary statistics for return\n",
    "print(return_.drop(columns='index').agg(['median','std']))"
   ]
  },
  {
   "cell_type": "markdown",
   "id": "f63919c2-cc7a-44c4-a011-463985be3a8a",
   "metadata": {},
   "source": [
    "The above plot pits return against reward. Values that are further to the left have less risk and values that are higher have a greater return. The highest median average occurred in 2002 on a Wednesday with an average return of 55 basis points. Wednesday also has the highest median returns in terms of median average at 7.4 basis points. Friday follows closely behind, followed by Thursday, Monday and eventually Tuesday with only a median average of 1.4 basis points."
   ]
  },
  {
   "cell_type": "code",
   "execution_count": 185,
   "id": "db78421a-0299-4735-98fd-7dd338bea6d4",
   "metadata": {},
   "outputs": [
    {
     "name": "stdout",
     "output_type": "stream",
     "text": [
      "           m_std     t_std     w_std    th_std     f_std\n",
      "median  0.777992  0.868282  0.759608  0.841000  0.655990\n",
      "std     0.787968  0.414453  0.461449  0.441111  0.312934\n"
     ]
    }
   ],
   "source": [
    "#print summary statistics for risk\n",
    "print(risk.drop(columns='index').agg(['median','std']))"
   ]
  },
  {
   "cell_type": "markdown",
   "id": "1357d935-9d9f-4e3e-9df1-d74e881c3dd1",
   "metadata": {},
   "source": [
    "The least risky point is held by Friday in 2017 with a downward standard deviation of .14. Friday also carries the lowest average median risk followed by Wednesday, Monday, Thursday and Tuesday. With low returns and high risk, Tuesday automatically takes last place as the worst day to invest on."
   ]
  },
  {
   "cell_type": "code",
   "execution_count": 186,
   "id": "a51c5831-76af-4327-a443-4e6561508bf7",
   "metadata": {},
   "outputs": [
    {
     "name": "stdout",
     "output_type": "stream",
     "text": [
      "            m_sr      t_sr      w_sr     th_sr      f_sr\n",
      "median  0.046514  0.022424  0.095815  0.052197  0.110756\n",
      "std     0.164079  0.189413  0.183532  0.167986  0.257638\n"
     ]
    }
   ],
   "source": [
    "#print summary statistics for sortino ratio\n",
    "print(sortino.drop(columns='index').agg(['median','std']))"
   ]
  },
  {
   "cell_type": "markdown",
   "id": "e6eb4dc7-bfb8-4d96-9ba5-eb137aa1310b",
   "metadata": {},
   "source": [
    "The highest return point on Wednesday and lowest risk point held by Friday have a similar Sortino ratio. This means they offer a similar proportionate amount of risk for a proportionate return. Fridays generally take the win with a higher mean and median sortino ratio across the decades. Wednesday trails next before Thursday and finally Monday."
   ]
  },
  {
   "cell_type": "markdown",
   "id": "452f8bda-b403-4731-9139-1fd62968d102",
   "metadata": {},
   "source": [
    "### Positive Trends"
   ]
  },
  {
   "cell_type": "code",
   "execution_count": 187,
   "id": "49bfa71e-1909-4ff2-a48f-d08d24db31ec",
   "metadata": {},
   "outputs": [],
   "source": [
    "#create three columns for each day with their median return, standard deviations and sortino ratios\n",
    "columns = ['m_m','t_m','w_m','th_m','f_m','m_std','t_std','w_std','th_std','f_std','m_sr','t_sr','w_sr','th_sr','f_sr']\n",
    "\n",
    "#save risk_return\n",
    "positive_risk_return = pd.DataFrame(index=df1['year'].unique(),columns=columns)\n",
    "\n",
    "#change year dtype from date-time to integer to allow for loop\n",
    "df1['year'] = df1['year'].astype(int)"
   ]
  },
  {
   "cell_type": "code",
   "execution_count": 188,
   "id": "e9e5c1cc-0588-4835-8544-6c8ee672263a",
   "metadata": {},
   "outputs": [],
   "source": [
    "#Create loop using trend columns in trend\n",
    "for column in df1.iloc[:,7:12]:\n",
    "    \n",
    "    #keep data where positive values of the given column \n",
    "    column_positive = (df1[df1[column] == 'positive'])\n",
    "    \n",
    "    #Isolate columns to avoid nan values, reset index to allow for merge\n",
    "    a = pd.DataFrame(column_positive[column_positive.columns[(column_positive.columns.get_loc(column) - 6)]]).reset_index()\n",
    "    b = pd.DataFrame(column_positive[column_positive.columns[(column_positive.columns.get_loc(column) - 7)]]).reset_index()\n",
    "    c = pd.DataFrame(column_positive[column_positive.columns[(column_positive.columns.get_loc(column) + 1 )]]).reset_index()\n",
    "    d = a.merge(b, how = 'inner').merge(c, how = 'inner').dropna()\n",
    "    \n",
    "    #extract year from week column\n",
    "    d[['year','x']] = d['week'].str.split('-', expand = True)\n",
    "    \n",
    "    #change year dtype from date-time to integer to allow for loop\n",
    "    d['year'] = d['year'].astype(int)\n",
    "                            \n",
    "    #drop x column\n",
    "    d.drop(columns='x', inplace = True)\n",
    "    \n",
    "    for i in range(len(d['year'].unique())):\n",
    "    \n",
    "        e = d[d['year'] == (d['year'].unique()[0] + i)]\n",
    "        \n",
    "        ##find downside standard deviation by selecting negative returns of next day\n",
    "        f = e[e.iloc[:,3] == 'negative']\n",
    "        \n",
    "        positive_risk_return.iloc[i ,(column_positive.columns.get_loc(column) - 7)] = e.iloc[:,1].median()\n",
    "        positive_risk_return.iloc[i,(column_positive.columns.get_loc(column)-2)] = f.iloc[:,1].std()\n",
    "        positive_risk_return.iloc[i,(column_positive.columns.get_loc(column) + 3)] = e.iloc[:,1].median() / f.iloc[:,1].std()"
   ]
  },
  {
   "cell_type": "code",
   "execution_count": 189,
   "id": "def1f40e-a949-4854-9475-026acbfcef06",
   "metadata": {},
   "outputs": [],
   "source": [
    "#create dataframes for risk, return and sortino ratios\n",
    "risk = positive_risk_return[['m_std','t_std','w_std','th_std','f_std']]\n",
    "return_ = positive_risk_return[['m_m','t_m','w_m','th_m','f_m']]\n",
    "sortino = positive_risk_return[['m_sr','t_sr','w_sr','th_sr','f_sr']]"
   ]
  },
  {
   "cell_type": "code",
   "execution_count": 190,
   "id": "d5379cda-f5cf-4605-8c34-40fa4b54dacb",
   "metadata": {},
   "outputs": [],
   "source": [
    "#reset indexes\n",
    "risk.reset_index(inplace=True)\n",
    "return_.reset_index(inplace=True)\n",
    "sortino.reset_index(inplace=True)"
   ]
  },
  {
   "cell_type": "code",
   "execution_count": 191,
   "id": "94821a20-7de0-4f87-8876-e15f3ebcfba5",
   "metadata": {},
   "outputs": [],
   "source": [
    "#melt return, risk and sortino dataframes\n",
    "risk_melt = risk.melt(id_vars='index', var_name='day', value_name='risk')\n",
    "return_melt = return_.melt(id_vars='index', var_name='day', value_name='return')\n",
    "sortino_melt = sortino.melt(id_vars='index', var_name='day', value_name='sortino')"
   ]
  },
  {
   "cell_type": "code",
   "execution_count": 192,
   "id": "5fa28916-6b6b-41c5-953f-1833ad7806a7",
   "metadata": {},
   "outputs": [],
   "source": [
    "#create risk_return_melt dataframe\n",
    "positive_risk_return_melt = pd.DataFrame()\n",
    "\n",
    "#save appropriate columns from previous melts\n",
    "positive_risk_return_melt['year'] = risk_melt['index']\n",
    "positive_risk_return_melt['day'] = risk_melt['day'].str.replace('_std','')\n",
    "positive_risk_return_melt['risk'] = risk_melt['risk']\n",
    "positive_risk_return_melt['return'] = return_melt['return']\n",
    "positive_risk_return_melt['sortino'] = sortino_melt['sortino']"
   ]
  },
  {
   "cell_type": "code",
   "execution_count": 193,
   "id": "b250e2d9-0bfd-4fd6-80fe-510f0b68e00b",
   "metadata": {},
   "outputs": [
    {
     "data": {
      "application/vnd.plotly.v1+json": {
       "config": {
        "plotlyServerURL": "https://plot.ly"
       },
       "data": [
        {
         "customdata": [
          [
           -0.1410401112354162,
           "m",
           1982
          ],
          [
           -0.8845706470779894,
           "m",
           1983
          ],
          [
           0.7463899039900259,
           "m",
           1984
          ],
          [
           0.46980121297312744,
           "m",
           1985
          ],
          [
           0.47236556611085145,
           "m",
           1986
          ],
          [
           -0.13195148841332982,
           "m",
           1987
          ],
          [
           -0.017522750973867164,
           "m",
           1988
          ],
          [
           -0.7476445851162822,
           "m",
           1989
          ],
          [
           -0.04528383595498528,
           "m",
           1990
          ],
          [
           0.6179933830911042,
           "m",
           1991
          ],
          [
           -0.004382288002665263,
           "m",
           1992
          ],
          [
           -0.10202960706078379,
           "m",
           1993
          ],
          [
           -0.49420877005357816,
           "m",
           1994
          ],
          [
           0.04620467912279645,
           "m",
           1995
          ],
          [
           -0.2751174665307109,
           "m",
           1996
          ],
          [
           0.567504793552549,
           "m",
           1997
          ],
          [
           0.27277040741434516,
           "m",
           1998
          ],
          [
           -0.3236300812878775,
           "m",
           1999
          ],
          [
           -0.5155496141225999,
           "m",
           2000
          ],
          [
           -0.25953581306946405,
           "m",
           2001
          ],
          [
           -0.8240675701593061,
           "m",
           2002
          ],
          [
           0.23114046835810176,
           "m",
           2003
          ],
          [
           0.06971401646425303,
           "m",
           2004
          ],
          [
           -0.14598693382918024,
           "m",
           2005
          ],
          [
           0.32210972334642557,
           "m",
           2006
          ],
          [
           -0.10115592842751885,
           "m",
           2007
          ],
          [
           -0.45056234820890145,
           "m",
           2008
          ],
          [
           0.033456949302165535,
           "m",
           2009
          ],
          [
           0.04775404201118298,
           "m",
           2010
          ],
          [
           0.3308023238352538,
           "m",
           2011
          ],
          [
           0.3378863876369632,
           "m",
           2012
          ],
          [
           1.158854334996185,
           "m",
           2013
          ],
          [
           0.20432744244056542,
           "m",
           2014
          ],
          [
           -0.6025461961933992,
           "m",
           2015
          ],
          [
           -0.0008897631762399198,
           "m",
           2016
          ],
          [
           0.1764665757327058,
           "m",
           2017
          ],
          [
           0.0640225576554795,
           "m",
           2018
          ],
          [
           0.11016341736084032,
           "m",
           2019
          ],
          [
           -0.27299936997335406,
           "m",
           2020
          ],
          [
           -0.39356708624401904,
           "m",
           2021
          ],
          [
           -0.2754367980433669,
           "m",
           2022
          ],
          [
           -0.09062096313728678,
           "m",
           2023
          ]
         ],
         "hovertemplate": "day=%{customdata[1]}<br>risk=%{x}<br>return=%{y}<br>sortino=%{customdata[0]}<br>year=%{customdata[2]}<extra></extra>",
         "legendgroup": "m",
         "marker": {
          "color": "#636efa",
          "symbol": "circle"
         },
         "mode": "markers",
         "name": "m",
         "orientation": "v",
         "showlegend": true,
         "type": "scatter",
         "x": [
          0.5496697109147087,
          0.47098281207909876,
          0.40716693660496733,
          0.3052684599997215,
          0.3445032803071062,
          0.8440871564212119,
          0.44233255926698745,
          0.27184303550705874,
          0.6870414294241923,
          0.559055272341648,
          0.5503349811860093,
          0.15580593364368453,
          0.164512701028277,
          0.2322535220648052,
          0.3614936156920074,
          0.3903187454490341,
          0.4008014145563022,
          0.7258129867900405,
          0.5444610076145766,
          0.6436798418075175,
          0.6639651538454171,
          0.47643001355850206,
          0.5182219165217684,
          0.3632585172845379,
          0.3623891652701903,
          0.8546858896588516,
          1.0337986285525613,
          1.2388355486065863,
          0.6155037823176867,
          0.7896306171534071,
          0.4050661633835802,
          0.19760553988193122,
          0.2977696388442044,
          0.4183785443973219,
          0.5199295872665989,
          0.1638034758658444,
          0.7461781613686492,
          0.4485794516433689,
          0.8742343921924443,
          0.44042547568959406,
          0.8289432090328958,
          0.4342933638528528
         ],
         "xaxis": "x",
         "y": [
          -0.07752547717014958,
          -0.41661757084341944,
          0.30390529072049455,
          0.1434154927903078,
          0.16273148702931156,
          -0.11137855664035405,
          -0.007750883283668759,
          -0.2032419734984257,
          -0.03111187138432372,
          0.3454924590893336,
          -0.0024117263854984616,
          -0.015896818187403686,
          -0.0813036196333768,
          0.01073119946214365,
          -0.09945320771621151,
          0.22150775905574405,
          0.1093267651407684,
          -0.23489491591465797,
          -0.2806966623804969,
          -0.16705797109993803,
          -0.5471521509998427,
          0.11012225647376894,
          0.036127331220535325,
          -0.053030997125703964,
          0.1167290737689231,
          -0.08645654468234107,
          -0.46579073765578394,
          0.041447658143450986,
          0.029392793478840832,
          0.2612116431258127,
          0.13686634269964185,
          0.22899603651143752,
          0.060842508741487125,
          -0.2520924004955375,
          -0.0004626142009874396,
          0.02890583847916048,
          0.047772234357484025,
          0.049417045350885334,
          -0.23866543827757541,
          -0.17333697117478958,
          -0.22832146325581418,
          -0.039356082916477644
         ],
         "yaxis": "y"
        },
        {
         "customdata": [
          [
           -0.0516462983568694,
           "t",
           1982
          ],
          [
           0.5354364626302804,
           "t",
           1983
          ],
          [
           -0.6683509246614668,
           "t",
           1984
          ],
          [
           0.6274192808722174,
           "t",
           1985
          ],
          [
           0.22958229093310697,
           "t",
           1986
          ],
          [
           0.16846150720951159,
           "t",
           1987
          ],
          [
           0.06701838649306559,
           "t",
           1988
          ],
          [
           0.8696999914312126,
           "t",
           1989
          ],
          [
           0.11954720653080086,
           "t",
           1990
          ],
          [
           0.2570838022059301,
           "t",
           1991
          ],
          [
           0.0793117720103434,
           "t",
           1992
          ],
          [
           0.5777330209768848,
           "t",
           1993
          ],
          [
           -0.04593172537726155,
           "t",
           1994
          ],
          [
           0.13311710471927635,
           "t",
           1995
          ],
          [
           0.420458123637501,
           "t",
           1996
          ],
          [
           -0.5211792408895893,
           "t",
           1997
          ],
          [
           0.35609152202332733,
           "t",
           1998
          ],
          [
           1.2463304910094852,
           "t",
           1999
          ],
          [
           -0.7982136018904208,
           "t",
           2000
          ],
          [
           0.15437970840485085,
           "t",
           2001
          ],
          [
           -0.09064025837987663,
           "t",
           2002
          ],
          [
           -0.28810553468384464,
           "t",
           2003
          ],
          [
           0.32424237614948825,
           "t",
           2004
          ],
          [
           0.17063894723433098,
           "t",
           2005
          ],
          [
           0.5569570112990292,
           "t",
           2006
          ],
          [
           0.09009750438067295,
           "t",
           2007
          ],
          [
           -0.18621440170318226,
           "t",
           2008
          ],
          [
           0.0814145899492967,
           "t",
           2009
          ],
          [
           -0.0920028934054134,
           "t",
           2010
          ],
          [
           0.0059583712776060255,
           "t",
           2011
          ],
          [
           0.06485697540021082,
           "t",
           2012
          ],
          [
           0.08626047936850646,
           "t",
           2013
          ],
          [
           -0.05353932026909954,
           "t",
           2014
          ],
          [
           -0.020639555392034784,
           "t",
           2015
          ],
          [
           0.06529190604138066,
           "t",
           2016
          ],
          [
           0.24251728607118808,
           "t",
           2017
          ],
          [
           -0.02114547666789318,
           "t",
           2018
          ],
          [
           0.30119227431613127,
           "t",
           2019
          ],
          [
           0.14507807444985366,
           "t",
           2020
          ],
          [
           0.38407656570787757,
           "t",
           2021
          ],
          [
           0.3725277573532073,
           "t",
           2022
          ],
          [
           0.3087611419275558,
           "t",
           2023
          ]
         ],
         "hovertemplate": "day=%{customdata[1]}<br>risk=%{x}<br>return=%{y}<br>sortino=%{customdata[0]}<br>year=%{customdata[2]}<extra></extra>",
         "legendgroup": "t",
         "marker": {
          "color": "#EF553B",
          "symbol": "circle"
         },
         "mode": "markers",
         "name": "t",
         "orientation": "v",
         "showlegend": true,
         "type": "scatter",
         "x": [
          0.3607317984229689,
          0.503796056858165,
          0.3929415812355585,
          0.34378543047212357,
          0.8725296255861056,
          0.9722798687851437,
          0.5551197405683609,
          0.2917378578036947,
          0.40552917388340926,
          0.4682218626774157,
          0.3202510810033163,
          0.14306730036569554,
          0.2755349518882358,
          0.28131369607465967,
          0.2260718125829412,
          0.5110632073121514,
          0.7726567845530469,
          0.3076640483538499,
          0.7169406552287777,
          0.8559863714195712,
          0.9771912624875373,
          0.538639931249491,
          0.49083804440143314,
          0.4333793006916981,
          0.36562082860499434,
          0.7769360745422559,
          1.8230663863838856,
          0.8918855129546638,
          0.43645248476621135,
          1.2712195737719345,
          0.6911196620386824,
          0.4364469815011918,
          0.4167015667316438,
          0.5219499152971974,
          0.667569582871878,
          0.15510603975566348,
          0.7670924725476443,
          0.6550677294745731,
          1.0459905206961106,
          0.5153626151913728,
          1.0389931716338834,
          0.5103555893599385
         ],
         "xaxis": "x",
         "y": [
          -0.01863046208816272,
          0.2697507785712195,
          -0.2626228691567244,
          0.21569760756116546,
          0.2003173503490642,
          0.16379173212501147,
          0.03720322932334071,
          0.2537244124320336,
          0.04847987990450498,
          0.1203722567330529,
          0.025399680722601035,
          0.08265470364328066,
          -0.012655795741967419,
          0.03744766473933715,
          0.09505373012595225,
          -0.26635553443354587,
          0.27513653041314456,
          0.38345108445081977,
          -0.572271782751841,
          0.13214692641827977,
          -0.08857286851842823,
          -0.15518514539470393,
          0.1591504938212887,
          0.07395138762318193,
          0.20363508396851226,
          0.07000000137957374,
          -0.33948121640565776,
          0.07261249331892211,
          -0.040154891432473555,
          0.007574398195893269,
          0.04482393091944484,
          0.037648125843230476,
          -0.022309918637881034,
          -0.010772814188644368,
          0.043586890480954335,
          0.03761589581479331,
          -0.016220535980372704,
          0.1973013392715509,
          0.15175029063539153,
          0.19793870333693292,
          0.3870537961340666,
          0.15757797455988537
         ],
         "yaxis": "y"
        },
        {
         "customdata": [
          [
           -0.3313320323735528,
           "w",
           1982
          ],
          [
           -0.17892886328199933,
           "w",
           1983
          ],
          [
           0.6865587325737467,
           "w",
           1984
          ],
          [
           0.4675185474237414,
           "w",
           1985
          ],
          [
           0.5142429115665929,
           "w",
           1986
          ],
          [
           0.32823367641418955,
           "w",
           1987
          ],
          [
           -0.25225517194413904,
           "w",
           1988
          ],
          [
           0.47191233291323054,
           "w",
           1989
          ],
          [
           -0.24910106189822623,
           "w",
           1990
          ],
          [
           -0.3762607522394582,
           "w",
           1991
          ],
          [
           -0.09370923951601469,
           "w",
           1992
          ],
          [
           -0.11828260931935396,
           "w",
           1993
          ],
          [
           -1.164090207807923,
           "w",
           1994
          ],
          [
           0.20807112939629002,
           "w",
           1995
          ],
          [
           -2.7513390684583983,
           "w",
           1996
          ],
          [
           -0.3945746855816832,
           "w",
           1997
          ],
          [
           -0.18027466004078224,
           "w",
           1998
          ],
          [
           0.23898467029462694,
           "w",
           1999
          ],
          [
           0.1691236460987345,
           "w",
           2000
          ],
          [
           0.5032253678578704,
           "w",
           2001
          ],
          [
           -0.40478226195159805,
           "w",
           2002
          ],
          [
           0.1642365701614542,
           "w",
           2003
          ],
          [
           -0.011488110104982031,
           "w",
           2004
          ],
          [
           -0.18391387042672333,
           "w",
           2005
          ],
          [
           0.28052615093942807,
           "w",
           2006
          ],
          [
           -0.03858308722216131,
           "w",
           2007
          ],
          [
           -0.02479338124645007,
           "w",
           2008
          ],
          [
           0.41359701900174,
           "w",
           2009
          ],
          [
           0.1340562511839151,
           "w",
           2010
          ],
          [
           0.10357296082262235,
           "w",
           2011
          ],
          [
           0.6618216271658258,
           "w",
           2012
          ],
          [
           0.23049351034789173,
           "w",
           2013
          ],
          [
           -0.05041138215901663,
           "w",
           2014
          ],
          [
           -0.031287803327840286,
           "w",
           2015
          ],
          [
           -0.025083093331838145,
           "w",
           2016
          ],
          [
           -0.05622238552528509,
           "w",
           2017
          ],
          [
           0.4417793958590125,
           "w",
           2018
          ],
          [
           -0.055523683203168715,
           "w",
           2019
          ],
          [
           -0.01986968508434409,
           "w",
           2020
          ],
          [
           0.14275395451330905,
           "w",
           2021
          ],
          [
           -0.5341462022320215,
           "w",
           2022
          ],
          [
           0.17604130783355532,
           "w",
           2023
          ]
         ],
         "hovertemplate": "day=%{customdata[1]}<br>risk=%{x}<br>return=%{y}<br>sortino=%{customdata[0]}<br>year=%{customdata[2]}<extra></extra>",
         "legendgroup": "w",
         "marker": {
          "color": "#00cc96",
          "symbol": "circle"
         },
         "mode": "markers",
         "name": "w",
         "orientation": "v",
         "showlegend": true,
         "type": "scatter",
         "x": [
          0.48488190430078054,
          0.34020893203315294,
          0.19375027873718695,
          0.25641760604438524,
          0.45910186271037334,
          1.2596180871719214,
          1.1005252658224214,
          0.28103336622334446,
          0.6519936133452929,
          0.34491734813936625,
          0.29492533259478565,
          0.30691643176926925,
          0.22279856504490933,
          0.2714888575671862,
          0.21176223749701964,
          0.5841973025453525,
          0.7387082111038602,
          0.6904555947515091,
          0.5650766525456014,
          0.5412598013293662,
          0.922712652416201,
          0.6287468454299963,
          0.34719541310118024,
          0.4460787739440246,
          0.2635830833283391,
          0.9762993039784158,
          1.086705745921507,
          0.9850261250009311,
          0.5545048655607439,
          1.5105848805604356,
          0.28882113227442247,
          0.38599186671831526,
          0.7473690229722068,
          0.4575470581860826,
          0.3202024973582326,
          0.32394900106548746,
          0.15566469418135623,
          0.4268953570618741,
          0.8517771134203573,
          0.61737550308603,
          0.6878156232090532,
          0.6869324888935853
         ],
         "xaxis": "x",
         "y": [
          -0.16065690681313616,
          -0.06087319748707502,
          0.13302094580561322,
          0.11987998671174416,
          0.23608987858582858,
          0.41344907563024885,
          -0.27761319015890423,
          0.13262311148091677,
          -0.162412301435174,
          -0.12977886087135704,
          -0.027637228631465064,
          -0.03630287639265463,
          -0.25935762788243555,
          0.05648899321251295,
          -0.5826297172497161,
          -0.23050946696949992,
          -0.1331703716260828,
          0.16500830266476996,
          0.09556782380377984,
          0.27237566263064816,
          -0.37349771457638853,
          0.10326322539325658,
          -0.0039886191336510795,
          -0.08204007383125295,
          0.0739419478188455,
          -0.0376686412003346,
          -0.026943109861339826,
          0.4074038689392204,
          0.07433484354031415,
          0.15645574865353165,
          0.19114807172173448,
          0.08896862032564004,
          -0.03767590543086279,
          -0.014315642369758047,
          -0.008031669126324205,
          -0.01821318562843483,
          0.0687694545520175,
          -0.02370280256640709,
          -0.016924543005714138,
          0.08813279448517441,
          -0.3673941029729668,
          0.12092849373818597
         ],
         "yaxis": "y"
        },
        {
         "customdata": [
          [
           0.20316132290002997,
           "th",
           1982
          ],
          [
           0.21455822569842056,
           "th",
           1983
          ],
          [
           -0.16291673949516777,
           "th",
           1984
          ],
          [
           0.8264606110808782,
           "th",
           1985
          ],
          [
           0.19869762205303207,
           "th",
           1986
          ],
          [
           0.29126776065408727,
           "th",
           1987
          ],
          [
           0.06320139751460026,
           "th",
           1988
          ],
          [
           0.5722879128562123,
           "th",
           1989
          ],
          [
           0.3011310602717953,
           "th",
           1990
          ],
          [
           0.25527699349864497,
           "th",
           1991
          ],
          [
           -0.3078291785972519,
           "th",
           1992
          ],
          [
           -0.0006554557921345143,
           "th",
           1993
          ],
          [
           0.12423024686787085,
           "th",
           1994
          ],
          [
           0.636408180258499,
           "th",
           1995
          ],
          [
           0.18522925391327147,
           "th",
           1996
          ],
          [
           0.4071940494099147,
           "th",
           1997
          ],
          [
           0.3704410485691612,
           "th",
           1998
          ],
          [
           0.3915913446613223,
           "th",
           1999
          ],
          [
           -0.01999324273135177,
           "th",
           2000
          ],
          [
           -0.5518097359609125,
           "th",
           2001
          ],
          [
           -0.34385650691669917,
           "th",
           2002
          ],
          [
           -0.2237228075220345,
           "th",
           2003
          ],
          [
           0.2724572443740335,
           "th",
           2004
          ],
          [
           0.08715794974854131,
           "th",
           2005
          ],
          [
           -0.08333709622121653,
           "th",
           2006
          ],
          [
           0.048581251021906004,
           "th",
           2007
          ],
          [
           0.04282351055485015,
           "th",
           2008
          ],
          [
           0.12441432329439552,
           "th",
           2009
          ],
          [
           0.1667066220431868,
           "th",
           2010
          ],
          [
           0.3022607641463397,
           "th",
           2011
          ],
          [
           0.04295955532372995,
           "th",
           2012
          ],
          [
           0.6688811767999043,
           "th",
           2013
          ],
          [
           0.3649943124103143,
           "th",
           2014
          ],
          [
           -0.2066364563191614,
           "th",
           2015
          ],
          [
           -0.252034003807876,
           "th",
           2016
          ],
          [
           0.4515534660170014,
           "th",
           2017
          ],
          [
           -0.07497720634074281,
           "th",
           2018
          ],
          [
           0.3951485543992446,
           "th",
           2019
          ],
          [
           0.012601959025201559,
           "th",
           2020
          ],
          [
           0.3464150257365924,
           "th",
           2021
          ],
          [
           -0.023566372288224016,
           "th",
           2022
          ],
          [
           -0.08553240166082521,
           "th",
           2023
          ]
         ],
         "hovertemplate": "day=%{customdata[1]}<br>risk=%{x}<br>return=%{y}<br>sortino=%{customdata[0]}<br>year=%{customdata[2]}<extra></extra>",
         "legendgroup": "th",
         "marker": {
          "color": "#ab63fa",
          "symbol": "circle"
         },
         "mode": "markers",
         "name": "th",
         "orientation": "v",
         "showlegend": true,
         "type": "scatter",
         "x": [
          0.5758894816277482,
          0.5248571051615496,
          0.43820910368200783,
          0.219488837300281,
          0.4471622455426112,
          0.7173407171575521,
          1.9450918396170656,
          0.8859960815112073,
          0.6477354996883613,
          0.6178598643294541,
          0.3619524681004588,
          0.39093552192677944,
          0.4094687911639551,
          0.2769140850498047,
          0.9587645111248115,
          0.9436602648651313,
          0.6388089041206247,
          0.7941494680881226,
          0.8728807052065765,
          0.7300032853786532,
          0.9320919905540265,
          0.6813449035266622,
          0.4302302705219005,
          0.28002540617266314,
          0.4666178704600974,
          0.9055116798316374,
          0.9376598425761548,
          0.8317117481400318,
          1.0283273515458207,
          0.648495019563355,
          0.37828106300183284,
          0.31648035839793204,
          0.4002305904948162,
          0.5066299544949098,
          0.8981404197612814,
          0.19064389985699026,
          0.64241594371576,
          0.4713755168474306,
          1.2798463471148396,
          0.5602438473875635,
          1.1231053601720637,
          0.37839001905622155
         ],
         "xaxis": "x",
         "y": [
          0.11699846893170583,
          0.11261240922867141,
          -0.07139159838897263,
          0.18139887860062168,
          0.08885007486121088,
          0.20893822431247722,
          0.12293252255804324,
          0.5070448482868314,
          0.1950532777968374,
          0.1577254085695037,
          -0.11141953094661225,
          -0.000256240952198037,
          0.0508684090109868,
          0.17623038895449342,
          0.1775912350741713,
          0.3842528445176655,
          0.236641040277761,
          0.3109820580707018,
          -0.017451715814708592,
          -0.4028229201553933,
          -0.3205058959969405,
          -0.1524323947078146,
          0.11721935395269198,
          0.024406440279511842,
          -0.038886578369072285,
          0.04399089022116855,
          0.04015388616541909,
          0.10347685432084078,
          0.1714289791308204,
          0.19601460015831518,
          0.016250786253946613,
          0.21168775455926425,
          0.1460818891832295,
          -0.10468821846196615,
          -0.22636192597412216,
          0.08608591375542207,
          -0.048166552768559565,
          0.186263354061459,
          0.0161285712248951,
          0.19407688681153035,
          -0.026467519036714775,
          -0.03236460709436405
         ],
         "yaxis": "y"
        },
        {
         "customdata": [
          [
           -0.8828500396778866,
           "f",
           1982
          ],
          [
           0.4107829396964995,
           "f",
           1983
          ],
          [
           -0.045599529577897105,
           "f",
           1984
          ],
          [
           -0.1880034922991794,
           "f",
           1985
          ],
          [
           -0.12952598963913578,
           "f",
           1986
          ],
          [
           1.5232224151433216,
           "f",
           1987
          ],
          [
           0.22628296746791632,
           "f",
           1988
          ],
          [
           0.2972958352237196,
           "f",
           1989
          ],
          [
           0.7027783853752607,
           "f",
           1990
          ],
          [
           -0.3005533268409811,
           "f",
           1991
          ],
          [
           0.5485871913887096,
           "f",
           1992
          ],
          [
           1.273356591981817,
           "f",
           1993
          ],
          [
           0.7055845737204747,
           "f",
           1994
          ],
          [
           0.5907456339106464,
           "f",
           1995
          ],
          [
           0.34132187116318563,
           "f",
           1996
          ],
          [
           0.24383291105915447,
           "f",
           1997
          ],
          [
           0.14759752508773305,
           "f",
           1998
          ],
          [
           -0.4204729985609707,
           "f",
           1999
          ],
          [
           0.6936036670973353,
           "f",
           2000
          ],
          [
           -0.09109763793626936,
           "f",
           2001
          ],
          [
           -0.0488303128941496,
           "f",
           2002
          ],
          [
           0.11309242210592027,
           "f",
           2003
          ],
          [
           -0.13989292579497167,
           "f",
           2004
          ],
          [
           -0.07541794749254163,
           "f",
           2005
          ],
          [
           -0.09905774016715217,
           "f",
           2006
          ],
          [
           -0.17043949190242252,
           "f",
           2007
          ],
          [
           -0.21386192902422932,
           "f",
           2008
          ],
          [
           0.03561815171350704,
           "f",
           2009
          ],
          [
           -0.04824831292190975,
           "f",
           2010
          ],
          [
           -0.47658987594760005,
           "f",
           2011
          ],
          [
           0.01324362195807654,
           "f",
           2012
          ],
          [
           0.06955122694002985,
           "f",
           2013
          ],
          [
           0.23026222593631265,
           "f",
           2014
          ],
          [
           -0.5912575986290547,
           "f",
           2015
          ],
          [
           -0.1648167504327884,
           "f",
           2016
          ],
          [
           -0.04373494139349244,
           "f",
           2017
          ],
          [
           0.1793055520021325,
           "f",
           2018
          ],
          [
           0.0406085024419758,
           "f",
           2019
          ],
          [
           0.2269339119449189,
           "f",
           2020
          ],
          [
           0.14000031751714834,
           "f",
           2021
          ],
          [
           -0.16889349796742847,
           "f",
           2022
          ],
          [
           0.3309742375119629,
           "f",
           2023
          ]
         ],
         "hovertemplate": "day=%{customdata[1]}<br>risk=%{x}<br>return=%{y}<br>sortino=%{customdata[0]}<br>year=%{customdata[2]}<extra></extra>",
         "legendgroup": "f",
         "marker": {
          "color": "#FFA15A",
          "symbol": "circle"
         },
         "mode": "markers",
         "name": "f",
         "orientation": "v",
         "showlegend": true,
         "type": "scatter",
         "x": [
          0.42718590953009056,
          0.5922108037654179,
          0.4231281263242998,
          0.4107383110875919,
          0.6758521690131424,
          0.30543412007033044,
          0.28606374635849435,
          0.43403639961572693,
          0.8257642240855053,
          0.4408890732036633,
          0.17284393215909835,
          0.10936224025723597,
          0.13286541878202351,
          0.24344031516741643,
          0.7685143326690881,
          0.7605747626749445,
          0.8890098027749866,
          0.29498570645212413,
          0.37983540502624774,
          0.7067485484742558,
          0.7343509554321863,
          1.0866316260359,
          0.3847172771009282,
          0.28304005854467285,
          0.48275197885618726,
          0.6254496890506419,
          2.5934273037301683,
          1.272981291294862,
          0.39785586408528767,
          0.6936251249078926,
          0.4933655519620376,
          0.5007053319936814,
          0.3804113772698897,
          0.2573470361285091,
          0.40341998525056433,
          0.12884493020309584,
          0.48741622512735316,
          0.28217466696359667,
          1.7004346588461285,
          0.3812133595694079,
          0.45051258041710085,
          0.2728338483742743
         ],
         "xaxis": "x",
         "y": [
          -0.3771410971784745,
          0.24327009489078516,
          -0.01929444351156509,
          -0.07722023690553403,
          -0.08754042104118373,
          0.465244098040704,
          0.06473135341098944,
          0.12903721394125367,
          0.5803292481034664,
          -0.13251067771919786,
          0.09481996729174043,
          0.13925712954545066,
          0.0937477898735064,
          0.14381130330298297,
          0.26231075004234006,
          0.18545315846115726,
          0.1312156466683217,
          -0.12403352452455091,
          0.26345522981960706,
          -0.06438312338089168,
          -0.03585858692787137,
          0.1228898025252945,
          -0.0538192254975237,
          -0.021346300273608045,
          -0.04782032008671474,
          -0.10660132721231957,
          -0.5546353659598396,
          0.045341240761796485,
          -0.019195874228203756,
          -0.33057471223399115,
          0.0065339468573229935,
          0.03482467017557552,
          0.08759437050166322,
          -0.15215839059564687,
          -0.06649037102864144,
          -0.00563502547128102,
          0.08739643530125574,
          0.011458690652454924,
          0.38588628913867556,
          0.05336999138149594,
          -0.07608864558497658,
          0.09030097493312995
         ],
         "yaxis": "y"
        }
       ],
       "layout": {
        "legend": {
         "title": {
          "text": "day"
         },
         "tracegroupgap": 0
        },
        "template": {
         "data": {
          "bar": [
           {
            "error_x": {
             "color": "#2a3f5f"
            },
            "error_y": {
             "color": "#2a3f5f"
            },
            "marker": {
             "line": {
              "color": "#E5ECF6",
              "width": 0.5
             },
             "pattern": {
              "fillmode": "overlay",
              "size": 10,
              "solidity": 0.2
             }
            },
            "type": "bar"
           }
          ],
          "barpolar": [
           {
            "marker": {
             "line": {
              "color": "#E5ECF6",
              "width": 0.5
             },
             "pattern": {
              "fillmode": "overlay",
              "size": 10,
              "solidity": 0.2
             }
            },
            "type": "barpolar"
           }
          ],
          "carpet": [
           {
            "aaxis": {
             "endlinecolor": "#2a3f5f",
             "gridcolor": "white",
             "linecolor": "white",
             "minorgridcolor": "white",
             "startlinecolor": "#2a3f5f"
            },
            "baxis": {
             "endlinecolor": "#2a3f5f",
             "gridcolor": "white",
             "linecolor": "white",
             "minorgridcolor": "white",
             "startlinecolor": "#2a3f5f"
            },
            "type": "carpet"
           }
          ],
          "choropleth": [
           {
            "colorbar": {
             "outlinewidth": 0,
             "ticks": ""
            },
            "type": "choropleth"
           }
          ],
          "contour": [
           {
            "colorbar": {
             "outlinewidth": 0,
             "ticks": ""
            },
            "colorscale": [
             [
              0,
              "#0d0887"
             ],
             [
              0.1111111111111111,
              "#46039f"
             ],
             [
              0.2222222222222222,
              "#7201a8"
             ],
             [
              0.3333333333333333,
              "#9c179e"
             ],
             [
              0.4444444444444444,
              "#bd3786"
             ],
             [
              0.5555555555555556,
              "#d8576b"
             ],
             [
              0.6666666666666666,
              "#ed7953"
             ],
             [
              0.7777777777777778,
              "#fb9f3a"
             ],
             [
              0.8888888888888888,
              "#fdca26"
             ],
             [
              1,
              "#f0f921"
             ]
            ],
            "type": "contour"
           }
          ],
          "contourcarpet": [
           {
            "colorbar": {
             "outlinewidth": 0,
             "ticks": ""
            },
            "type": "contourcarpet"
           }
          ],
          "heatmap": [
           {
            "colorbar": {
             "outlinewidth": 0,
             "ticks": ""
            },
            "colorscale": [
             [
              0,
              "#0d0887"
             ],
             [
              0.1111111111111111,
              "#46039f"
             ],
             [
              0.2222222222222222,
              "#7201a8"
             ],
             [
              0.3333333333333333,
              "#9c179e"
             ],
             [
              0.4444444444444444,
              "#bd3786"
             ],
             [
              0.5555555555555556,
              "#d8576b"
             ],
             [
              0.6666666666666666,
              "#ed7953"
             ],
             [
              0.7777777777777778,
              "#fb9f3a"
             ],
             [
              0.8888888888888888,
              "#fdca26"
             ],
             [
              1,
              "#f0f921"
             ]
            ],
            "type": "heatmap"
           }
          ],
          "heatmapgl": [
           {
            "colorbar": {
             "outlinewidth": 0,
             "ticks": ""
            },
            "colorscale": [
             [
              0,
              "#0d0887"
             ],
             [
              0.1111111111111111,
              "#46039f"
             ],
             [
              0.2222222222222222,
              "#7201a8"
             ],
             [
              0.3333333333333333,
              "#9c179e"
             ],
             [
              0.4444444444444444,
              "#bd3786"
             ],
             [
              0.5555555555555556,
              "#d8576b"
             ],
             [
              0.6666666666666666,
              "#ed7953"
             ],
             [
              0.7777777777777778,
              "#fb9f3a"
             ],
             [
              0.8888888888888888,
              "#fdca26"
             ],
             [
              1,
              "#f0f921"
             ]
            ],
            "type": "heatmapgl"
           }
          ],
          "histogram": [
           {
            "marker": {
             "pattern": {
              "fillmode": "overlay",
              "size": 10,
              "solidity": 0.2
             }
            },
            "type": "histogram"
           }
          ],
          "histogram2d": [
           {
            "colorbar": {
             "outlinewidth": 0,
             "ticks": ""
            },
            "colorscale": [
             [
              0,
              "#0d0887"
             ],
             [
              0.1111111111111111,
              "#46039f"
             ],
             [
              0.2222222222222222,
              "#7201a8"
             ],
             [
              0.3333333333333333,
              "#9c179e"
             ],
             [
              0.4444444444444444,
              "#bd3786"
             ],
             [
              0.5555555555555556,
              "#d8576b"
             ],
             [
              0.6666666666666666,
              "#ed7953"
             ],
             [
              0.7777777777777778,
              "#fb9f3a"
             ],
             [
              0.8888888888888888,
              "#fdca26"
             ],
             [
              1,
              "#f0f921"
             ]
            ],
            "type": "histogram2d"
           }
          ],
          "histogram2dcontour": [
           {
            "colorbar": {
             "outlinewidth": 0,
             "ticks": ""
            },
            "colorscale": [
             [
              0,
              "#0d0887"
             ],
             [
              0.1111111111111111,
              "#46039f"
             ],
             [
              0.2222222222222222,
              "#7201a8"
             ],
             [
              0.3333333333333333,
              "#9c179e"
             ],
             [
              0.4444444444444444,
              "#bd3786"
             ],
             [
              0.5555555555555556,
              "#d8576b"
             ],
             [
              0.6666666666666666,
              "#ed7953"
             ],
             [
              0.7777777777777778,
              "#fb9f3a"
             ],
             [
              0.8888888888888888,
              "#fdca26"
             ],
             [
              1,
              "#f0f921"
             ]
            ],
            "type": "histogram2dcontour"
           }
          ],
          "mesh3d": [
           {
            "colorbar": {
             "outlinewidth": 0,
             "ticks": ""
            },
            "type": "mesh3d"
           }
          ],
          "parcoords": [
           {
            "line": {
             "colorbar": {
              "outlinewidth": 0,
              "ticks": ""
             }
            },
            "type": "parcoords"
           }
          ],
          "pie": [
           {
            "automargin": true,
            "type": "pie"
           }
          ],
          "scatter": [
           {
            "fillpattern": {
             "fillmode": "overlay",
             "size": 10,
             "solidity": 0.2
            },
            "type": "scatter"
           }
          ],
          "scatter3d": [
           {
            "line": {
             "colorbar": {
              "outlinewidth": 0,
              "ticks": ""
             }
            },
            "marker": {
             "colorbar": {
              "outlinewidth": 0,
              "ticks": ""
             }
            },
            "type": "scatter3d"
           }
          ],
          "scattercarpet": [
           {
            "marker": {
             "colorbar": {
              "outlinewidth": 0,
              "ticks": ""
             }
            },
            "type": "scattercarpet"
           }
          ],
          "scattergeo": [
           {
            "marker": {
             "colorbar": {
              "outlinewidth": 0,
              "ticks": ""
             }
            },
            "type": "scattergeo"
           }
          ],
          "scattergl": [
           {
            "marker": {
             "colorbar": {
              "outlinewidth": 0,
              "ticks": ""
             }
            },
            "type": "scattergl"
           }
          ],
          "scattermapbox": [
           {
            "marker": {
             "colorbar": {
              "outlinewidth": 0,
              "ticks": ""
             }
            },
            "type": "scattermapbox"
           }
          ],
          "scatterpolar": [
           {
            "marker": {
             "colorbar": {
              "outlinewidth": 0,
              "ticks": ""
             }
            },
            "type": "scatterpolar"
           }
          ],
          "scatterpolargl": [
           {
            "marker": {
             "colorbar": {
              "outlinewidth": 0,
              "ticks": ""
             }
            },
            "type": "scatterpolargl"
           }
          ],
          "scatterternary": [
           {
            "marker": {
             "colorbar": {
              "outlinewidth": 0,
              "ticks": ""
             }
            },
            "type": "scatterternary"
           }
          ],
          "surface": [
           {
            "colorbar": {
             "outlinewidth": 0,
             "ticks": ""
            },
            "colorscale": [
             [
              0,
              "#0d0887"
             ],
             [
              0.1111111111111111,
              "#46039f"
             ],
             [
              0.2222222222222222,
              "#7201a8"
             ],
             [
              0.3333333333333333,
              "#9c179e"
             ],
             [
              0.4444444444444444,
              "#bd3786"
             ],
             [
              0.5555555555555556,
              "#d8576b"
             ],
             [
              0.6666666666666666,
              "#ed7953"
             ],
             [
              0.7777777777777778,
              "#fb9f3a"
             ],
             [
              0.8888888888888888,
              "#fdca26"
             ],
             [
              1,
              "#f0f921"
             ]
            ],
            "type": "surface"
           }
          ],
          "table": [
           {
            "cells": {
             "fill": {
              "color": "#EBF0F8"
             },
             "line": {
              "color": "white"
             }
            },
            "header": {
             "fill": {
              "color": "#C8D4E3"
             },
             "line": {
              "color": "white"
             }
            },
            "type": "table"
           }
          ]
         },
         "layout": {
          "annotationdefaults": {
           "arrowcolor": "#2a3f5f",
           "arrowhead": 0,
           "arrowwidth": 1
          },
          "autotypenumbers": "strict",
          "coloraxis": {
           "colorbar": {
            "outlinewidth": 0,
            "ticks": ""
           }
          },
          "colorscale": {
           "diverging": [
            [
             0,
             "#8e0152"
            ],
            [
             0.1,
             "#c51b7d"
            ],
            [
             0.2,
             "#de77ae"
            ],
            [
             0.3,
             "#f1b6da"
            ],
            [
             0.4,
             "#fde0ef"
            ],
            [
             0.5,
             "#f7f7f7"
            ],
            [
             0.6,
             "#e6f5d0"
            ],
            [
             0.7,
             "#b8e186"
            ],
            [
             0.8,
             "#7fbc41"
            ],
            [
             0.9,
             "#4d9221"
            ],
            [
             1,
             "#276419"
            ]
           ],
           "sequential": [
            [
             0,
             "#0d0887"
            ],
            [
             0.1111111111111111,
             "#46039f"
            ],
            [
             0.2222222222222222,
             "#7201a8"
            ],
            [
             0.3333333333333333,
             "#9c179e"
            ],
            [
             0.4444444444444444,
             "#bd3786"
            ],
            [
             0.5555555555555556,
             "#d8576b"
            ],
            [
             0.6666666666666666,
             "#ed7953"
            ],
            [
             0.7777777777777778,
             "#fb9f3a"
            ],
            [
             0.8888888888888888,
             "#fdca26"
            ],
            [
             1,
             "#f0f921"
            ]
           ],
           "sequentialminus": [
            [
             0,
             "#0d0887"
            ],
            [
             0.1111111111111111,
             "#46039f"
            ],
            [
             0.2222222222222222,
             "#7201a8"
            ],
            [
             0.3333333333333333,
             "#9c179e"
            ],
            [
             0.4444444444444444,
             "#bd3786"
            ],
            [
             0.5555555555555556,
             "#d8576b"
            ],
            [
             0.6666666666666666,
             "#ed7953"
            ],
            [
             0.7777777777777778,
             "#fb9f3a"
            ],
            [
             0.8888888888888888,
             "#fdca26"
            ],
            [
             1,
             "#f0f921"
            ]
           ]
          },
          "colorway": [
           "#636efa",
           "#EF553B",
           "#00cc96",
           "#ab63fa",
           "#FFA15A",
           "#19d3f3",
           "#FF6692",
           "#B6E880",
           "#FF97FF",
           "#FECB52"
          ],
          "font": {
           "color": "#2a3f5f"
          },
          "geo": {
           "bgcolor": "white",
           "lakecolor": "white",
           "landcolor": "#E5ECF6",
           "showlakes": true,
           "showland": true,
           "subunitcolor": "white"
          },
          "hoverlabel": {
           "align": "left"
          },
          "hovermode": "closest",
          "mapbox": {
           "style": "light"
          },
          "paper_bgcolor": "white",
          "plot_bgcolor": "#E5ECF6",
          "polar": {
           "angularaxis": {
            "gridcolor": "white",
            "linecolor": "white",
            "ticks": ""
           },
           "bgcolor": "#E5ECF6",
           "radialaxis": {
            "gridcolor": "white",
            "linecolor": "white",
            "ticks": ""
           }
          },
          "scene": {
           "xaxis": {
            "backgroundcolor": "#E5ECF6",
            "gridcolor": "white",
            "gridwidth": 2,
            "linecolor": "white",
            "showbackground": true,
            "ticks": "",
            "zerolinecolor": "white"
           },
           "yaxis": {
            "backgroundcolor": "#E5ECF6",
            "gridcolor": "white",
            "gridwidth": 2,
            "linecolor": "white",
            "showbackground": true,
            "ticks": "",
            "zerolinecolor": "white"
           },
           "zaxis": {
            "backgroundcolor": "#E5ECF6",
            "gridcolor": "white",
            "gridwidth": 2,
            "linecolor": "white",
            "showbackground": true,
            "ticks": "",
            "zerolinecolor": "white"
           }
          },
          "shapedefaults": {
           "line": {
            "color": "#2a3f5f"
           }
          },
          "ternary": {
           "aaxis": {
            "gridcolor": "white",
            "linecolor": "white",
            "ticks": ""
           },
           "baxis": {
            "gridcolor": "white",
            "linecolor": "white",
            "ticks": ""
           },
           "bgcolor": "#E5ECF6",
           "caxis": {
            "gridcolor": "white",
            "linecolor": "white",
            "ticks": ""
           }
          },
          "title": {
           "x": 0.05
          },
          "xaxis": {
           "automargin": true,
           "gridcolor": "white",
           "linecolor": "white",
           "ticks": "",
           "title": {
            "standoff": 15
           },
           "zerolinecolor": "white",
           "zerolinewidth": 2
          },
          "yaxis": {
           "automargin": true,
           "gridcolor": "white",
           "linecolor": "white",
           "ticks": "",
           "title": {
            "standoff": 15
           },
           "zerolinecolor": "white",
           "zerolinewidth": 2
          }
         }
        },
        "title": {
         "text": "Risk-Reward Values from 1982 - 2023 given a Positive Trend"
        },
        "xaxis": {
         "anchor": "y",
         "domain": [
          0,
          1
         ],
         "title": {
          "text": "risk"
         }
        },
        "yaxis": {
         "anchor": "x",
         "domain": [
          0,
          1
         ],
         "title": {
          "text": "return"
         }
        }
       }
      }
     },
     "metadata": {},
     "output_type": "display_data"
    }
   ],
   "source": [
    "#plot positive risk-return data\n",
    "fig = px.scatter(positive_risk_return_melt, x = 'risk', y='return', \n",
    "                 color='day', hover_data=['risk', 'return', 'sortino','day','year'],\n",
    "                 title = 'Risk-Reward Values from 1982 - 2023 given a Positive Trend')\n",
    "fig.show()"
   ]
  },
  {
   "cell_type": "code",
   "execution_count": 194,
   "id": "99544e63-c877-496d-b78d-53288b025bb7",
   "metadata": {},
   "outputs": [
    {
     "name": "stdout",
     "output_type": "stream",
     "text": [
      "             m_m       t_m       w_m      th_m       f_m\n",
      "median -0.005081  0.059240 -0.011174  0.096163  0.023142\n",
      "std     0.197385  0.183127  0.196887  0.171780  0.203163\n"
     ]
    }
   ],
   "source": [
    "print(return_.drop(columns='index').agg(['median','std']))"
   ]
  },
  {
   "cell_type": "markdown",
   "id": "44fdbad7-863a-4180-a3f0-ecccadda1d9a",
   "metadata": {},
   "source": [
    "When positive trends have been set by the day before, Friday boasts the highest return of 58 basis points set back in 1990. However, Thursday takes the win with the highest mean and median averages. This is followed by Tuesday, Friday, Monday and finally Wednesday."
   ]
  },
  {
   "cell_type": "code",
   "execution_count": 195,
   "id": "71388428-306c-43a5-82a7-c8554026ce5b",
   "metadata": {},
   "outputs": [
    {
     "name": "stdout",
     "output_type": "stream",
     "text": [
      "           m_std     t_std     w_std    th_std     f_std\n",
      "median  0.459781  0.510709  0.471992  0.628334  0.430611\n",
      "std     0.241595  0.328360  0.315809  0.332458  0.448025\n"
     ]
    }
   ],
   "source": [
    "print(risk.drop(columns='index').agg(['median','std']))"
   ]
  },
  {
   "cell_type": "markdown",
   "id": "c4558e52-82ba-4c1d-910a-630fa66a4330",
   "metadata": {},
   "source": [
    "The least risky data point also goes to Friday which also takes the median average. Monday, Wednesday, Tuesday and Thursday follow."
   ]
  },
  {
   "cell_type": "code",
   "execution_count": 196,
   "id": "430a2cab-8535-49d5-9074-86e5ccc7d5a0",
   "metadata": {},
   "outputs": [
    {
     "name": "stdout",
     "output_type": "stream",
     "text": [
      "            m_sr      t_sr      w_sr     th_sr      f_sr\n",
      "median -0.010953  0.126332 -0.022332  0.145560  0.038113\n",
      "std     0.422711  0.364609  0.556940  0.289303  0.446387\n"
     ]
    }
   ],
   "source": [
    "print(sortino.drop(columns='index').agg(['median','std']))"
   ]
  },
  {
   "cell_type": "markdown",
   "id": "659c5cbf-a409-4eed-968a-7be06eb1f77e",
   "metadata": {},
   "source": [
    "The difference between risk values isn't enough for Friday to win this category. When a positive trend exists, Thursday produces the best return at a lower risk than any other day. Tuesday, Friday, Monday and finally Wednesday follow. The last two on average produce negative returns after a positive trend has been set."
   ]
  },
  {
   "cell_type": "markdown",
   "id": "cba9f286-2a4a-4901-bc61-e549f958e8f7",
   "metadata": {},
   "source": [
    "### Negative Trends"
   ]
  },
  {
   "cell_type": "code",
   "execution_count": 197,
   "id": "3195c039-8af6-4121-88e5-0876a6e8c4dc",
   "metadata": {},
   "outputs": [],
   "source": [
    "#create three columns for each day with their median return, standard deviations and sortino ratios\n",
    "columns = ['m_m','t_m','w_m','th_m','f_m','m_std','t_std','w_std','th_std','f_std','m_sr','t_sr','w_sr','th_sr','f_sr']\n",
    "\n",
    "#save risk_return\n",
    "negative_risk_return = pd.DataFrame(index=df1['year'].unique(),columns=columns)\n",
    "\n",
    "#change year dtype from date-time to integer to allow for loop\n",
    "df1['year'] = df1['year'].astype(int)"
   ]
  },
  {
   "cell_type": "code",
   "execution_count": 198,
   "id": "1ff769bd-6658-473a-9117-1e208fb1206a",
   "metadata": {},
   "outputs": [],
   "source": [
    "#Create loop using trend columns in trend\n",
    "for column in df1.iloc[:,7:12]:\n",
    "    \n",
    "    #keep data where positive values of the given column \n",
    "    column_negative = (df1[df1[column] == 'negative'])\n",
    "    \n",
    "    #Isolate columns to avoid nan values, reset index to allow for merge\n",
    "    a = pd.DataFrame(column_negative[column_negative.columns[(column_negative.columns.get_loc(column) - 6)]]).reset_index()\n",
    "    b = pd.DataFrame(column_negative[column_negative.columns[(column_negative.columns.get_loc(column) - 7)]]).reset_index()\n",
    "    c = pd.DataFrame(column_negative[column_negative.columns[(column_negative.columns.get_loc(column) + 1 )]]).reset_index()\n",
    "    d = a.merge(b, how = 'inner').merge(c, how = 'inner').dropna()\n",
    "    \n",
    "    #extract year from week column\n",
    "    d[['year','x']] = d['week'].str.split('-', expand = True)\n",
    "    \n",
    "    #change year dtype from date-time to integer to allow for loop\n",
    "    d['year'] = d['year'].astype(int)\n",
    "                            \n",
    "    #drop x column\n",
    "    d.drop(columns='x', inplace = True)\n",
    "    \n",
    "    for i in range(len(d['year'].unique())):\n",
    "    \n",
    "        e = d[d['year'] == (d['year'].unique()[0] + i)]\n",
    "        \n",
    "        #find downside standard deviation by selecting negative returns of next day\n",
    "        f = e[e.iloc[:,3] == 'negative']\n",
    "        \n",
    "        negative_risk_return.iloc[i ,(column_positive.columns.get_loc(column) - 7)] = e.iloc[:,1].median()\n",
    "        negative_risk_return.iloc[i,(column_positive.columns.get_loc(column)-2)] = f.iloc[:,1].std()\n",
    "        negative_risk_return.iloc[i,(column_positive.columns.get_loc(column) + 3)] = e.iloc[:,1].median() / f.iloc[:,1].std()"
   ]
  },
  {
   "cell_type": "code",
   "execution_count": 199,
   "id": "4486fbdb-2ef2-46f1-8496-f2ffe40e9bf7",
   "metadata": {},
   "outputs": [],
   "source": [
    "#create dataframes for risk, return and sortino ratios\n",
    "risk = negative_risk_return[['m_std','t_std','w_std','th_std','f_std']]\n",
    "return_ = negative_risk_return[['m_m','t_m','w_m','th_m','f_m']]\n",
    "sortino = negative_risk_return[['m_sr','t_sr','w_sr','th_sr','f_sr']]"
   ]
  },
  {
   "cell_type": "code",
   "execution_count": 200,
   "id": "f163b223-2657-4d59-afac-3145c04360ab",
   "metadata": {},
   "outputs": [
    {
     "name": "stdout",
     "output_type": "stream",
     "text": [
      "            m_sr      t_sr      w_sr     th_sr      f_sr\n",
      "min    -1.274552 -1.538168 -0.764499 -4.804148 -1.247182\n",
      "max     1.783139  1.184577  1.230215  1.641775  3.693863\n",
      "mean    0.379443  0.141150  0.118646 -0.044917  0.177075\n",
      "median  0.271928  0.153505  0.129058  0.038758  0.079288\n",
      "std     0.633565  0.514120  0.386864  0.918709  0.703409\n"
     ]
    }
   ],
   "source": [
    "print(sortino.agg(['min', 'max','mean','median','std']))"
   ]
  },
  {
   "cell_type": "code",
   "execution_count": 201,
   "id": "d3e396b8-b89f-44a0-b487-998ae72bdaec",
   "metadata": {},
   "outputs": [],
   "source": [
    "#reset indexes\n",
    "risk.reset_index(inplace=True)\n",
    "return_.reset_index(inplace=True)\n",
    "sortino.reset_index(inplace=True)"
   ]
  },
  {
   "cell_type": "code",
   "execution_count": 202,
   "id": "b685f3e2-23a1-4fed-b9a6-491cbfd98913",
   "metadata": {},
   "outputs": [],
   "source": [
    "#melt return, risk and sortino dataframes\n",
    "risk_melt = risk.melt(id_vars='index', var_name='day', value_name='risk')\n",
    "return_melt = return_.melt(id_vars='index', var_name='day', value_name='return')\n",
    "sortino_melt = sortino.melt(id_vars='index', var_name='day', value_name='sortino')"
   ]
  },
  {
   "cell_type": "code",
   "execution_count": 203,
   "id": "e48889e2-5ccc-4257-830b-7291ec078f22",
   "metadata": {},
   "outputs": [],
   "source": [
    "#create risk_return_melt dataframe\n",
    "negative_risk_return_melt = pd.DataFrame()\n",
    "\n",
    "#save appropriate columns from previous melts\n",
    "negative_risk_return_melt['year'] = risk_melt['index']\n",
    "negative_risk_return_melt['day'] = risk_melt['day'].str.replace('_std','')\n",
    "negative_risk_return_melt['risk'] = risk_melt['risk']\n",
    "negative_risk_return_melt['return'] = return_melt['return']\n",
    "negative_risk_return_melt['sortino'] = sortino_melt['sortino']"
   ]
  },
  {
   "cell_type": "code",
   "execution_count": 204,
   "id": "d7be34f8-68eb-4de9-a0cb-65a016bd6742",
   "metadata": {},
   "outputs": [
    {
     "data": {
      "application/vnd.plotly.v1+json": {
       "config": {
        "plotlyServerURL": "https://plot.ly"
       },
       "data": [
        {
         "customdata": [
          [
           1.0800022588000022,
           "m",
           1982
          ],
          [
           0.4540694564136133,
           "m",
           1983
          ],
          [
           1.0959637037346712,
           "m",
           1984
          ],
          [
           0.39771926651869843,
           "m",
           1985
          ],
          [
           -0.2547762017297351,
           "m",
           1986
          ],
          [
           0.9326486183390342,
           "m",
           1987
          ],
          [
           0.6308928433270328,
           "m",
           1988
          ],
          [
           1.2124822800227315,
           "m",
           1989
          ],
          [
           1.3782392376963395,
           "m",
           1990
          ],
          [
           -0.19343032757912895,
           "m",
           1991
          ],
          [
           -0.0030090522875217606,
           "m",
           1992
          ],
          [
           -0.49328562680636967,
           "m",
           1993
          ],
          [
           -0.02276134917723372,
           "m",
           1994
          ],
          [
           1.256242125246437,
           "m",
           1995
          ],
          [
           0.2897071283173179,
           "m",
           1996
          ],
          [
           1.7831385403615518,
           "m",
           1997
          ],
          [
           0.6152879929137196,
           "m",
           1998
          ],
          [
           -1.2745523437976443,
           "m",
           1999
          ],
          [
           -0.24956138170450512,
           "m",
           2000
          ],
          [
           0.2080027237962454,
           "m",
           2001
          ],
          [
           -0.45094172235368013,
           "m",
           2002
          ],
          [
           1.2519928659769066,
           "m",
           2003
          ],
          [
           1.2355018110781484,
           "m",
           2004
          ],
          [
           -0.026556455801010827,
           "m",
           2005
          ],
          [
           0.2541490672184288,
           "m",
           2006
          ],
          [
           0.17971029376911563,
           "m",
           2007
          ],
          [
           1.3913196431667914,
           "m",
           2008
          ],
          [
           0.2216899631165253,
           "m",
           2009
          ],
          [
           -0.127053806158004,
           "m",
           2010
          ],
          [
           0.05136531824102925,
           "m",
           2011
          ],
          [
           -0.1972661086051497,
           "m",
           2012
          ],
          [
           0.3054426745549231,
           "m",
           2013
          ],
          [
           0.9799883469355436,
           "m",
           2014
          ],
          [
           0.16065663442106323,
           "m",
           2015
          ],
          [
           0.5295521141482559,
           "m",
           2016
          ],
          [
           -0.06631914358825476,
           "m",
           2017
          ],
          [
           0.07181072198328975,
           "m",
           2018
          ],
          [
           0.5340131603588193,
           "m",
           2019
          ],
          [
           0.3757761815047406,
           "m",
           2020
          ],
          [
           0.1330503417143593,
           "m",
           2021
          ],
          [
           -0.3800544996543321,
           "m",
           2022
          ],
          [
           0.665778274295416,
           "m",
           2023
          ]
         ],
         "hovertemplate": "day=%{customdata[1]}<br>risk=%{x}<br>return=%{y}<br>sortino=%{customdata[0]}<br>year=%{customdata[2]}<extra></extra>",
         "legendgroup": "m",
         "marker": {
          "color": "#636efa",
          "symbol": "circle"
         },
         "mode": "markers",
         "name": "m",
         "orientation": "v",
         "showlegend": true,
         "type": "scatter",
         "x": [
          0.35833616402398966,
          0.6109849220432586,
          0.2660308591186156,
          0.40631713446171,
          0.7434352461376635,
          0.8288480634629992,
          0.4458989225065712,
          0.18630469746844192,
          0.27012183069262546,
          0.4152540472670593,
          0.3996263903376975,
          0.23499842906613327,
          0.6862145582397324,
          0.13527112322009782,
          1.1240589489125163,
          0.36145850718058237,
          1.2186925401055781,
          0.6680404985089967,
          1.030747733114354,
          1.0667271986799876,
          0.8916026818931811,
          0.5524307735971529,
          0.3748128927527966,
          0.4184087140799689,
          0.26838522106596696,
          1.2246427930338195,
          1.656133241825184,
          0.7149551160278081,
          0.8809269040917673,
          0.8768996151575146,
          0.5404972564472205,
          0.44701613250558636,
          0.33694344639600127,
          0.89171791081401,
          0.3346357236703697,
          0.44184567889333837,
          0.8656497733884271,
          0.3511844154140839,
          1.5289346254725191,
          0.3187687107184724,
          0.5955064177048942,
          0.8124818320772088
         ],
         "xaxis": "x",
         "y": [
          0.3870038665556369,
          0.27742959142909634,
          0.2915601656673545,
          0.16160015269209066,
          -0.18940960824296463,
          0.7730240012017504,
          0.28131443905663095,
          0.2258911443654817,
          0.3722925060189438,
          -0.08032272639142637,
          -0.0012024967039997126,
          -0.11592134738039975,
          -0.015619169170595734,
          0.16993328331848837,
          0.32564789014882783,
          0.6445305948952491,
          0.7498468869804839,
          -0.8514525831263884,
          -0.25723482846480467,
          0.22188216287297605,
          -0.4020608490280715,
          0.6916393874897391,
          0.46308200781152,
          -0.01111145252222247,
          0.0682098535891273,
          0.22008091609833796,
          2.3042107110528764,
          0.15849837330217587,
          -0.11192511611184597,
          0.045042227798001815,
          -0.10662179049110285,
          0.13653780308170418,
          0.33020065104438223,
          0.14326039840436067,
          0.17720705493917582,
          -0.029302827022377215,
          0.062162935211694116,
          0.18753709954403938,
          0.574537215330444,
          0.04241228588893851,
          -0.22632489362177724,
          0.5409327520567421
         ],
         "yaxis": "y"
        },
        {
         "customdata": [
          [
           -0.41391750865740257,
           "t",
           1982
          ],
          [
           1.1845774105303222,
           "t",
           1983
          ],
          [
           -0.184519960397304,
           "t",
           1984
          ],
          [
           -0.6168096015108332,
           "t",
           1985
          ],
          [
           0.3463539101759053,
           "t",
           1986
          ],
          [
           0.5256243787325372,
           "t",
           1987
          ],
          [
           0.09857285483735874,
           "t",
           1988
          ],
          [
           0.32956563825437424,
           "t",
           1989
          ],
          [
           0.11833051908255414,
           "t",
           1990
          ],
          [
           0.07122335118486682,
           "t",
           1991
          ],
          [
           0.10661840501051553,
           "t",
           1992
          ],
          [
           -0.10350307129916944,
           "t",
           1993
          ],
          [
           0.2644588232327032,
           "t",
           1994
          ],
          [
           0.6386760805658493,
           "t",
           1995
          ],
          [
           0.17434291194768073,
           "t",
           1996
          ],
          [
           -1.538167544213367,
           "t",
           1997
          ],
          [
           0.5802119529062011,
           "t",
           1998
          ],
          [
           0.7269370672022355,
           "t",
           1999
          ],
          [
           -0.19739018855605722,
           "t",
           2000
          ],
          [
           -0.6652187967564277,
           "t",
           2001
          ],
          [
           0.7687296116951254,
           "t",
           2002
          ],
          [
           -0.3356134745871225,
           "t",
           2003
          ],
          [
           0.31803611219892347,
           "t",
           2004
          ],
          [
           0.3354237644124255,
           "t",
           2005
          ],
          [
           0.5193974194516323,
           "t",
           2006
          ],
          [
           1.1455450788155153,
           "t",
           2007
          ],
          [
           -0.04913136017850054,
           "t",
           2008
          ],
          [
           0.22981927079096998,
           "t",
           2009
          ],
          [
           0.7219985584752042,
           "t",
           2010
          ],
          [
           0.13266615884245406,
           "t",
           2011
          ],
          [
           -0.19116418989616799,
           "t",
           2012
          ],
          [
           0.2811437243126825,
           "t",
           2013
          ],
          [
           0.6101292940671451,
           "t",
           2014
          ],
          [
           -0.16250678871773708,
           "t",
           2015
          ],
          [
           0.7040877957955979,
           "t",
           2016
          ],
          [
           0.38027191578626995,
           "t",
           2017
          ],
          [
           -0.2856245858684322,
           "t",
           2018
          ],
          [
           -0.2675506817989712,
           "t",
           2019
          ],
          [
           0.3729694583120421,
           "t",
           2020
          ],
          [
           -0.01182701414469072,
           "t",
           2021
          ],
          [
           -0.14560527673887486,
           "t",
           2022
          ],
          [
           -0.5888461104205656,
           "t",
           2023
          ]
         ],
         "hovertemplate": "day=%{customdata[1]}<br>risk=%{x}<br>return=%{y}<br>sortino=%{customdata[0]}<br>year=%{customdata[2]}<extra></extra>",
         "legendgroup": "t",
         "marker": {
          "color": "#EF553B",
          "symbol": "circle"
         },
         "mode": "markers",
         "name": "t",
         "orientation": "v",
         "showlegend": true,
         "type": "scatter",
         "x": [
          0.5403830861494606,
          0.23535154286565638,
          0.44826818212906144,
          0.3407896509772406,
          0.7280575279397232,
          0.26173779041432976,
          0.9161562352438882,
          0.5336488259014917,
          0.6493772622539478,
          0.39827964676306193,
          0.4149154889002336,
          0.2900972325941714,
          0.394580800704134,
          0.36184486078063866,
          0.4832928773192265,
          0.316456678694488,
          0.44489528447767673,
          0.5790317334064705,
          0.8951431922971504,
          0.6746231207438437,
          0.8739016549527031,
          0.527978382430697,
          0.5626564268120383,
          0.3867397180013862,
          0.604307641305464,
          0.4591784249652218,
          2.598794339311759,
          0.7650781510561682,
          0.6978104914060134,
          0.9354306976191797,
          0.36914313475689625,
          0.4673952353311817,
          0.6000646015578398,
          0.4475926784735009,
          0.2557093920095234,
          0.303401878714508,
          0.8446787385438196,
          0.3496018811695113,
          0.642699720763537,
          0.6731311300369909,
          0.7719726600663339,
          0.45746668744716773
         ],
         "xaxis": "x",
         "y": [
          -0.22367402073958328,
          0.27879212121211533,
          -0.08271442721382588,
          -0.2102023288182877,
          0.25216557163492653,
          0.13757576347735911,
          0.09030813558503688,
          0.17587231591192254,
          0.07684114852291753,
          0.028366811151190267,
          0.04423762764070117,
          -0.030025954548886267,
          0.10435037422443307,
          0.2311016574562737,
          0.08425868755540716,
          -0.4867633923174192,
          0.2581335618455527,
          0.4209196300995264,
          -0.1766924835122055,
          -0.44877198064528595,
          0.671794079871519,
          -0.17719665943445476,
          0.1789450624870388,
          0.12972169205982484,
          0.31387582944896064,
          0.5260095850171692,
          -0.12768230071457437,
          0.17582970277383214,
          0.5038181688840155,
          0.1240999975164537,
          -0.07056694831153404,
          0.1314052371870111,
          0.36611699174316753,
          -0.07273684883229924,
          0.1800418621842178,
          0.11537521367191948,
          -0.2412610148884482,
          -0.09353622166510565,
          0.2397073667104771,
          -0.00796113139617914,
          -0.11240329280380391,
          -0.26937747955024527
         ],
         "yaxis": "y"
        },
        {
         "customdata": [
          [
           -0.45545231307781936,
           "w",
           1982
          ],
          [
           0.09744972134714282,
           "w",
           1983
          ],
          [
           -0.053606378088904776,
           "w",
           1984
          ],
          [
           0.2091645245352071,
           "w",
           1985
          ],
          [
           0.060085635554582066,
           "w",
           1986
          ],
          [
           0.28750307564514216,
           "w",
           1987
          ],
          [
           0.09139628419302621,
           "w",
           1988
          ],
          [
           -0.47473702286622477,
           "w",
           1989
          ],
          [
           -0.729805769573167,
           "w",
           1990
          ],
          [
           0.333951607730293,
           "w",
           1991
          ],
          [
           0.20196071897956328,
           "w",
           1992
          ],
          [
           -0.47698532439831676,
           "w",
           1993
          ],
          [
           0.10430187566643934,
           "w",
           1994
          ],
          [
           0.1182305419355488,
           "w",
           1995
          ],
          [
           0.026304337257765573,
           "w",
           1996
          ],
          [
           -0.6695524531074074,
           "w",
           1997
          ],
          [
           -0.7644986332941022,
           "w",
           1998
          ],
          [
           0.46904055942315453,
           "w",
           1999
          ],
          [
           0.5701451962264183,
           "w",
           2000
          ],
          [
           0.3080614613273209,
           "w",
           2001
          ],
          [
           -0.0501493677762654,
           "w",
           2002
          ],
          [
           0.6478853029037339,
           "w",
           2003
          ],
          [
           0.08849227285529891,
           "w",
           2004
          ],
          [
           0.4668001763627812,
           "w",
           2005
          ],
          [
           0.1541045919863577,
           "w",
           2006
          ],
          [
           0.2520026675264997,
           "w",
           2007
          ],
          [
           0.09583859071916974,
           "w",
           2008
          ],
          [
           1.230215121642681,
           "w",
           2009
          ],
          [
           0.050217201798804026,
           "w",
           2010
          ],
          [
           0.29004093015466503,
           "w",
           2011
          ],
          [
           -0.03733145130908288,
           "w",
           2012
          ],
          [
           0.41674433600102717,
           "w",
           2013
          ],
          [
           0.5940791425004912,
           "w",
           2014
          ],
          [
           0.19442286797711755,
           "w",
           2015
          ],
          [
           0.267596413432566,
           "w",
           2016
          ],
          [
           0.13988539462573102,
           "w",
           2017
          ],
          [
           -0.24325359858558632,
           "w",
           2018
          ],
          [
           0.4131210484855047,
           "w",
           2019
          ],
          [
           0.3508853246143979,
           "w",
           2020
          ],
          [
           0.4067562598929959,
           "w",
           2021
          ],
          [
           0.08233773372167445,
           "w",
           2022
          ],
          [
           -0.08051575058375855,
           "w",
           2023
          ]
         ],
         "hovertemplate": "day=%{customdata[1]}<br>risk=%{x}<br>return=%{y}<br>sortino=%{customdata[0]}<br>year=%{customdata[2]}<extra></extra>",
         "legendgroup": "w",
         "marker": {
          "color": "#00cc96",
          "symbol": "circle"
         },
         "mode": "markers",
         "name": "w",
         "orientation": "v",
         "showlegend": true,
         "type": "scatter",
         "x": [
          0.38519641875460375,
          0.4049441354613079,
          0.4446327643430675,
          0.3673437188659781,
          1.632097324548341,
          0.8457501320790342,
          0.6273835234421451,
          0.5584765478794167,
          0.7051895346055486,
          0.4596654366988037,
          0.24799680130570936,
          0.314890283059375,
          0.5200227274516118,
          0.4858088773887826,
          0.4898426185115176,
          0.5517843024186038,
          1.0628238013308393,
          0.5567371609833506,
          0.7530350724526621,
          1.0202656591720158,
          0.9830788447088066,
          0.5108245066314402,
          0.5292590872359575,
          0.39756138623328136,
          0.4541730739931935,
          0.6212137530031147,
          2.588849107946178,
          0.5810144986425498,
          1.2577228061744226,
          1.005393005801722,
          0.6611964063662336,
          0.6544034233107091,
          0.5660651469422181,
          0.6127388310618025,
          0.6639915816576195,
          0.4129988681509224,
          0.994692013716257,
          0.3201354636816139,
          1.4996837520099349,
          0.6174510771924745,
          0.6882430943644872,
          0.48694506783448377
         ],
         "xaxis": "x",
         "y": [
          -0.1754385999110766,
          0.03946169316186411,
          -0.023835152076089373,
          0.0768352742975971,
          0.09806560503242007,
          0.2431557642000075,
          0.057340522806540416,
          -0.2651294936808809,
          -0.5146513909977458,
          0.1535060116036127,
          0.05008561229633296,
          -0.15019804381495377,
          0.05423934586238069,
          0.05743744685077635,
          0.012884985440553961,
          -0.36944853327053573,
          -0.812527343549869,
          0.2611323094392896,
          0.42933932914889816,
          0.3143045299066135,
          -0.04930078253636804,
          0.33095569020956106,
          0.0468353395588308,
          0.1855817252087275,
          0.06999015625891093,
          0.15654752286093299,
          0.2481116500901414,
          0.7147728221237059,
          0.06315931996461906,
          0.291605122573726,
          -0.024683421450001623,
          0.27271892012442056,
          0.3362874970948475,
          0.11913044085598216,
          0.17768176580099576,
          0.05777250965127203,
          -0.2419624118208229,
          0.13225469841354154,
          0.5262170201429442,
          0.25115209082571244,
          0.05666837663956441,
          -0.03920674762975269
         ],
         "yaxis": "y"
        },
        {
         "customdata": [
          [
           -0.535456695533695,
           "th",
           1982
          ],
          [
           0.23582485591391372,
           "th",
           1983
          ],
          [
           -0.6018879536071827,
           "th",
           1984
          ],
          [
           -0.6703095317322701,
           "th",
           1985
          ],
          [
           -0.04948524550794374,
           "th",
           1986
          ],
          [
           -0.02563266041611535,
           "th",
           1987
          ],
          [
           0.5091471391738401,
           "th",
           1988
          ],
          [
           0.06086934395421432,
           "th",
           1989
          ],
          [
           -0.13904510379182608,
           "th",
           1990
          ],
          [
           -0.06501532803497931,
           "th",
           1991
          ],
          [
           0.12003758793937815,
           "th",
           1992
          ],
          [
           -0.2847200518880252,
           "th",
           1993
          ],
          [
           0.29594545253855664,
           "th",
           1994
          ],
          [
           0.12931124549537998,
           "th",
           1995
          ],
          [
           -1.5041735716820963,
           "th",
           1996
          ],
          [
           -0.20002471948224892,
           "th",
           1997
          ],
          [
           0.2682152100077206,
           "th",
           1998
          ],
          [
           -0.3485957381675945,
           "th",
           1999
          ],
          [
           -0.1989691271657101,
           "th",
           2000
          ],
          [
           -0.013997695759482008,
           "th",
           2001
          ],
          [
           0.15039422675200115,
           "th",
           2002
          ],
          [
           1.625362465775728,
           "th",
           2003
          ],
          [
           -0.46512514804202876,
           "th",
           2004
          ],
          [
           0.25135569321253076,
           "th",
           2005
          ],
          [
           0.016647478095717233,
           "th",
           2006
          ],
          [
           0.36675519183402117,
           "th",
           2007
          ],
          [
           -4.804147990611677,
           "th",
           2008
          ],
          [
           -0.10750442077397494,
           "th",
           2009
          ],
          [
           -0.06673295525691393,
           "th",
           2010
          ],
          [
           -0.03631326691134418,
           "th",
           2011
          ],
          [
           0.21165881843249149,
           "th",
           2012
          ],
          [
           1.6417750711717294,
           "th",
           2013
          ],
          [
           0.1820263451057856,
           "th",
           2014
          ],
          [
           -0.12103537963765944,
           "th",
           2015
          ],
          [
           0.14110419777179165,
           "th",
           2016
          ],
          [
           0.09856500633708967,
           "th",
           2017
          ],
          [
           0.06837412682850089,
           "th",
           2018
          ],
          [
           0.5314029282936306,
           "th",
           2019
          ],
          [
           0.8623299519094529,
           "th",
           2020
          ],
          [
           -0.19490319243219684,
           "th",
           2021
          ],
          [
           0.12074744999509449,
           "th",
           2022
          ],
          [
           0.6587288412236124,
           "th",
           2023
          ]
         ],
         "hovertemplate": "day=%{customdata[1]}<br>risk=%{x}<br>return=%{y}<br>sortino=%{customdata[0]}<br>year=%{customdata[2]}<extra></extra>",
         "legendgroup": "th",
         "marker": {
          "color": "#ab63fa",
          "symbol": "circle"
         },
         "mode": "markers",
         "name": "th",
         "orientation": "v",
         "showlegend": true,
         "type": "scatter",
         "x": [
          0.43214531380558013,
          0.4450611126899765,
          0.3541295474011837,
          0.19028638953217988,
          0.657589532886859,
          1.486615495117231,
          0.5428668722766353,
          1.9336312240238303,
          0.5621975314321935,
          0.9328402110703569,
          0.36056267603929587,
          0.45868886273126747,
          0.6111721110793363,
          0.2629688708395349,
          0.10655043917975328,
          0.7264338734651823,
          0.7258571317006998,
          0.6833381607099123,
          1.5433463971734185,
          0.8586968467768348,
          0.9814022536566892,
          0.3648531798596994,
          0.44916429960427284,
          0.4414554015634838,
          0.3250361380899792,
          0.5458588022844935,
          0.466756452491448,
          0.8974667358708623,
          0.7721021894821419,
          0.9116438524292005,
          0.7888061677460286,
          0.29633149417771804,
          0.5961507830353497,
          0.8912413378546729,
          0.5701754813139781,
          0.11638723541852945,
          0.7656503642429017,
          0.7224981314101901,
          0.442002121243347,
          0.36970327949804915,
          0.784883736094537,
          0.5018172949350578
         ],
         "xaxis": "x",
         "y": [
          -0.2313951017207076,
          0.10495647277299983,
          -0.21314630859713626,
          -0.12755078066233985,
          -0.03254097947836026,
          -0.03810591015567517,
          0.27639911497189934,
          0.11769886405571496,
          -0.07817081410949775,
          -0.060648912326958584,
          0.04328107393272449,
          -0.13059791679730573,
          0.1808736069923192,
          0.03400483221477397,
          -0.16027035466530545,
          -0.1453047317622766,
          0.1946859230147049,
          -0.23820877055075818,
          -0.30707828555993844,
          -0.012019777210808671,
          0.14759723307136907,
          0.5930186640628762,
          -0.20891761134863157,
          0.11096232848240561,
          0.005411031989169451,
          0.20019654974613843,
          -2.2423670733418244,
          -0.09648164160370702,
          -0.05152466086447706,
          -0.03310476654134762,
          0.1669577814373861,
          0.48650965994404793,
          0.10851514816787688,
          -0.10787173367601582,
          0.08045415387995405,
          0.011471708596583703,
          0.05235067511103206,
          0.3839376227180514,
          0.3811516679556516,
          -0.07205634942682253,
          0.09477270967603804,
          0.3305615251985384
         ],
         "yaxis": "y"
        },
        {
         "customdata": [
          [
           0.19107495995655824,
           "f",
           1982
          ],
          [
           -0.014640470700899183,
           "f",
           1983
          ],
          [
           -0.5902182479003582,
           "f",
           1984
          ],
          [
           -0.04977816668982229,
           "f",
           1985
          ],
          [
           0.5951016359226062,
           "f",
           1986
          ],
          [
           -0.1025653324846233,
           "f",
           1987
          ],
          [
           -0.3383476742412269,
           "f",
           1988
          ],
          [
           0.004948292537747673,
           "f",
           1989
          ],
          [
           0.24068566808236655,
           "f",
           1990
          ],
          [
           0.0757257741427512,
           "f",
           1991
          ],
          [
           0.5885119515624274,
           "f",
           1992
          ],
          [
           0.7134714419759242,
           "f",
           1993
          ],
          [
           -0.28498319372314557,
           "f",
           1994
          ],
          [
           0.026755940395314405,
           "f",
           1995
          ],
          [
           -1.2471820453866613,
           "f",
           1996
          ],
          [
           0.14118869849545912,
           "f",
           1997
          ],
          [
           0.006067288276601962,
           "f",
           1998
          ],
          [
           0.033256826441959104,
           "f",
           1999
          ],
          [
           -0.019863085972017747,
           "f",
           2000
          ],
          [
           0.2670237539636021,
           "f",
           2001
          ],
          [
           -0.37057212517129967,
           "f",
           2002
          ],
          [
           0.4224752759154239,
           "f",
           2003
          ],
          [
           0.23395461036126194,
           "f",
           2004
          ],
          [
           1.4232402917550804,
           "f",
           2005
          ],
          [
           0.19004423366986511,
           "f",
           2006
          ],
          [
           -0.23490278899935194,
           "f",
           2007
          ],
          [
           -0.4826801501579748,
           "f",
           2008
          ],
          [
           0.31179759028100157,
           "f",
           2009
          ],
          [
           0.7324443938557378,
           "f",
           2010
          ],
          [
           0.013012986473729518,
           "f",
           2011
          ],
          [
           -0.046061032956380046,
           "f",
           2012
          ],
          [
           0.13986574319015926,
           "f",
           2013
          ],
          [
           -0.05514979846125513,
           "f",
           2014
          ],
          [
           0.2754802158454463,
           "f",
           2015
          ],
          [
           0.313887441151677,
           "f",
           2016
          ],
          [
           0.48031500118494397,
           "f",
           2017
          ],
          [
           -0.5357262066156825,
           "f",
           2018
          ],
          [
           0.08285010144210768,
           "f",
           2019
          ],
          [
           0.4955597423404517,
           "f",
           2020
          ],
          [
           0.2953310017133038,
           "f",
           2021
          ],
          [
           -0.17809843905992595,
           "f",
           2022
          ],
          [
           3.6938632325326353,
           "f",
           2023
          ]
         ],
         "hovertemplate": "day=%{customdata[1]}<br>risk=%{x}<br>return=%{y}<br>sortino=%{customdata[0]}<br>year=%{customdata[2]}<extra></extra>",
         "legendgroup": "f",
         "marker": {
          "color": "#FFA15A",
          "symbol": "circle"
         },
         "mode": "markers",
         "name": "f",
         "orientation": "v",
         "showlegend": true,
         "type": "scatter",
         "x": [
          1.3490245145226423,
          0.8207202168904504,
          0.39884760992159934,
          0.32948103463461237,
          0.61152474371265,
          5.265607487138332,
          0.5543987435815173,
          0.6036882749920526,
          0.9098430614952275,
          0.7394331399332396,
          0.3134378990724218,
          0.2762413210790854,
          0.354970466518188,
          0.5140981325611846,
          0.3114887770426488,
          2.625100921369574,
          2.418046006868716,
          0.8367392858198602,
          0.7379934101395014,
          1.1601395129618475,
          1.0133573236350977,
          0.7876684050960024,
          0.5021679998596457,
          0.19882597733067195,
          0.4211160595307385,
          0.42211680684921776,
          0.7005894994314495,
          1.3404330095591415,
          0.5630889881843634,
          1.8459870748356888,
          0.32920676107873464,
          0.7363797334129148,
          0.6662002884450126,
          1.134823352066041,
          0.4639431210140745,
          0.2138799033722894,
          0.8806932338448554,
          0.6243831260235991,
          0.9541173756617061,
          0.3235260396583554,
          0.8927126633885731,
          0.08363904293888316
         ],
         "xaxis": "x",
         "y": [
          0.2577648050928293,
          -0.012015730289020261,
          -0.23540713750717185,
          -0.016400961863176845,
          0.3639193753905505,
          -0.5400687826518648,
          -0.1875795254930647,
          0.0029872261862689386,
          0.21898618510608456,
          0.055994146948249834,
          0.18446194967673812,
          0.19709029368362932,
          -0.10116061722574812,
          0.0137551789921495,
          -0.38848321006704045,
          0.3706345825074008,
          0.01467098218975875,
          0.027827293205679907,
          -0.014658826552383469,
          0.30978480787257756,
          -0.3755219769773586,
          0.3327704267727955,
          0.11748451874305764,
          0.28297714198459456,
          0.0800306788195925,
          -0.099156415212382,
          -0.33816064478467245,
          0.41794378231365104,
          0.4124313726375367,
          0.024021804835516337,
          -0.015163603471510727,
          0.10299429868396869,
          -0.03674081164257248,
          0.31262138197360584,
          0.14562591909503067,
          0.10272972604169689,
          -0.4718104453598026,
          0.05173020532979549,
          0.472822160845463,
          0.09554726937264015,
          -0.158990731878534,
          0.30895118551615885
         ],
         "yaxis": "y"
        }
       ],
       "layout": {
        "legend": {
         "title": {
          "text": "day"
         },
         "tracegroupgap": 0
        },
        "template": {
         "data": {
          "bar": [
           {
            "error_x": {
             "color": "#2a3f5f"
            },
            "error_y": {
             "color": "#2a3f5f"
            },
            "marker": {
             "line": {
              "color": "#E5ECF6",
              "width": 0.5
             },
             "pattern": {
              "fillmode": "overlay",
              "size": 10,
              "solidity": 0.2
             }
            },
            "type": "bar"
           }
          ],
          "barpolar": [
           {
            "marker": {
             "line": {
              "color": "#E5ECF6",
              "width": 0.5
             },
             "pattern": {
              "fillmode": "overlay",
              "size": 10,
              "solidity": 0.2
             }
            },
            "type": "barpolar"
           }
          ],
          "carpet": [
           {
            "aaxis": {
             "endlinecolor": "#2a3f5f",
             "gridcolor": "white",
             "linecolor": "white",
             "minorgridcolor": "white",
             "startlinecolor": "#2a3f5f"
            },
            "baxis": {
             "endlinecolor": "#2a3f5f",
             "gridcolor": "white",
             "linecolor": "white",
             "minorgridcolor": "white",
             "startlinecolor": "#2a3f5f"
            },
            "type": "carpet"
           }
          ],
          "choropleth": [
           {
            "colorbar": {
             "outlinewidth": 0,
             "ticks": ""
            },
            "type": "choropleth"
           }
          ],
          "contour": [
           {
            "colorbar": {
             "outlinewidth": 0,
             "ticks": ""
            },
            "colorscale": [
             [
              0,
              "#0d0887"
             ],
             [
              0.1111111111111111,
              "#46039f"
             ],
             [
              0.2222222222222222,
              "#7201a8"
             ],
             [
              0.3333333333333333,
              "#9c179e"
             ],
             [
              0.4444444444444444,
              "#bd3786"
             ],
             [
              0.5555555555555556,
              "#d8576b"
             ],
             [
              0.6666666666666666,
              "#ed7953"
             ],
             [
              0.7777777777777778,
              "#fb9f3a"
             ],
             [
              0.8888888888888888,
              "#fdca26"
             ],
             [
              1,
              "#f0f921"
             ]
            ],
            "type": "contour"
           }
          ],
          "contourcarpet": [
           {
            "colorbar": {
             "outlinewidth": 0,
             "ticks": ""
            },
            "type": "contourcarpet"
           }
          ],
          "heatmap": [
           {
            "colorbar": {
             "outlinewidth": 0,
             "ticks": ""
            },
            "colorscale": [
             [
              0,
              "#0d0887"
             ],
             [
              0.1111111111111111,
              "#46039f"
             ],
             [
              0.2222222222222222,
              "#7201a8"
             ],
             [
              0.3333333333333333,
              "#9c179e"
             ],
             [
              0.4444444444444444,
              "#bd3786"
             ],
             [
              0.5555555555555556,
              "#d8576b"
             ],
             [
              0.6666666666666666,
              "#ed7953"
             ],
             [
              0.7777777777777778,
              "#fb9f3a"
             ],
             [
              0.8888888888888888,
              "#fdca26"
             ],
             [
              1,
              "#f0f921"
             ]
            ],
            "type": "heatmap"
           }
          ],
          "heatmapgl": [
           {
            "colorbar": {
             "outlinewidth": 0,
             "ticks": ""
            },
            "colorscale": [
             [
              0,
              "#0d0887"
             ],
             [
              0.1111111111111111,
              "#46039f"
             ],
             [
              0.2222222222222222,
              "#7201a8"
             ],
             [
              0.3333333333333333,
              "#9c179e"
             ],
             [
              0.4444444444444444,
              "#bd3786"
             ],
             [
              0.5555555555555556,
              "#d8576b"
             ],
             [
              0.6666666666666666,
              "#ed7953"
             ],
             [
              0.7777777777777778,
              "#fb9f3a"
             ],
             [
              0.8888888888888888,
              "#fdca26"
             ],
             [
              1,
              "#f0f921"
             ]
            ],
            "type": "heatmapgl"
           }
          ],
          "histogram": [
           {
            "marker": {
             "pattern": {
              "fillmode": "overlay",
              "size": 10,
              "solidity": 0.2
             }
            },
            "type": "histogram"
           }
          ],
          "histogram2d": [
           {
            "colorbar": {
             "outlinewidth": 0,
             "ticks": ""
            },
            "colorscale": [
             [
              0,
              "#0d0887"
             ],
             [
              0.1111111111111111,
              "#46039f"
             ],
             [
              0.2222222222222222,
              "#7201a8"
             ],
             [
              0.3333333333333333,
              "#9c179e"
             ],
             [
              0.4444444444444444,
              "#bd3786"
             ],
             [
              0.5555555555555556,
              "#d8576b"
             ],
             [
              0.6666666666666666,
              "#ed7953"
             ],
             [
              0.7777777777777778,
              "#fb9f3a"
             ],
             [
              0.8888888888888888,
              "#fdca26"
             ],
             [
              1,
              "#f0f921"
             ]
            ],
            "type": "histogram2d"
           }
          ],
          "histogram2dcontour": [
           {
            "colorbar": {
             "outlinewidth": 0,
             "ticks": ""
            },
            "colorscale": [
             [
              0,
              "#0d0887"
             ],
             [
              0.1111111111111111,
              "#46039f"
             ],
             [
              0.2222222222222222,
              "#7201a8"
             ],
             [
              0.3333333333333333,
              "#9c179e"
             ],
             [
              0.4444444444444444,
              "#bd3786"
             ],
             [
              0.5555555555555556,
              "#d8576b"
             ],
             [
              0.6666666666666666,
              "#ed7953"
             ],
             [
              0.7777777777777778,
              "#fb9f3a"
             ],
             [
              0.8888888888888888,
              "#fdca26"
             ],
             [
              1,
              "#f0f921"
             ]
            ],
            "type": "histogram2dcontour"
           }
          ],
          "mesh3d": [
           {
            "colorbar": {
             "outlinewidth": 0,
             "ticks": ""
            },
            "type": "mesh3d"
           }
          ],
          "parcoords": [
           {
            "line": {
             "colorbar": {
              "outlinewidth": 0,
              "ticks": ""
             }
            },
            "type": "parcoords"
           }
          ],
          "pie": [
           {
            "automargin": true,
            "type": "pie"
           }
          ],
          "scatter": [
           {
            "fillpattern": {
             "fillmode": "overlay",
             "size": 10,
             "solidity": 0.2
            },
            "type": "scatter"
           }
          ],
          "scatter3d": [
           {
            "line": {
             "colorbar": {
              "outlinewidth": 0,
              "ticks": ""
             }
            },
            "marker": {
             "colorbar": {
              "outlinewidth": 0,
              "ticks": ""
             }
            },
            "type": "scatter3d"
           }
          ],
          "scattercarpet": [
           {
            "marker": {
             "colorbar": {
              "outlinewidth": 0,
              "ticks": ""
             }
            },
            "type": "scattercarpet"
           }
          ],
          "scattergeo": [
           {
            "marker": {
             "colorbar": {
              "outlinewidth": 0,
              "ticks": ""
             }
            },
            "type": "scattergeo"
           }
          ],
          "scattergl": [
           {
            "marker": {
             "colorbar": {
              "outlinewidth": 0,
              "ticks": ""
             }
            },
            "type": "scattergl"
           }
          ],
          "scattermapbox": [
           {
            "marker": {
             "colorbar": {
              "outlinewidth": 0,
              "ticks": ""
             }
            },
            "type": "scattermapbox"
           }
          ],
          "scatterpolar": [
           {
            "marker": {
             "colorbar": {
              "outlinewidth": 0,
              "ticks": ""
             }
            },
            "type": "scatterpolar"
           }
          ],
          "scatterpolargl": [
           {
            "marker": {
             "colorbar": {
              "outlinewidth": 0,
              "ticks": ""
             }
            },
            "type": "scatterpolargl"
           }
          ],
          "scatterternary": [
           {
            "marker": {
             "colorbar": {
              "outlinewidth": 0,
              "ticks": ""
             }
            },
            "type": "scatterternary"
           }
          ],
          "surface": [
           {
            "colorbar": {
             "outlinewidth": 0,
             "ticks": ""
            },
            "colorscale": [
             [
              0,
              "#0d0887"
             ],
             [
              0.1111111111111111,
              "#46039f"
             ],
             [
              0.2222222222222222,
              "#7201a8"
             ],
             [
              0.3333333333333333,
              "#9c179e"
             ],
             [
              0.4444444444444444,
              "#bd3786"
             ],
             [
              0.5555555555555556,
              "#d8576b"
             ],
             [
              0.6666666666666666,
              "#ed7953"
             ],
             [
              0.7777777777777778,
              "#fb9f3a"
             ],
             [
              0.8888888888888888,
              "#fdca26"
             ],
             [
              1,
              "#f0f921"
             ]
            ],
            "type": "surface"
           }
          ],
          "table": [
           {
            "cells": {
             "fill": {
              "color": "#EBF0F8"
             },
             "line": {
              "color": "white"
             }
            },
            "header": {
             "fill": {
              "color": "#C8D4E3"
             },
             "line": {
              "color": "white"
             }
            },
            "type": "table"
           }
          ]
         },
         "layout": {
          "annotationdefaults": {
           "arrowcolor": "#2a3f5f",
           "arrowhead": 0,
           "arrowwidth": 1
          },
          "autotypenumbers": "strict",
          "coloraxis": {
           "colorbar": {
            "outlinewidth": 0,
            "ticks": ""
           }
          },
          "colorscale": {
           "diverging": [
            [
             0,
             "#8e0152"
            ],
            [
             0.1,
             "#c51b7d"
            ],
            [
             0.2,
             "#de77ae"
            ],
            [
             0.3,
             "#f1b6da"
            ],
            [
             0.4,
             "#fde0ef"
            ],
            [
             0.5,
             "#f7f7f7"
            ],
            [
             0.6,
             "#e6f5d0"
            ],
            [
             0.7,
             "#b8e186"
            ],
            [
             0.8,
             "#7fbc41"
            ],
            [
             0.9,
             "#4d9221"
            ],
            [
             1,
             "#276419"
            ]
           ],
           "sequential": [
            [
             0,
             "#0d0887"
            ],
            [
             0.1111111111111111,
             "#46039f"
            ],
            [
             0.2222222222222222,
             "#7201a8"
            ],
            [
             0.3333333333333333,
             "#9c179e"
            ],
            [
             0.4444444444444444,
             "#bd3786"
            ],
            [
             0.5555555555555556,
             "#d8576b"
            ],
            [
             0.6666666666666666,
             "#ed7953"
            ],
            [
             0.7777777777777778,
             "#fb9f3a"
            ],
            [
             0.8888888888888888,
             "#fdca26"
            ],
            [
             1,
             "#f0f921"
            ]
           ],
           "sequentialminus": [
            [
             0,
             "#0d0887"
            ],
            [
             0.1111111111111111,
             "#46039f"
            ],
            [
             0.2222222222222222,
             "#7201a8"
            ],
            [
             0.3333333333333333,
             "#9c179e"
            ],
            [
             0.4444444444444444,
             "#bd3786"
            ],
            [
             0.5555555555555556,
             "#d8576b"
            ],
            [
             0.6666666666666666,
             "#ed7953"
            ],
            [
             0.7777777777777778,
             "#fb9f3a"
            ],
            [
             0.8888888888888888,
             "#fdca26"
            ],
            [
             1,
             "#f0f921"
            ]
           ]
          },
          "colorway": [
           "#636efa",
           "#EF553B",
           "#00cc96",
           "#ab63fa",
           "#FFA15A",
           "#19d3f3",
           "#FF6692",
           "#B6E880",
           "#FF97FF",
           "#FECB52"
          ],
          "font": {
           "color": "#2a3f5f"
          },
          "geo": {
           "bgcolor": "white",
           "lakecolor": "white",
           "landcolor": "#E5ECF6",
           "showlakes": true,
           "showland": true,
           "subunitcolor": "white"
          },
          "hoverlabel": {
           "align": "left"
          },
          "hovermode": "closest",
          "mapbox": {
           "style": "light"
          },
          "paper_bgcolor": "white",
          "plot_bgcolor": "#E5ECF6",
          "polar": {
           "angularaxis": {
            "gridcolor": "white",
            "linecolor": "white",
            "ticks": ""
           },
           "bgcolor": "#E5ECF6",
           "radialaxis": {
            "gridcolor": "white",
            "linecolor": "white",
            "ticks": ""
           }
          },
          "scene": {
           "xaxis": {
            "backgroundcolor": "#E5ECF6",
            "gridcolor": "white",
            "gridwidth": 2,
            "linecolor": "white",
            "showbackground": true,
            "ticks": "",
            "zerolinecolor": "white"
           },
           "yaxis": {
            "backgroundcolor": "#E5ECF6",
            "gridcolor": "white",
            "gridwidth": 2,
            "linecolor": "white",
            "showbackground": true,
            "ticks": "",
            "zerolinecolor": "white"
           },
           "zaxis": {
            "backgroundcolor": "#E5ECF6",
            "gridcolor": "white",
            "gridwidth": 2,
            "linecolor": "white",
            "showbackground": true,
            "ticks": "",
            "zerolinecolor": "white"
           }
          },
          "shapedefaults": {
           "line": {
            "color": "#2a3f5f"
           }
          },
          "ternary": {
           "aaxis": {
            "gridcolor": "white",
            "linecolor": "white",
            "ticks": ""
           },
           "baxis": {
            "gridcolor": "white",
            "linecolor": "white",
            "ticks": ""
           },
           "bgcolor": "#E5ECF6",
           "caxis": {
            "gridcolor": "white",
            "linecolor": "white",
            "ticks": ""
           }
          },
          "title": {
           "x": 0.05
          },
          "xaxis": {
           "automargin": true,
           "gridcolor": "white",
           "linecolor": "white",
           "ticks": "",
           "title": {
            "standoff": 15
           },
           "zerolinecolor": "white",
           "zerolinewidth": 2
          },
          "yaxis": {
           "automargin": true,
           "gridcolor": "white",
           "linecolor": "white",
           "ticks": "",
           "title": {
            "standoff": 15
           },
           "zerolinecolor": "white",
           "zerolinewidth": 2
          }
         }
        },
        "title": {
         "text": "Risk-Reward Values from 1982 - 2023 given a Negative Trend"
        },
        "xaxis": {
         "anchor": "y",
         "domain": [
          0,
          1
         ],
         "title": {
          "text": "risk"
         }
        },
        "yaxis": {
         "anchor": "x",
         "domain": [
          0,
          1
         ],
         "title": {
          "text": "return"
         }
        }
       }
      }
     },
     "metadata": {},
     "output_type": "display_data"
    }
   ],
   "source": [
    "fig = px.scatter(negative_risk_return_melt, x = 'risk', y='return', \n",
    "                 color='day', hover_data=['risk', 'return', 'sortino','day','year'],\n",
    "                title = 'Risk-Reward Values from 1982 - 2023 given a Negative Trend')\n",
    "fig.write_image('images/risk_return_negative.png')\n",
    "fig.show()"
   ]
  },
  {
   "cell_type": "code",
   "execution_count": 205,
   "id": "f50acb1d-dea1-413d-9433-200210f0a00a",
   "metadata": {},
   "outputs": [
    {
     "name": "stdout",
     "output_type": "stream",
     "text": [
      "             m_m       t_m       w_m      th_m       f_m\n",
      "median  0.165767  0.097329  0.066575  0.008441  0.053862\n",
      "std     0.458089  0.247892  0.265944  0.405337  0.247860\n"
     ]
    }
   ],
   "source": [
    "print(return_.drop(columns='index').agg(['median','std']))"
   ]
  },
  {
   "cell_type": "markdown",
   "id": "6c6d3407-94b2-4c85-b8e4-4bc73ea799f0",
   "metadata": {},
   "source": [
    "Following a negative trend, Monday's offer the greatest return. This beats Tuesday by 6 basis points."
   ]
  },
  {
   "cell_type": "code",
   "execution_count": 206,
   "id": "fe4d22bf-2930-4e33-aaf3-179fee536edb",
   "metadata": {},
   "outputs": [
    {
     "name": "stdout",
     "output_type": "stream",
     "text": [
      "           m_std     t_std     w_std    th_std     f_std\n",
      "median  0.546464  0.505636  0.573540  0.566187  0.645292\n",
      "std     0.363908  0.373040  0.425253  0.366228  0.877651\n"
     ]
    }
   ],
   "source": [
    "print(risk.drop(columns='index').agg(['median','std']))"
   ]
  },
  {
   "cell_type": "markdown",
   "id": "ed6c2cd0-16bc-4baf-ad9f-892f51b854ce",
   "metadata": {},
   "source": [
    "Risk remains relatively close with Tuesday beating out Monday, Thursday, Wednesday and finally Friday."
   ]
  },
  {
   "cell_type": "code",
   "execution_count": 207,
   "id": "50cc8b2f-db96-4af1-a1d6-471fd2c0aa69",
   "metadata": {},
   "outputs": [
    {
     "name": "stdout",
     "output_type": "stream",
     "text": [
      "            m_sr      t_sr      w_sr     th_sr      f_sr\n",
      "median  0.271928  0.153505  0.129058  0.038758  0.079288\n",
      "std     0.633565  0.514120  0.386864  0.918709  0.703409\n"
     ]
    }
   ],
   "source": [
    "print(sortino.drop(columns='index').agg(['median','std']))"
   ]
  },
  {
   "cell_type": "markdown",
   "id": "d48c083d-ae4d-4964-9646-db92c4cdec7a",
   "metadata": {},
   "source": [
    "Investing on Monday given a negative trend offers the greatest return for the smallest risk by a large margin when compared to any other day or trend. Tuesday follows with Wednesday, Friday and finally Thursday. "
   ]
  },
  {
   "cell_type": "markdown",
   "id": "579163c8-0be6-4889-b5a9-fb55364287cd",
   "metadata": {},
   "source": [
    "## Conclusion\n",
    "\n",
    "### The Weekend Effect\n",
    "\n",
    "#### General Analysis\n",
    "\n",
    "The Weekend Effect is generally supported. Friday’s have higher returns than Mondays. Friday also beats every other day with the highest frequency of higher returns when compared to the proceeding day. However, the average return between Friday and Monday is almost negligible when matched.\n",
    "\n",
    "#### Yearly Analysis\n",
    "This changes when comparing data across years. Not only is the weekend effect supported (73% of years with higher returns than Monday) but returns show a significant difference. 72% of Friday returns were higher than Mondays in 2013, leading to a return difference of positive 19 basis points. This compares to negative 40 basis in 2020 when only 42% of Fridays were higher than Mondays.\n",
    "\n",
    "#### Key Takeaways\n",
    "This example highlights a core phenomenon. Higher frequencies of high Friday returns result in a positive gain. However, investing on Monday in a year with a lower frequency of high Friday returns offers a greater gain. Years where Friday returns are less frequent than Monday returns could be correlated to economic turmoil as seen in 2020, 2008 and the early 2000s. Investing on Monday’s during these years would see significant gains. Timing the market is important to the Weekend Effect.\n",
    "\n",
    "### The Monday Effect\n",
    "\n",
    "#### General Analysis\n",
    "\n",
    "The general analysis suggests that the Monday Effect does not exist. Given a positive trend on Friday, only 48.4% of Monday returns were positive. Likewise, only 42% of Monday returns were negative following a negative trend from Friday. Yet, mean return values did match the trend, a trait that is only unique to the Friday and Monday pairing. A positive correlation between return prices supports the Monday Effect, albeit weakly.\n",
    "\n",
    "#### Yearly Analysis\n",
    "\n",
    "Tracking correlation over time would suggest that the Monday Effect may have been more relevant in the 80s. The last few decades provide for weak and varying relationships. \n",
    "\n",
    "#### Key Takeaways\n",
    "Instead, the data supports a stronger relationship between Monday and Tuesday. Tuesday returns that follow a negative Monday average a positive 16 basis points with a general correlation of -.21. Tracking this over the years, 2020 showed a linear negative correlation of 66%. Monday return prices in a year like 2020 could lead to significant insights into how the price on Tuesday would react. More analysis into why this happened is required. \n",
    "\n",
    "\n",
    "### Risk-Reward Analysis\n",
    "\n",
    "When no trend has been established, Friday’s offer the best reward for the risk it gives. This is closely followed by Wednesday which is slightly riskier but offers a little more reward. When a positive trend has already been established, Thursdays and Tuesdays offer the most reward by a significant margin. \n",
    "\n",
    "However, the greatest reward comes whilst investing on a Monday when the previous Friday set a negative trend. This level of reward for risk is double any other combination of trend or day. This is followed by investing on a Tuesday after a Monday positive trend has been set."
   ]
  }
 ],
 "metadata": {
  "kernelspec": {
   "display_name": "Python 3 (ipykernel)",
   "language": "python",
   "name": "python3"
  },
  "language_info": {
   "codemirror_mode": {
    "name": "ipython",
    "version": 3
   },
   "file_extension": ".py",
   "mimetype": "text/x-python",
   "name": "python",
   "nbconvert_exporter": "python",
   "pygments_lexer": "ipython3",
   "version": "3.11.6"
  }
 },
 "nbformat": 4,
 "nbformat_minor": 5
}
